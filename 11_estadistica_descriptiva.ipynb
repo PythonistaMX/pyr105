{
 "cells": [
  {
   "cell_type": "markdown",
   "metadata": {},
   "source": [
    "# Estadística descriptiva."
   ]
  },
  {
   "cell_type": "markdown",
   "metadata": {},
   "source": [
    "## Tipos de datos.\n",
    "\n",
    "* Continuos (```numeric```, ```double```).\n",
    "* Discretos (```integer```).\n",
    "* Categóricos (```factor```).\n",
    "    * Binarios (```logical```).\n",
    "    * Ordinales (```factor``` ordenados)."
   ]
  },
  {
   "cell_type": "markdown",
   "metadata": {},
   "source": [
    "## Métricas descriptivas.\n",
    "\n",
    "* Media.\n",
    "* Mediana.\n",
    "* Desviación estándar.\n",
    "* Varianza.\n",
    "* Cuartiles."
   ]
  },
  {
   "cell_type": "markdown",
   "metadata": {},
   "source": [
    "## La función ```summary()```."
   ]
  },
  {
   "cell_type": "code",
   "execution_count": 1,
   "metadata": {},
   "outputs": [
    {
     "data": {
      "text/html": [
       "<table>\n",
       "<caption>A data.frame: 5 × 10</caption>\n",
       "<thead>\n",
       "\t<tr><th></th><th scope=col>clave</th><th scope=col>fecha</th><th scope=col>estado</th><th scope=col>genero</th><th scope=col>edad</th><th scope=col>trimestre_1</th><th scope=col>trimestre_2</th><th scope=col>trimestre_3</th><th scope=col>trimestre_4</th><th scope=col>trimestre_5</th></tr>\n",
       "\t<tr><th></th><th scope=col>&lt;dbl&gt;</th><th scope=col>&lt;date&gt;</th><th scope=col>&lt;fct&gt;</th><th scope=col>&lt;fct&gt;</th><th scope=col>&lt;dbl&gt;</th><th scope=col>&lt;dbl&gt;</th><th scope=col>&lt;dbl&gt;</th><th scope=col>&lt;dbl&gt;</th><th scope=col>&lt;dbl&gt;</th><th scope=col>&lt;dbl&gt;</th></tr>\n",
       "</thead>\n",
       "<tbody>\n",
       "\t<tr><th scope=row>A</th><td>1</td><td>2020-11-23</td><td>CDMX</td><td>M</td><td>32</td><td>5</td><td>4</td><td>5</td><td> 5</td><td> 5</td></tr>\n",
       "\t<tr><th scope=row>B</th><td>2</td><td>2020-11-12</td><td>NL  </td><td>F</td><td>45</td><td>3</td><td>5</td><td>2</td><td> 5</td><td> 5</td></tr>\n",
       "\t<tr><th scope=row>C</th><td>3</td><td>2020-11-20</td><td>CDMX</td><td>F</td><td>25</td><td>3</td><td>5</td><td>5</td><td> 5</td><td> 2</td></tr>\n",
       "\t<tr><th scope=row>D</th><td>4</td><td>2020-11-07</td><td>JAL </td><td>M</td><td>39</td><td>3</td><td>3</td><td>4</td><td>NA</td><td>NA</td></tr>\n",
       "\t<tr><th scope=row>E</th><td>5</td><td>2020-11-22</td><td>NL  </td><td>F</td><td>99</td><td>2</td><td>2</td><td>1</td><td> 2</td><td> 1</td></tr>\n",
       "</tbody>\n",
       "</table>\n"
      ],
      "text/latex": [
       "A data.frame: 5 × 10\n",
       "\\begin{tabular}{r|llllllllll}\n",
       "  & clave & fecha & estado & genero & edad & trimestre\\_1 & trimestre\\_2 & trimestre\\_3 & trimestre\\_4 & trimestre\\_5\\\\\n",
       "  & <dbl> & <date> & <fct> & <fct> & <dbl> & <dbl> & <dbl> & <dbl> & <dbl> & <dbl>\\\\\n",
       "\\hline\n",
       "\tA & 1 & 2020-11-23 & CDMX & M & 32 & 5 & 4 & 5 &  5 &  5\\\\\n",
       "\tB & 2 & 2020-11-12 & NL   & F & 45 & 3 & 5 & 2 &  5 &  5\\\\\n",
       "\tC & 3 & 2020-11-20 & CDMX & F & 25 & 3 & 5 & 5 &  5 &  2\\\\\n",
       "\tD & 4 & 2020-11-07 & JAL  & M & 39 & 3 & 3 & 4 & NA & NA\\\\\n",
       "\tE & 5 & 2020-11-22 & NL   & F & 99 & 2 & 2 & 1 &  2 &  1\\\\\n",
       "\\end{tabular}\n"
      ],
      "text/markdown": [
       "\n",
       "A data.frame: 5 × 10\n",
       "\n",
       "| <!--/--> | clave &lt;dbl&gt; | fecha &lt;date&gt; | estado &lt;fct&gt; | genero &lt;fct&gt; | edad &lt;dbl&gt; | trimestre_1 &lt;dbl&gt; | trimestre_2 &lt;dbl&gt; | trimestre_3 &lt;dbl&gt; | trimestre_4 &lt;dbl&gt; | trimestre_5 &lt;dbl&gt; |\n",
       "|---|---|---|---|---|---|---|---|---|---|---|\n",
       "| A | 1 | 2020-11-23 | CDMX | M | 32 | 5 | 4 | 5 |  5 |  5 |\n",
       "| B | 2 | 2020-11-12 | NL   | F | 45 | 3 | 5 | 2 |  5 |  5 |\n",
       "| C | 3 | 2020-11-20 | CDMX | F | 25 | 3 | 5 | 5 |  5 |  2 |\n",
       "| D | 4 | 2020-11-07 | JAL  | M | 39 | 3 | 3 | 4 | NA | NA |\n",
       "| E | 5 | 2020-11-22 | NL   | F | 99 | 2 | 2 | 1 |  2 |  1 |\n",
       "\n"
      ],
      "text/plain": [
       "  clave fecha      estado genero edad trimestre_1 trimestre_2 trimestre_3\n",
       "A 1     2020-11-23 CDMX   M      32   5           4           5          \n",
       "B 2     2020-11-12 NL     F      45   3           5           2          \n",
       "C 3     2020-11-20 CDMX   F      25   3           5           5          \n",
       "D 4     2020-11-07 JAL    M      39   3           3           4          \n",
       "E 5     2020-11-22 NL     F      99   2           2           1          \n",
       "  trimestre_4 trimestre_5\n",
       "A  5           5         \n",
       "B  5           5         \n",
       "C  5           2         \n",
       "D NA          NA         \n",
       "E  2           1         "
      ]
     },
     "metadata": {},
     "output_type": "display_data"
    }
   ],
   "source": [
    "clave <- c(1, 2, 3, 4, 5)\n",
    "fecha <- c(\"23/11/20\", \"12/11/20\", \"20/11/20\", \"07/11/20\", \"22/11/20\")\n",
    "estado <- c(\"CDMX\", \"NL\", \"CDMX\", \"JAL\", \"NL\")\n",
    "genero <- c(\"M\", \"F\", \"F\", \"M\", \"F\")\n",
    "edad <- c(32, 45, 25, 39, 99)\n",
    "trimestre_1 <- c(5, 3, 3, 3, 2)\n",
    "trimestre_2 <- c(4, 5, 5, 3, 2)\n",
    "trimestre_3 <- c(5, 2, 5, 4, 1)\n",
    "trimestre_4 <- c(5, 5, 5, NA, 2)\n",
    "trimestre_5 <- c(5, 5, 2, NA, 1)\n",
    "vendedores <- data.frame(clave, fecha, estado, genero, edad, trimestre_1,\n",
    "                         trimestre_2, trimestre_3, trimestre_4, trimestre_5)\n",
    "dimnames(vendedores)[[1]] <- c('A', 'B', 'C', 'D', 'E')\n",
    "vendedores[2] <- as.Date(vendedores[[2]], '%d/%m/%y')\n",
    "vendedores"
   ]
  },
  {
   "cell_type": "code",
   "execution_count": 2,
   "metadata": {},
   "outputs": [
    {
     "data": {
      "text/plain": [
       "     clave       fecha             estado  genero      edad     trimestre_1 \n",
       " Min.   :1   Min.   :2020-11-07   CDMX:2   F:3    Min.   :25   Min.   :2.0  \n",
       " 1st Qu.:2   1st Qu.:2020-11-12   JAL :1   M:2    1st Qu.:32   1st Qu.:3.0  \n",
       " Median :3   Median :2020-11-20   NL  :2          Median :39   Median :3.0  \n",
       " Mean   :3   Mean   :2020-11-16                   Mean   :48   Mean   :3.2  \n",
       " 3rd Qu.:4   3rd Qu.:2020-11-22                   3rd Qu.:45   3rd Qu.:3.0  \n",
       " Max.   :5   Max.   :2020-11-23                   Max.   :99   Max.   :5.0  \n",
       "                                                                            \n",
       "  trimestre_2   trimestre_3   trimestre_4    trimestre_5  \n",
       " Min.   :2.0   Min.   :1.0   Min.   :2.00   Min.   :1.00  \n",
       " 1st Qu.:3.0   1st Qu.:2.0   1st Qu.:4.25   1st Qu.:1.75  \n",
       " Median :4.0   Median :4.0   Median :5.00   Median :3.50  \n",
       " Mean   :3.8   Mean   :3.4   Mean   :4.25   Mean   :3.25  \n",
       " 3rd Qu.:5.0   3rd Qu.:5.0   3rd Qu.:5.00   3rd Qu.:5.00  \n",
       " Max.   :5.0   Max.   :5.0   Max.   :5.00   Max.   :5.00  \n",
       "                             NA's   :1      NA's   :1     "
      ]
     },
     "metadata": {},
     "output_type": "display_data"
    }
   ],
   "source": [
    "summary(vendedores)"
   ]
  },
  {
   "cell_type": "markdown",
   "metadata": {},
   "source": [
    "## Datasets."
   ]
  },
  {
   "cell_type": "code",
   "execution_count": 4,
   "metadata": {},
   "outputs": [
    {
     "data": {
      "text/html": [
       "<table>\n",
       "<caption>A data.frame: 32 × 11</caption>\n",
       "<thead>\n",
       "\t<tr><th></th><th scope=col>mpg</th><th scope=col>cyl</th><th scope=col>disp</th><th scope=col>hp</th><th scope=col>drat</th><th scope=col>wt</th><th scope=col>qsec</th><th scope=col>vs</th><th scope=col>am</th><th scope=col>gear</th><th scope=col>carb</th></tr>\n",
       "\t<tr><th></th><th scope=col>&lt;dbl&gt;</th><th scope=col>&lt;dbl&gt;</th><th scope=col>&lt;dbl&gt;</th><th scope=col>&lt;dbl&gt;</th><th scope=col>&lt;dbl&gt;</th><th scope=col>&lt;dbl&gt;</th><th scope=col>&lt;dbl&gt;</th><th scope=col>&lt;dbl&gt;</th><th scope=col>&lt;dbl&gt;</th><th scope=col>&lt;dbl&gt;</th><th scope=col>&lt;dbl&gt;</th></tr>\n",
       "</thead>\n",
       "<tbody>\n",
       "\t<tr><th scope=row>Mazda RX4</th><td>21.0</td><td>6</td><td>160.0</td><td>110</td><td>3.90</td><td>2.620</td><td>16.46</td><td>0</td><td>1</td><td>4</td><td>4</td></tr>\n",
       "\t<tr><th scope=row>Mazda RX4 Wag</th><td>21.0</td><td>6</td><td>160.0</td><td>110</td><td>3.90</td><td>2.875</td><td>17.02</td><td>0</td><td>1</td><td>4</td><td>4</td></tr>\n",
       "\t<tr><th scope=row>Datsun 710</th><td>22.8</td><td>4</td><td>108.0</td><td> 93</td><td>3.85</td><td>2.320</td><td>18.61</td><td>1</td><td>1</td><td>4</td><td>1</td></tr>\n",
       "\t<tr><th scope=row>Hornet 4 Drive</th><td>21.4</td><td>6</td><td>258.0</td><td>110</td><td>3.08</td><td>3.215</td><td>19.44</td><td>1</td><td>0</td><td>3</td><td>1</td></tr>\n",
       "\t<tr><th scope=row>Hornet Sportabout</th><td>18.7</td><td>8</td><td>360.0</td><td>175</td><td>3.15</td><td>3.440</td><td>17.02</td><td>0</td><td>0</td><td>3</td><td>2</td></tr>\n",
       "\t<tr><th scope=row>Valiant</th><td>18.1</td><td>6</td><td>225.0</td><td>105</td><td>2.76</td><td>3.460</td><td>20.22</td><td>1</td><td>0</td><td>3</td><td>1</td></tr>\n",
       "\t<tr><th scope=row>Duster 360</th><td>14.3</td><td>8</td><td>360.0</td><td>245</td><td>3.21</td><td>3.570</td><td>15.84</td><td>0</td><td>0</td><td>3</td><td>4</td></tr>\n",
       "\t<tr><th scope=row>Merc 240D</th><td>24.4</td><td>4</td><td>146.7</td><td> 62</td><td>3.69</td><td>3.190</td><td>20.00</td><td>1</td><td>0</td><td>4</td><td>2</td></tr>\n",
       "\t<tr><th scope=row>Merc 230</th><td>22.8</td><td>4</td><td>140.8</td><td> 95</td><td>3.92</td><td>3.150</td><td>22.90</td><td>1</td><td>0</td><td>4</td><td>2</td></tr>\n",
       "\t<tr><th scope=row>Merc 280</th><td>19.2</td><td>6</td><td>167.6</td><td>123</td><td>3.92</td><td>3.440</td><td>18.30</td><td>1</td><td>0</td><td>4</td><td>4</td></tr>\n",
       "\t<tr><th scope=row>Merc 280C</th><td>17.8</td><td>6</td><td>167.6</td><td>123</td><td>3.92</td><td>3.440</td><td>18.90</td><td>1</td><td>0</td><td>4</td><td>4</td></tr>\n",
       "\t<tr><th scope=row>Merc 450SE</th><td>16.4</td><td>8</td><td>275.8</td><td>180</td><td>3.07</td><td>4.070</td><td>17.40</td><td>0</td><td>0</td><td>3</td><td>3</td></tr>\n",
       "\t<tr><th scope=row>Merc 450SL</th><td>17.3</td><td>8</td><td>275.8</td><td>180</td><td>3.07</td><td>3.730</td><td>17.60</td><td>0</td><td>0</td><td>3</td><td>3</td></tr>\n",
       "\t<tr><th scope=row>Merc 450SLC</th><td>15.2</td><td>8</td><td>275.8</td><td>180</td><td>3.07</td><td>3.780</td><td>18.00</td><td>0</td><td>0</td><td>3</td><td>3</td></tr>\n",
       "\t<tr><th scope=row>Cadillac Fleetwood</th><td>10.4</td><td>8</td><td>472.0</td><td>205</td><td>2.93</td><td>5.250</td><td>17.98</td><td>0</td><td>0</td><td>3</td><td>4</td></tr>\n",
       "\t<tr><th scope=row>Lincoln Continental</th><td>10.4</td><td>8</td><td>460.0</td><td>215</td><td>3.00</td><td>5.424</td><td>17.82</td><td>0</td><td>0</td><td>3</td><td>4</td></tr>\n",
       "\t<tr><th scope=row>Chrysler Imperial</th><td>14.7</td><td>8</td><td>440.0</td><td>230</td><td>3.23</td><td>5.345</td><td>17.42</td><td>0</td><td>0</td><td>3</td><td>4</td></tr>\n",
       "\t<tr><th scope=row>Fiat 128</th><td>32.4</td><td>4</td><td> 78.7</td><td> 66</td><td>4.08</td><td>2.200</td><td>19.47</td><td>1</td><td>1</td><td>4</td><td>1</td></tr>\n",
       "\t<tr><th scope=row>Honda Civic</th><td>30.4</td><td>4</td><td> 75.7</td><td> 52</td><td>4.93</td><td>1.615</td><td>18.52</td><td>1</td><td>1</td><td>4</td><td>2</td></tr>\n",
       "\t<tr><th scope=row>Toyota Corolla</th><td>33.9</td><td>4</td><td> 71.1</td><td> 65</td><td>4.22</td><td>1.835</td><td>19.90</td><td>1</td><td>1</td><td>4</td><td>1</td></tr>\n",
       "\t<tr><th scope=row>Toyota Corona</th><td>21.5</td><td>4</td><td>120.1</td><td> 97</td><td>3.70</td><td>2.465</td><td>20.01</td><td>1</td><td>0</td><td>3</td><td>1</td></tr>\n",
       "\t<tr><th scope=row>Dodge Challenger</th><td>15.5</td><td>8</td><td>318.0</td><td>150</td><td>2.76</td><td>3.520</td><td>16.87</td><td>0</td><td>0</td><td>3</td><td>2</td></tr>\n",
       "\t<tr><th scope=row>AMC Javelin</th><td>15.2</td><td>8</td><td>304.0</td><td>150</td><td>3.15</td><td>3.435</td><td>17.30</td><td>0</td><td>0</td><td>3</td><td>2</td></tr>\n",
       "\t<tr><th scope=row>Camaro Z28</th><td>13.3</td><td>8</td><td>350.0</td><td>245</td><td>3.73</td><td>3.840</td><td>15.41</td><td>0</td><td>0</td><td>3</td><td>4</td></tr>\n",
       "\t<tr><th scope=row>Pontiac Firebird</th><td>19.2</td><td>8</td><td>400.0</td><td>175</td><td>3.08</td><td>3.845</td><td>17.05</td><td>0</td><td>0</td><td>3</td><td>2</td></tr>\n",
       "\t<tr><th scope=row>Fiat X1-9</th><td>27.3</td><td>4</td><td> 79.0</td><td> 66</td><td>4.08</td><td>1.935</td><td>18.90</td><td>1</td><td>1</td><td>4</td><td>1</td></tr>\n",
       "\t<tr><th scope=row>Porsche 914-2</th><td>26.0</td><td>4</td><td>120.3</td><td> 91</td><td>4.43</td><td>2.140</td><td>16.70</td><td>0</td><td>1</td><td>5</td><td>2</td></tr>\n",
       "\t<tr><th scope=row>Lotus Europa</th><td>30.4</td><td>4</td><td> 95.1</td><td>113</td><td>3.77</td><td>1.513</td><td>16.90</td><td>1</td><td>1</td><td>5</td><td>2</td></tr>\n",
       "\t<tr><th scope=row>Ford Pantera L</th><td>15.8</td><td>8</td><td>351.0</td><td>264</td><td>4.22</td><td>3.170</td><td>14.50</td><td>0</td><td>1</td><td>5</td><td>4</td></tr>\n",
       "\t<tr><th scope=row>Ferrari Dino</th><td>19.7</td><td>6</td><td>145.0</td><td>175</td><td>3.62</td><td>2.770</td><td>15.50</td><td>0</td><td>1</td><td>5</td><td>6</td></tr>\n",
       "\t<tr><th scope=row>Maserati Bora</th><td>15.0</td><td>8</td><td>301.0</td><td>335</td><td>3.54</td><td>3.570</td><td>14.60</td><td>0</td><td>1</td><td>5</td><td>8</td></tr>\n",
       "\t<tr><th scope=row>Volvo 142E</th><td>21.4</td><td>4</td><td>121.0</td><td>109</td><td>4.11</td><td>2.780</td><td>18.60</td><td>1</td><td>1</td><td>4</td><td>2</td></tr>\n",
       "</tbody>\n",
       "</table>\n"
      ],
      "text/latex": [
       "A data.frame: 32 × 11\n",
       "\\begin{tabular}{r|lllllllllll}\n",
       "  & mpg & cyl & disp & hp & drat & wt & qsec & vs & am & gear & carb\\\\\n",
       "  & <dbl> & <dbl> & <dbl> & <dbl> & <dbl> & <dbl> & <dbl> & <dbl> & <dbl> & <dbl> & <dbl>\\\\\n",
       "\\hline\n",
       "\tMazda RX4 & 21.0 & 6 & 160.0 & 110 & 3.90 & 2.620 & 16.46 & 0 & 1 & 4 & 4\\\\\n",
       "\tMazda RX4 Wag & 21.0 & 6 & 160.0 & 110 & 3.90 & 2.875 & 17.02 & 0 & 1 & 4 & 4\\\\\n",
       "\tDatsun 710 & 22.8 & 4 & 108.0 &  93 & 3.85 & 2.320 & 18.61 & 1 & 1 & 4 & 1\\\\\n",
       "\tHornet 4 Drive & 21.4 & 6 & 258.0 & 110 & 3.08 & 3.215 & 19.44 & 1 & 0 & 3 & 1\\\\\n",
       "\tHornet Sportabout & 18.7 & 8 & 360.0 & 175 & 3.15 & 3.440 & 17.02 & 0 & 0 & 3 & 2\\\\\n",
       "\tValiant & 18.1 & 6 & 225.0 & 105 & 2.76 & 3.460 & 20.22 & 1 & 0 & 3 & 1\\\\\n",
       "\tDuster 360 & 14.3 & 8 & 360.0 & 245 & 3.21 & 3.570 & 15.84 & 0 & 0 & 3 & 4\\\\\n",
       "\tMerc 240D & 24.4 & 4 & 146.7 &  62 & 3.69 & 3.190 & 20.00 & 1 & 0 & 4 & 2\\\\\n",
       "\tMerc 230 & 22.8 & 4 & 140.8 &  95 & 3.92 & 3.150 & 22.90 & 1 & 0 & 4 & 2\\\\\n",
       "\tMerc 280 & 19.2 & 6 & 167.6 & 123 & 3.92 & 3.440 & 18.30 & 1 & 0 & 4 & 4\\\\\n",
       "\tMerc 280C & 17.8 & 6 & 167.6 & 123 & 3.92 & 3.440 & 18.90 & 1 & 0 & 4 & 4\\\\\n",
       "\tMerc 450SE & 16.4 & 8 & 275.8 & 180 & 3.07 & 4.070 & 17.40 & 0 & 0 & 3 & 3\\\\\n",
       "\tMerc 450SL & 17.3 & 8 & 275.8 & 180 & 3.07 & 3.730 & 17.60 & 0 & 0 & 3 & 3\\\\\n",
       "\tMerc 450SLC & 15.2 & 8 & 275.8 & 180 & 3.07 & 3.780 & 18.00 & 0 & 0 & 3 & 3\\\\\n",
       "\tCadillac Fleetwood & 10.4 & 8 & 472.0 & 205 & 2.93 & 5.250 & 17.98 & 0 & 0 & 3 & 4\\\\\n",
       "\tLincoln Continental & 10.4 & 8 & 460.0 & 215 & 3.00 & 5.424 & 17.82 & 0 & 0 & 3 & 4\\\\\n",
       "\tChrysler Imperial & 14.7 & 8 & 440.0 & 230 & 3.23 & 5.345 & 17.42 & 0 & 0 & 3 & 4\\\\\n",
       "\tFiat 128 & 32.4 & 4 &  78.7 &  66 & 4.08 & 2.200 & 19.47 & 1 & 1 & 4 & 1\\\\\n",
       "\tHonda Civic & 30.4 & 4 &  75.7 &  52 & 4.93 & 1.615 & 18.52 & 1 & 1 & 4 & 2\\\\\n",
       "\tToyota Corolla & 33.9 & 4 &  71.1 &  65 & 4.22 & 1.835 & 19.90 & 1 & 1 & 4 & 1\\\\\n",
       "\tToyota Corona & 21.5 & 4 & 120.1 &  97 & 3.70 & 2.465 & 20.01 & 1 & 0 & 3 & 1\\\\\n",
       "\tDodge Challenger & 15.5 & 8 & 318.0 & 150 & 2.76 & 3.520 & 16.87 & 0 & 0 & 3 & 2\\\\\n",
       "\tAMC Javelin & 15.2 & 8 & 304.0 & 150 & 3.15 & 3.435 & 17.30 & 0 & 0 & 3 & 2\\\\\n",
       "\tCamaro Z28 & 13.3 & 8 & 350.0 & 245 & 3.73 & 3.840 & 15.41 & 0 & 0 & 3 & 4\\\\\n",
       "\tPontiac Firebird & 19.2 & 8 & 400.0 & 175 & 3.08 & 3.845 & 17.05 & 0 & 0 & 3 & 2\\\\\n",
       "\tFiat X1-9 & 27.3 & 4 &  79.0 &  66 & 4.08 & 1.935 & 18.90 & 1 & 1 & 4 & 1\\\\\n",
       "\tPorsche 914-2 & 26.0 & 4 & 120.3 &  91 & 4.43 & 2.140 & 16.70 & 0 & 1 & 5 & 2\\\\\n",
       "\tLotus Europa & 30.4 & 4 &  95.1 & 113 & 3.77 & 1.513 & 16.90 & 1 & 1 & 5 & 2\\\\\n",
       "\tFord Pantera L & 15.8 & 8 & 351.0 & 264 & 4.22 & 3.170 & 14.50 & 0 & 1 & 5 & 4\\\\\n",
       "\tFerrari Dino & 19.7 & 6 & 145.0 & 175 & 3.62 & 2.770 & 15.50 & 0 & 1 & 5 & 6\\\\\n",
       "\tMaserati Bora & 15.0 & 8 & 301.0 & 335 & 3.54 & 3.570 & 14.60 & 0 & 1 & 5 & 8\\\\\n",
       "\tVolvo 142E & 21.4 & 4 & 121.0 & 109 & 4.11 & 2.780 & 18.60 & 1 & 1 & 4 & 2\\\\\n",
       "\\end{tabular}\n"
      ],
      "text/markdown": [
       "\n",
       "A data.frame: 32 × 11\n",
       "\n",
       "| <!--/--> | mpg &lt;dbl&gt; | cyl &lt;dbl&gt; | disp &lt;dbl&gt; | hp &lt;dbl&gt; | drat &lt;dbl&gt; | wt &lt;dbl&gt; | qsec &lt;dbl&gt; | vs &lt;dbl&gt; | am &lt;dbl&gt; | gear &lt;dbl&gt; | carb &lt;dbl&gt; |\n",
       "|---|---|---|---|---|---|---|---|---|---|---|---|\n",
       "| Mazda RX4 | 21.0 | 6 | 160.0 | 110 | 3.90 | 2.620 | 16.46 | 0 | 1 | 4 | 4 |\n",
       "| Mazda RX4 Wag | 21.0 | 6 | 160.0 | 110 | 3.90 | 2.875 | 17.02 | 0 | 1 | 4 | 4 |\n",
       "| Datsun 710 | 22.8 | 4 | 108.0 |  93 | 3.85 | 2.320 | 18.61 | 1 | 1 | 4 | 1 |\n",
       "| Hornet 4 Drive | 21.4 | 6 | 258.0 | 110 | 3.08 | 3.215 | 19.44 | 1 | 0 | 3 | 1 |\n",
       "| Hornet Sportabout | 18.7 | 8 | 360.0 | 175 | 3.15 | 3.440 | 17.02 | 0 | 0 | 3 | 2 |\n",
       "| Valiant | 18.1 | 6 | 225.0 | 105 | 2.76 | 3.460 | 20.22 | 1 | 0 | 3 | 1 |\n",
       "| Duster 360 | 14.3 | 8 | 360.0 | 245 | 3.21 | 3.570 | 15.84 | 0 | 0 | 3 | 4 |\n",
       "| Merc 240D | 24.4 | 4 | 146.7 |  62 | 3.69 | 3.190 | 20.00 | 1 | 0 | 4 | 2 |\n",
       "| Merc 230 | 22.8 | 4 | 140.8 |  95 | 3.92 | 3.150 | 22.90 | 1 | 0 | 4 | 2 |\n",
       "| Merc 280 | 19.2 | 6 | 167.6 | 123 | 3.92 | 3.440 | 18.30 | 1 | 0 | 4 | 4 |\n",
       "| Merc 280C | 17.8 | 6 | 167.6 | 123 | 3.92 | 3.440 | 18.90 | 1 | 0 | 4 | 4 |\n",
       "| Merc 450SE | 16.4 | 8 | 275.8 | 180 | 3.07 | 4.070 | 17.40 | 0 | 0 | 3 | 3 |\n",
       "| Merc 450SL | 17.3 | 8 | 275.8 | 180 | 3.07 | 3.730 | 17.60 | 0 | 0 | 3 | 3 |\n",
       "| Merc 450SLC | 15.2 | 8 | 275.8 | 180 | 3.07 | 3.780 | 18.00 | 0 | 0 | 3 | 3 |\n",
       "| Cadillac Fleetwood | 10.4 | 8 | 472.0 | 205 | 2.93 | 5.250 | 17.98 | 0 | 0 | 3 | 4 |\n",
       "| Lincoln Continental | 10.4 | 8 | 460.0 | 215 | 3.00 | 5.424 | 17.82 | 0 | 0 | 3 | 4 |\n",
       "| Chrysler Imperial | 14.7 | 8 | 440.0 | 230 | 3.23 | 5.345 | 17.42 | 0 | 0 | 3 | 4 |\n",
       "| Fiat 128 | 32.4 | 4 |  78.7 |  66 | 4.08 | 2.200 | 19.47 | 1 | 1 | 4 | 1 |\n",
       "| Honda Civic | 30.4 | 4 |  75.7 |  52 | 4.93 | 1.615 | 18.52 | 1 | 1 | 4 | 2 |\n",
       "| Toyota Corolla | 33.9 | 4 |  71.1 |  65 | 4.22 | 1.835 | 19.90 | 1 | 1 | 4 | 1 |\n",
       "| Toyota Corona | 21.5 | 4 | 120.1 |  97 | 3.70 | 2.465 | 20.01 | 1 | 0 | 3 | 1 |\n",
       "| Dodge Challenger | 15.5 | 8 | 318.0 | 150 | 2.76 | 3.520 | 16.87 | 0 | 0 | 3 | 2 |\n",
       "| AMC Javelin | 15.2 | 8 | 304.0 | 150 | 3.15 | 3.435 | 17.30 | 0 | 0 | 3 | 2 |\n",
       "| Camaro Z28 | 13.3 | 8 | 350.0 | 245 | 3.73 | 3.840 | 15.41 | 0 | 0 | 3 | 4 |\n",
       "| Pontiac Firebird | 19.2 | 8 | 400.0 | 175 | 3.08 | 3.845 | 17.05 | 0 | 0 | 3 | 2 |\n",
       "| Fiat X1-9 | 27.3 | 4 |  79.0 |  66 | 4.08 | 1.935 | 18.90 | 1 | 1 | 4 | 1 |\n",
       "| Porsche 914-2 | 26.0 | 4 | 120.3 |  91 | 4.43 | 2.140 | 16.70 | 0 | 1 | 5 | 2 |\n",
       "| Lotus Europa | 30.4 | 4 |  95.1 | 113 | 3.77 | 1.513 | 16.90 | 1 | 1 | 5 | 2 |\n",
       "| Ford Pantera L | 15.8 | 8 | 351.0 | 264 | 4.22 | 3.170 | 14.50 | 0 | 1 | 5 | 4 |\n",
       "| Ferrari Dino | 19.7 | 6 | 145.0 | 175 | 3.62 | 2.770 | 15.50 | 0 | 1 | 5 | 6 |\n",
       "| Maserati Bora | 15.0 | 8 | 301.0 | 335 | 3.54 | 3.570 | 14.60 | 0 | 1 | 5 | 8 |\n",
       "| Volvo 142E | 21.4 | 4 | 121.0 | 109 | 4.11 | 2.780 | 18.60 | 1 | 1 | 4 | 2 |\n",
       "\n"
      ],
      "text/plain": [
       "                    mpg  cyl disp  hp  drat wt    qsec  vs am gear carb\n",
       "Mazda RX4           21.0 6   160.0 110 3.90 2.620 16.46 0  1  4    4   \n",
       "Mazda RX4 Wag       21.0 6   160.0 110 3.90 2.875 17.02 0  1  4    4   \n",
       "Datsun 710          22.8 4   108.0  93 3.85 2.320 18.61 1  1  4    1   \n",
       "Hornet 4 Drive      21.4 6   258.0 110 3.08 3.215 19.44 1  0  3    1   \n",
       "Hornet Sportabout   18.7 8   360.0 175 3.15 3.440 17.02 0  0  3    2   \n",
       "Valiant             18.1 6   225.0 105 2.76 3.460 20.22 1  0  3    1   \n",
       "Duster 360          14.3 8   360.0 245 3.21 3.570 15.84 0  0  3    4   \n",
       "Merc 240D           24.4 4   146.7  62 3.69 3.190 20.00 1  0  4    2   \n",
       "Merc 230            22.8 4   140.8  95 3.92 3.150 22.90 1  0  4    2   \n",
       "Merc 280            19.2 6   167.6 123 3.92 3.440 18.30 1  0  4    4   \n",
       "Merc 280C           17.8 6   167.6 123 3.92 3.440 18.90 1  0  4    4   \n",
       "Merc 450SE          16.4 8   275.8 180 3.07 4.070 17.40 0  0  3    3   \n",
       "Merc 450SL          17.3 8   275.8 180 3.07 3.730 17.60 0  0  3    3   \n",
       "Merc 450SLC         15.2 8   275.8 180 3.07 3.780 18.00 0  0  3    3   \n",
       "Cadillac Fleetwood  10.4 8   472.0 205 2.93 5.250 17.98 0  0  3    4   \n",
       "Lincoln Continental 10.4 8   460.0 215 3.00 5.424 17.82 0  0  3    4   \n",
       "Chrysler Imperial   14.7 8   440.0 230 3.23 5.345 17.42 0  0  3    4   \n",
       "Fiat 128            32.4 4    78.7  66 4.08 2.200 19.47 1  1  4    1   \n",
       "Honda Civic         30.4 4    75.7  52 4.93 1.615 18.52 1  1  4    2   \n",
       "Toyota Corolla      33.9 4    71.1  65 4.22 1.835 19.90 1  1  4    1   \n",
       "Toyota Corona       21.5 4   120.1  97 3.70 2.465 20.01 1  0  3    1   \n",
       "Dodge Challenger    15.5 8   318.0 150 2.76 3.520 16.87 0  0  3    2   \n",
       "AMC Javelin         15.2 8   304.0 150 3.15 3.435 17.30 0  0  3    2   \n",
       "Camaro Z28          13.3 8   350.0 245 3.73 3.840 15.41 0  0  3    4   \n",
       "Pontiac Firebird    19.2 8   400.0 175 3.08 3.845 17.05 0  0  3    2   \n",
       "Fiat X1-9           27.3 4    79.0  66 4.08 1.935 18.90 1  1  4    1   \n",
       "Porsche 914-2       26.0 4   120.3  91 4.43 2.140 16.70 0  1  5    2   \n",
       "Lotus Europa        30.4 4    95.1 113 3.77 1.513 16.90 1  1  5    2   \n",
       "Ford Pantera L      15.8 8   351.0 264 4.22 3.170 14.50 0  1  5    4   \n",
       "Ferrari Dino        19.7 6   145.0 175 3.62 2.770 15.50 0  1  5    6   \n",
       "Maserati Bora       15.0 8   301.0 335 3.54 3.570 14.60 0  1  5    8   \n",
       "Volvo 142E          21.4 4   121.0 109 4.11 2.780 18.60 1  1  4    2   "
      ]
     },
     "metadata": {},
     "output_type": "display_data"
    }
   ],
   "source": [
    "mtcars"
   ]
  },
  {
   "cell_type": "code",
   "execution_count": 3,
   "metadata": {},
   "outputs": [
    {
     "data": {
      "text/plain": [
       "      mpg             cyl             disp             hp       \n",
       " Min.   :10.40   Min.   :4.000   Min.   : 71.1   Min.   : 52.0  \n",
       " 1st Qu.:15.43   1st Qu.:4.000   1st Qu.:120.8   1st Qu.: 96.5  \n",
       " Median :19.20   Median :6.000   Median :196.3   Median :123.0  \n",
       " Mean   :20.09   Mean   :6.188   Mean   :230.7   Mean   :146.7  \n",
       " 3rd Qu.:22.80   3rd Qu.:8.000   3rd Qu.:326.0   3rd Qu.:180.0  \n",
       " Max.   :33.90   Max.   :8.000   Max.   :472.0   Max.   :335.0  \n",
       "      drat             wt             qsec             vs        \n",
       " Min.   :2.760   Min.   :1.513   Min.   :14.50   Min.   :0.0000  \n",
       " 1st Qu.:3.080   1st Qu.:2.581   1st Qu.:16.89   1st Qu.:0.0000  \n",
       " Median :3.695   Median :3.325   Median :17.71   Median :0.0000  \n",
       " Mean   :3.597   Mean   :3.217   Mean   :17.85   Mean   :0.4375  \n",
       " 3rd Qu.:3.920   3rd Qu.:3.610   3rd Qu.:18.90   3rd Qu.:1.0000  \n",
       " Max.   :4.930   Max.   :5.424   Max.   :22.90   Max.   :1.0000  \n",
       "       am              gear            carb      \n",
       " Min.   :0.0000   Min.   :3.000   Min.   :1.000  \n",
       " 1st Qu.:0.0000   1st Qu.:3.000   1st Qu.:2.000  \n",
       " Median :0.0000   Median :4.000   Median :2.000  \n",
       " Mean   :0.4062   Mean   :3.688   Mean   :2.812  \n",
       " 3rd Qu.:1.0000   3rd Qu.:4.000   3rd Qu.:4.000  \n",
       " Max.   :1.0000   Max.   :5.000   Max.   :8.000  "
      ]
     },
     "metadata": {},
     "output_type": "display_data"
    }
   ],
   "source": [
    "summary(mtcars)"
   ]
  },
  {
   "cell_type": "code",
   "execution_count": 5,
   "metadata": {
    "scrolled": true
   },
   "outputs": [
    {
     "data": {
      "text/html": [
       "<style>\n",
       ".list-inline {list-style: none; margin:0; padding: 0}\n",
       ".list-inline>li {display: inline-block}\n",
       ".list-inline>li:not(:last-child)::after {content: \"\\00b7\"; padding: 0 .5ex}\n",
       "</style>\n",
       "<ol class=list-inline><li>2.62</li><li>2.875</li><li>2.32</li><li>3.215</li><li>3.44</li><li>3.46</li><li>3.57</li><li>3.19</li><li>3.15</li><li>3.44</li><li>3.44</li><li>4.07</li><li>3.73</li><li>3.78</li><li>5.25</li><li>5.424</li><li>5.345</li><li>2.2</li><li>1.615</li><li>1.835</li><li>2.465</li><li>3.52</li><li>3.435</li><li>3.84</li><li>3.845</li><li>1.935</li><li>2.14</li><li>1.513</li><li>3.17</li><li>2.77</li><li>3.57</li><li>2.78</li></ol>\n"
      ],
      "text/latex": [
       "\\begin{enumerate*}\n",
       "\\item 2.62\n",
       "\\item 2.875\n",
       "\\item 2.32\n",
       "\\item 3.215\n",
       "\\item 3.44\n",
       "\\item 3.46\n",
       "\\item 3.57\n",
       "\\item 3.19\n",
       "\\item 3.15\n",
       "\\item 3.44\n",
       "\\item 3.44\n",
       "\\item 4.07\n",
       "\\item 3.73\n",
       "\\item 3.78\n",
       "\\item 5.25\n",
       "\\item 5.424\n",
       "\\item 5.345\n",
       "\\item 2.2\n",
       "\\item 1.615\n",
       "\\item 1.835\n",
       "\\item 2.465\n",
       "\\item 3.52\n",
       "\\item 3.435\n",
       "\\item 3.84\n",
       "\\item 3.845\n",
       "\\item 1.935\n",
       "\\item 2.14\n",
       "\\item 1.513\n",
       "\\item 3.17\n",
       "\\item 2.77\n",
       "\\item 3.57\n",
       "\\item 2.78\n",
       "\\end{enumerate*}\n"
      ],
      "text/markdown": [
       "1. 2.62\n",
       "2. 2.875\n",
       "3. 2.32\n",
       "4. 3.215\n",
       "5. 3.44\n",
       "6. 3.46\n",
       "7. 3.57\n",
       "8. 3.19\n",
       "9. 3.15\n",
       "10. 3.44\n",
       "11. 3.44\n",
       "12. 4.07\n",
       "13. 3.73\n",
       "14. 3.78\n",
       "15. 5.25\n",
       "16. 5.424\n",
       "17. 5.345\n",
       "18. 2.2\n",
       "19. 1.615\n",
       "20. 1.835\n",
       "21. 2.465\n",
       "22. 3.52\n",
       "23. 3.435\n",
       "24. 3.84\n",
       "25. 3.845\n",
       "26. 1.935\n",
       "27. 2.14\n",
       "28. 1.513\n",
       "29. 3.17\n",
       "30. 2.77\n",
       "31. 3.57\n",
       "32. 2.78\n",
       "\n",
       "\n"
      ],
      "text/plain": [
       " [1] 2.620 2.875 2.320 3.215 3.440 3.460 3.570 3.190 3.150 3.440 3.440 4.070\n",
       "[13] 3.730 3.780 5.250 5.424 5.345 2.200 1.615 1.835 2.465 3.520 3.435 3.840\n",
       "[25] 3.845 1.935 2.140 1.513 3.170 2.770 3.570 2.780"
      ]
     },
     "metadata": {},
     "output_type": "display_data"
    }
   ],
   "source": [
    "pesos_autos <- mtcars$wt\n",
    "pesos_autos"
   ]
  },
  {
   "cell_type": "code",
   "execution_count": 6,
   "metadata": {},
   "outputs": [],
   "source": [
    "library(palmerpenguins)"
   ]
  },
  {
   "cell_type": "code",
   "execution_count": 7,
   "metadata": {
    "scrolled": true
   },
   "outputs": [
    {
     "data": {
      "text/html": [
       "<table>\n",
       "<caption>A tibble: 344 × 8</caption>\n",
       "<thead>\n",
       "\t<tr><th scope=col>species</th><th scope=col>island</th><th scope=col>bill_length_mm</th><th scope=col>bill_depth_mm</th><th scope=col>flipper_length_mm</th><th scope=col>body_mass_g</th><th scope=col>sex</th><th scope=col>year</th></tr>\n",
       "\t<tr><th scope=col>&lt;fct&gt;</th><th scope=col>&lt;fct&gt;</th><th scope=col>&lt;dbl&gt;</th><th scope=col>&lt;dbl&gt;</th><th scope=col>&lt;int&gt;</th><th scope=col>&lt;int&gt;</th><th scope=col>&lt;fct&gt;</th><th scope=col>&lt;int&gt;</th></tr>\n",
       "</thead>\n",
       "<tbody>\n",
       "\t<tr><td>Adelie</td><td>Torgersen</td><td>39.1</td><td>18.7</td><td>181</td><td>3750</td><td>male  </td><td>2007</td></tr>\n",
       "\t<tr><td>Adelie</td><td>Torgersen</td><td>39.5</td><td>17.4</td><td>186</td><td>3800</td><td>female</td><td>2007</td></tr>\n",
       "\t<tr><td>Adelie</td><td>Torgersen</td><td>40.3</td><td>18.0</td><td>195</td><td>3250</td><td>female</td><td>2007</td></tr>\n",
       "\t<tr><td>Adelie</td><td>Torgersen</td><td>  NA</td><td>  NA</td><td> NA</td><td>  NA</td><td>NA    </td><td>2007</td></tr>\n",
       "\t<tr><td>Adelie</td><td>Torgersen</td><td>36.7</td><td>19.3</td><td>193</td><td>3450</td><td>female</td><td>2007</td></tr>\n",
       "\t<tr><td>Adelie</td><td>Torgersen</td><td>39.3</td><td>20.6</td><td>190</td><td>3650</td><td>male  </td><td>2007</td></tr>\n",
       "\t<tr><td>Adelie</td><td>Torgersen</td><td>38.9</td><td>17.8</td><td>181</td><td>3625</td><td>female</td><td>2007</td></tr>\n",
       "\t<tr><td>Adelie</td><td>Torgersen</td><td>39.2</td><td>19.6</td><td>195</td><td>4675</td><td>male  </td><td>2007</td></tr>\n",
       "\t<tr><td>Adelie</td><td>Torgersen</td><td>34.1</td><td>18.1</td><td>193</td><td>3475</td><td>NA    </td><td>2007</td></tr>\n",
       "\t<tr><td>Adelie</td><td>Torgersen</td><td>42.0</td><td>20.2</td><td>190</td><td>4250</td><td>NA    </td><td>2007</td></tr>\n",
       "\t<tr><td>Adelie</td><td>Torgersen</td><td>37.8</td><td>17.1</td><td>186</td><td>3300</td><td>NA    </td><td>2007</td></tr>\n",
       "\t<tr><td>Adelie</td><td>Torgersen</td><td>37.8</td><td>17.3</td><td>180</td><td>3700</td><td>NA    </td><td>2007</td></tr>\n",
       "\t<tr><td>Adelie</td><td>Torgersen</td><td>41.1</td><td>17.6</td><td>182</td><td>3200</td><td>female</td><td>2007</td></tr>\n",
       "\t<tr><td>Adelie</td><td>Torgersen</td><td>38.6</td><td>21.2</td><td>191</td><td>3800</td><td>male  </td><td>2007</td></tr>\n",
       "\t<tr><td>Adelie</td><td>Torgersen</td><td>34.6</td><td>21.1</td><td>198</td><td>4400</td><td>male  </td><td>2007</td></tr>\n",
       "\t<tr><td>Adelie</td><td>Torgersen</td><td>36.6</td><td>17.8</td><td>185</td><td>3700</td><td>female</td><td>2007</td></tr>\n",
       "\t<tr><td>Adelie</td><td>Torgersen</td><td>38.7</td><td>19.0</td><td>195</td><td>3450</td><td>female</td><td>2007</td></tr>\n",
       "\t<tr><td>Adelie</td><td>Torgersen</td><td>42.5</td><td>20.7</td><td>197</td><td>4500</td><td>male  </td><td>2007</td></tr>\n",
       "\t<tr><td>Adelie</td><td>Torgersen</td><td>34.4</td><td>18.4</td><td>184</td><td>3325</td><td>female</td><td>2007</td></tr>\n",
       "\t<tr><td>Adelie</td><td>Torgersen</td><td>46.0</td><td>21.5</td><td>194</td><td>4200</td><td>male  </td><td>2007</td></tr>\n",
       "\t<tr><td>Adelie</td><td>Biscoe   </td><td>37.8</td><td>18.3</td><td>174</td><td>3400</td><td>female</td><td>2007</td></tr>\n",
       "\t<tr><td>Adelie</td><td>Biscoe   </td><td>37.7</td><td>18.7</td><td>180</td><td>3600</td><td>male  </td><td>2007</td></tr>\n",
       "\t<tr><td>Adelie</td><td>Biscoe   </td><td>35.9</td><td>19.2</td><td>189</td><td>3800</td><td>female</td><td>2007</td></tr>\n",
       "\t<tr><td>Adelie</td><td>Biscoe   </td><td>38.2</td><td>18.1</td><td>185</td><td>3950</td><td>male  </td><td>2007</td></tr>\n",
       "\t<tr><td>Adelie</td><td>Biscoe   </td><td>38.8</td><td>17.2</td><td>180</td><td>3800</td><td>male  </td><td>2007</td></tr>\n",
       "\t<tr><td>Adelie</td><td>Biscoe   </td><td>35.3</td><td>18.9</td><td>187</td><td>3800</td><td>female</td><td>2007</td></tr>\n",
       "\t<tr><td>Adelie</td><td>Biscoe   </td><td>40.6</td><td>18.6</td><td>183</td><td>3550</td><td>male  </td><td>2007</td></tr>\n",
       "\t<tr><td>Adelie</td><td>Biscoe   </td><td>40.5</td><td>17.9</td><td>187</td><td>3200</td><td>female</td><td>2007</td></tr>\n",
       "\t<tr><td>Adelie</td><td>Biscoe   </td><td>37.9</td><td>18.6</td><td>172</td><td>3150</td><td>female</td><td>2007</td></tr>\n",
       "\t<tr><td>Adelie</td><td>Biscoe   </td><td>40.5</td><td>18.9</td><td>180</td><td>3950</td><td>male  </td><td>2007</td></tr>\n",
       "\t<tr><td>⋮</td><td>⋮</td><td>⋮</td><td>⋮</td><td>⋮</td><td>⋮</td><td>⋮</td><td>⋮</td></tr>\n",
       "\t<tr><td>Chinstrap</td><td>Dream</td><td>46.9</td><td>16.6</td><td>192</td><td>2700</td><td>female</td><td>2008</td></tr>\n",
       "\t<tr><td>Chinstrap</td><td>Dream</td><td>53.5</td><td>19.9</td><td>205</td><td>4500</td><td>male  </td><td>2008</td></tr>\n",
       "\t<tr><td>Chinstrap</td><td>Dream</td><td>49.0</td><td>19.5</td><td>210</td><td>3950</td><td>male  </td><td>2008</td></tr>\n",
       "\t<tr><td>Chinstrap</td><td>Dream</td><td>46.2</td><td>17.5</td><td>187</td><td>3650</td><td>female</td><td>2008</td></tr>\n",
       "\t<tr><td>Chinstrap</td><td>Dream</td><td>50.9</td><td>19.1</td><td>196</td><td>3550</td><td>male  </td><td>2008</td></tr>\n",
       "\t<tr><td>Chinstrap</td><td>Dream</td><td>45.5</td><td>17.0</td><td>196</td><td>3500</td><td>female</td><td>2008</td></tr>\n",
       "\t<tr><td>Chinstrap</td><td>Dream</td><td>50.9</td><td>17.9</td><td>196</td><td>3675</td><td>female</td><td>2009</td></tr>\n",
       "\t<tr><td>Chinstrap</td><td>Dream</td><td>50.8</td><td>18.5</td><td>201</td><td>4450</td><td>male  </td><td>2009</td></tr>\n",
       "\t<tr><td>Chinstrap</td><td>Dream</td><td>50.1</td><td>17.9</td><td>190</td><td>3400</td><td>female</td><td>2009</td></tr>\n",
       "\t<tr><td>Chinstrap</td><td>Dream</td><td>49.0</td><td>19.6</td><td>212</td><td>4300</td><td>male  </td><td>2009</td></tr>\n",
       "\t<tr><td>Chinstrap</td><td>Dream</td><td>51.5</td><td>18.7</td><td>187</td><td>3250</td><td>male  </td><td>2009</td></tr>\n",
       "\t<tr><td>Chinstrap</td><td>Dream</td><td>49.8</td><td>17.3</td><td>198</td><td>3675</td><td>female</td><td>2009</td></tr>\n",
       "\t<tr><td>Chinstrap</td><td>Dream</td><td>48.1</td><td>16.4</td><td>199</td><td>3325</td><td>female</td><td>2009</td></tr>\n",
       "\t<tr><td>Chinstrap</td><td>Dream</td><td>51.4</td><td>19.0</td><td>201</td><td>3950</td><td>male  </td><td>2009</td></tr>\n",
       "\t<tr><td>Chinstrap</td><td>Dream</td><td>45.7</td><td>17.3</td><td>193</td><td>3600</td><td>female</td><td>2009</td></tr>\n",
       "\t<tr><td>Chinstrap</td><td>Dream</td><td>50.7</td><td>19.7</td><td>203</td><td>4050</td><td>male  </td><td>2009</td></tr>\n",
       "\t<tr><td>Chinstrap</td><td>Dream</td><td>42.5</td><td>17.3</td><td>187</td><td>3350</td><td>female</td><td>2009</td></tr>\n",
       "\t<tr><td>Chinstrap</td><td>Dream</td><td>52.2</td><td>18.8</td><td>197</td><td>3450</td><td>male  </td><td>2009</td></tr>\n",
       "\t<tr><td>Chinstrap</td><td>Dream</td><td>45.2</td><td>16.6</td><td>191</td><td>3250</td><td>female</td><td>2009</td></tr>\n",
       "\t<tr><td>Chinstrap</td><td>Dream</td><td>49.3</td><td>19.9</td><td>203</td><td>4050</td><td>male  </td><td>2009</td></tr>\n",
       "\t<tr><td>Chinstrap</td><td>Dream</td><td>50.2</td><td>18.8</td><td>202</td><td>3800</td><td>male  </td><td>2009</td></tr>\n",
       "\t<tr><td>Chinstrap</td><td>Dream</td><td>45.6</td><td>19.4</td><td>194</td><td>3525</td><td>female</td><td>2009</td></tr>\n",
       "\t<tr><td>Chinstrap</td><td>Dream</td><td>51.9</td><td>19.5</td><td>206</td><td>3950</td><td>male  </td><td>2009</td></tr>\n",
       "\t<tr><td>Chinstrap</td><td>Dream</td><td>46.8</td><td>16.5</td><td>189</td><td>3650</td><td>female</td><td>2009</td></tr>\n",
       "\t<tr><td>Chinstrap</td><td>Dream</td><td>45.7</td><td>17.0</td><td>195</td><td>3650</td><td>female</td><td>2009</td></tr>\n",
       "\t<tr><td>Chinstrap</td><td>Dream</td><td>55.8</td><td>19.8</td><td>207</td><td>4000</td><td>male  </td><td>2009</td></tr>\n",
       "\t<tr><td>Chinstrap</td><td>Dream</td><td>43.5</td><td>18.1</td><td>202</td><td>3400</td><td>female</td><td>2009</td></tr>\n",
       "\t<tr><td>Chinstrap</td><td>Dream</td><td>49.6</td><td>18.2</td><td>193</td><td>3775</td><td>male  </td><td>2009</td></tr>\n",
       "\t<tr><td>Chinstrap</td><td>Dream</td><td>50.8</td><td>19.0</td><td>210</td><td>4100</td><td>male  </td><td>2009</td></tr>\n",
       "\t<tr><td>Chinstrap</td><td>Dream</td><td>50.2</td><td>18.7</td><td>198</td><td>3775</td><td>female</td><td>2009</td></tr>\n",
       "</tbody>\n",
       "</table>\n"
      ],
      "text/latex": [
       "A tibble: 344 × 8\n",
       "\\begin{tabular}{llllllll}\n",
       " species & island & bill\\_length\\_mm & bill\\_depth\\_mm & flipper\\_length\\_mm & body\\_mass\\_g & sex & year\\\\\n",
       " <fct> & <fct> & <dbl> & <dbl> & <int> & <int> & <fct> & <int>\\\\\n",
       "\\hline\n",
       "\t Adelie & Torgersen & 39.1 & 18.7 & 181 & 3750 & male   & 2007\\\\\n",
       "\t Adelie & Torgersen & 39.5 & 17.4 & 186 & 3800 & female & 2007\\\\\n",
       "\t Adelie & Torgersen & 40.3 & 18.0 & 195 & 3250 & female & 2007\\\\\n",
       "\t Adelie & Torgersen &   NA &   NA &  NA &   NA & NA     & 2007\\\\\n",
       "\t Adelie & Torgersen & 36.7 & 19.3 & 193 & 3450 & female & 2007\\\\\n",
       "\t Adelie & Torgersen & 39.3 & 20.6 & 190 & 3650 & male   & 2007\\\\\n",
       "\t Adelie & Torgersen & 38.9 & 17.8 & 181 & 3625 & female & 2007\\\\\n",
       "\t Adelie & Torgersen & 39.2 & 19.6 & 195 & 4675 & male   & 2007\\\\\n",
       "\t Adelie & Torgersen & 34.1 & 18.1 & 193 & 3475 & NA     & 2007\\\\\n",
       "\t Adelie & Torgersen & 42.0 & 20.2 & 190 & 4250 & NA     & 2007\\\\\n",
       "\t Adelie & Torgersen & 37.8 & 17.1 & 186 & 3300 & NA     & 2007\\\\\n",
       "\t Adelie & Torgersen & 37.8 & 17.3 & 180 & 3700 & NA     & 2007\\\\\n",
       "\t Adelie & Torgersen & 41.1 & 17.6 & 182 & 3200 & female & 2007\\\\\n",
       "\t Adelie & Torgersen & 38.6 & 21.2 & 191 & 3800 & male   & 2007\\\\\n",
       "\t Adelie & Torgersen & 34.6 & 21.1 & 198 & 4400 & male   & 2007\\\\\n",
       "\t Adelie & Torgersen & 36.6 & 17.8 & 185 & 3700 & female & 2007\\\\\n",
       "\t Adelie & Torgersen & 38.7 & 19.0 & 195 & 3450 & female & 2007\\\\\n",
       "\t Adelie & Torgersen & 42.5 & 20.7 & 197 & 4500 & male   & 2007\\\\\n",
       "\t Adelie & Torgersen & 34.4 & 18.4 & 184 & 3325 & female & 2007\\\\\n",
       "\t Adelie & Torgersen & 46.0 & 21.5 & 194 & 4200 & male   & 2007\\\\\n",
       "\t Adelie & Biscoe    & 37.8 & 18.3 & 174 & 3400 & female & 2007\\\\\n",
       "\t Adelie & Biscoe    & 37.7 & 18.7 & 180 & 3600 & male   & 2007\\\\\n",
       "\t Adelie & Biscoe    & 35.9 & 19.2 & 189 & 3800 & female & 2007\\\\\n",
       "\t Adelie & Biscoe    & 38.2 & 18.1 & 185 & 3950 & male   & 2007\\\\\n",
       "\t Adelie & Biscoe    & 38.8 & 17.2 & 180 & 3800 & male   & 2007\\\\\n",
       "\t Adelie & Biscoe    & 35.3 & 18.9 & 187 & 3800 & female & 2007\\\\\n",
       "\t Adelie & Biscoe    & 40.6 & 18.6 & 183 & 3550 & male   & 2007\\\\\n",
       "\t Adelie & Biscoe    & 40.5 & 17.9 & 187 & 3200 & female & 2007\\\\\n",
       "\t Adelie & Biscoe    & 37.9 & 18.6 & 172 & 3150 & female & 2007\\\\\n",
       "\t Adelie & Biscoe    & 40.5 & 18.9 & 180 & 3950 & male   & 2007\\\\\n",
       "\t ⋮ & ⋮ & ⋮ & ⋮ & ⋮ & ⋮ & ⋮ & ⋮\\\\\n",
       "\t Chinstrap & Dream & 46.9 & 16.6 & 192 & 2700 & female & 2008\\\\\n",
       "\t Chinstrap & Dream & 53.5 & 19.9 & 205 & 4500 & male   & 2008\\\\\n",
       "\t Chinstrap & Dream & 49.0 & 19.5 & 210 & 3950 & male   & 2008\\\\\n",
       "\t Chinstrap & Dream & 46.2 & 17.5 & 187 & 3650 & female & 2008\\\\\n",
       "\t Chinstrap & Dream & 50.9 & 19.1 & 196 & 3550 & male   & 2008\\\\\n",
       "\t Chinstrap & Dream & 45.5 & 17.0 & 196 & 3500 & female & 2008\\\\\n",
       "\t Chinstrap & Dream & 50.9 & 17.9 & 196 & 3675 & female & 2009\\\\\n",
       "\t Chinstrap & Dream & 50.8 & 18.5 & 201 & 4450 & male   & 2009\\\\\n",
       "\t Chinstrap & Dream & 50.1 & 17.9 & 190 & 3400 & female & 2009\\\\\n",
       "\t Chinstrap & Dream & 49.0 & 19.6 & 212 & 4300 & male   & 2009\\\\\n",
       "\t Chinstrap & Dream & 51.5 & 18.7 & 187 & 3250 & male   & 2009\\\\\n",
       "\t Chinstrap & Dream & 49.8 & 17.3 & 198 & 3675 & female & 2009\\\\\n",
       "\t Chinstrap & Dream & 48.1 & 16.4 & 199 & 3325 & female & 2009\\\\\n",
       "\t Chinstrap & Dream & 51.4 & 19.0 & 201 & 3950 & male   & 2009\\\\\n",
       "\t Chinstrap & Dream & 45.7 & 17.3 & 193 & 3600 & female & 2009\\\\\n",
       "\t Chinstrap & Dream & 50.7 & 19.7 & 203 & 4050 & male   & 2009\\\\\n",
       "\t Chinstrap & Dream & 42.5 & 17.3 & 187 & 3350 & female & 2009\\\\\n",
       "\t Chinstrap & Dream & 52.2 & 18.8 & 197 & 3450 & male   & 2009\\\\\n",
       "\t Chinstrap & Dream & 45.2 & 16.6 & 191 & 3250 & female & 2009\\\\\n",
       "\t Chinstrap & Dream & 49.3 & 19.9 & 203 & 4050 & male   & 2009\\\\\n",
       "\t Chinstrap & Dream & 50.2 & 18.8 & 202 & 3800 & male   & 2009\\\\\n",
       "\t Chinstrap & Dream & 45.6 & 19.4 & 194 & 3525 & female & 2009\\\\\n",
       "\t Chinstrap & Dream & 51.9 & 19.5 & 206 & 3950 & male   & 2009\\\\\n",
       "\t Chinstrap & Dream & 46.8 & 16.5 & 189 & 3650 & female & 2009\\\\\n",
       "\t Chinstrap & Dream & 45.7 & 17.0 & 195 & 3650 & female & 2009\\\\\n",
       "\t Chinstrap & Dream & 55.8 & 19.8 & 207 & 4000 & male   & 2009\\\\\n",
       "\t Chinstrap & Dream & 43.5 & 18.1 & 202 & 3400 & female & 2009\\\\\n",
       "\t Chinstrap & Dream & 49.6 & 18.2 & 193 & 3775 & male   & 2009\\\\\n",
       "\t Chinstrap & Dream & 50.8 & 19.0 & 210 & 4100 & male   & 2009\\\\\n",
       "\t Chinstrap & Dream & 50.2 & 18.7 & 198 & 3775 & female & 2009\\\\\n",
       "\\end{tabular}\n"
      ],
      "text/markdown": [
       "\n",
       "A tibble: 344 × 8\n",
       "\n",
       "| species &lt;fct&gt; | island &lt;fct&gt; | bill_length_mm &lt;dbl&gt; | bill_depth_mm &lt;dbl&gt; | flipper_length_mm &lt;int&gt; | body_mass_g &lt;int&gt; | sex &lt;fct&gt; | year &lt;int&gt; |\n",
       "|---|---|---|---|---|---|---|---|\n",
       "| Adelie | Torgersen | 39.1 | 18.7 | 181 | 3750 | male   | 2007 |\n",
       "| Adelie | Torgersen | 39.5 | 17.4 | 186 | 3800 | female | 2007 |\n",
       "| Adelie | Torgersen | 40.3 | 18.0 | 195 | 3250 | female | 2007 |\n",
       "| Adelie | Torgersen |   NA |   NA |  NA |   NA | NA     | 2007 |\n",
       "| Adelie | Torgersen | 36.7 | 19.3 | 193 | 3450 | female | 2007 |\n",
       "| Adelie | Torgersen | 39.3 | 20.6 | 190 | 3650 | male   | 2007 |\n",
       "| Adelie | Torgersen | 38.9 | 17.8 | 181 | 3625 | female | 2007 |\n",
       "| Adelie | Torgersen | 39.2 | 19.6 | 195 | 4675 | male   | 2007 |\n",
       "| Adelie | Torgersen | 34.1 | 18.1 | 193 | 3475 | NA     | 2007 |\n",
       "| Adelie | Torgersen | 42.0 | 20.2 | 190 | 4250 | NA     | 2007 |\n",
       "| Adelie | Torgersen | 37.8 | 17.1 | 186 | 3300 | NA     | 2007 |\n",
       "| Adelie | Torgersen | 37.8 | 17.3 | 180 | 3700 | NA     | 2007 |\n",
       "| Adelie | Torgersen | 41.1 | 17.6 | 182 | 3200 | female | 2007 |\n",
       "| Adelie | Torgersen | 38.6 | 21.2 | 191 | 3800 | male   | 2007 |\n",
       "| Adelie | Torgersen | 34.6 | 21.1 | 198 | 4400 | male   | 2007 |\n",
       "| Adelie | Torgersen | 36.6 | 17.8 | 185 | 3700 | female | 2007 |\n",
       "| Adelie | Torgersen | 38.7 | 19.0 | 195 | 3450 | female | 2007 |\n",
       "| Adelie | Torgersen | 42.5 | 20.7 | 197 | 4500 | male   | 2007 |\n",
       "| Adelie | Torgersen | 34.4 | 18.4 | 184 | 3325 | female | 2007 |\n",
       "| Adelie | Torgersen | 46.0 | 21.5 | 194 | 4200 | male   | 2007 |\n",
       "| Adelie | Biscoe    | 37.8 | 18.3 | 174 | 3400 | female | 2007 |\n",
       "| Adelie | Biscoe    | 37.7 | 18.7 | 180 | 3600 | male   | 2007 |\n",
       "| Adelie | Biscoe    | 35.9 | 19.2 | 189 | 3800 | female | 2007 |\n",
       "| Adelie | Biscoe    | 38.2 | 18.1 | 185 | 3950 | male   | 2007 |\n",
       "| Adelie | Biscoe    | 38.8 | 17.2 | 180 | 3800 | male   | 2007 |\n",
       "| Adelie | Biscoe    | 35.3 | 18.9 | 187 | 3800 | female | 2007 |\n",
       "| Adelie | Biscoe    | 40.6 | 18.6 | 183 | 3550 | male   | 2007 |\n",
       "| Adelie | Biscoe    | 40.5 | 17.9 | 187 | 3200 | female | 2007 |\n",
       "| Adelie | Biscoe    | 37.9 | 18.6 | 172 | 3150 | female | 2007 |\n",
       "| Adelie | Biscoe    | 40.5 | 18.9 | 180 | 3950 | male   | 2007 |\n",
       "| ⋮ | ⋮ | ⋮ | ⋮ | ⋮ | ⋮ | ⋮ | ⋮ |\n",
       "| Chinstrap | Dream | 46.9 | 16.6 | 192 | 2700 | female | 2008 |\n",
       "| Chinstrap | Dream | 53.5 | 19.9 | 205 | 4500 | male   | 2008 |\n",
       "| Chinstrap | Dream | 49.0 | 19.5 | 210 | 3950 | male   | 2008 |\n",
       "| Chinstrap | Dream | 46.2 | 17.5 | 187 | 3650 | female | 2008 |\n",
       "| Chinstrap | Dream | 50.9 | 19.1 | 196 | 3550 | male   | 2008 |\n",
       "| Chinstrap | Dream | 45.5 | 17.0 | 196 | 3500 | female | 2008 |\n",
       "| Chinstrap | Dream | 50.9 | 17.9 | 196 | 3675 | female | 2009 |\n",
       "| Chinstrap | Dream | 50.8 | 18.5 | 201 | 4450 | male   | 2009 |\n",
       "| Chinstrap | Dream | 50.1 | 17.9 | 190 | 3400 | female | 2009 |\n",
       "| Chinstrap | Dream | 49.0 | 19.6 | 212 | 4300 | male   | 2009 |\n",
       "| Chinstrap | Dream | 51.5 | 18.7 | 187 | 3250 | male   | 2009 |\n",
       "| Chinstrap | Dream | 49.8 | 17.3 | 198 | 3675 | female | 2009 |\n",
       "| Chinstrap | Dream | 48.1 | 16.4 | 199 | 3325 | female | 2009 |\n",
       "| Chinstrap | Dream | 51.4 | 19.0 | 201 | 3950 | male   | 2009 |\n",
       "| Chinstrap | Dream | 45.7 | 17.3 | 193 | 3600 | female | 2009 |\n",
       "| Chinstrap | Dream | 50.7 | 19.7 | 203 | 4050 | male   | 2009 |\n",
       "| Chinstrap | Dream | 42.5 | 17.3 | 187 | 3350 | female | 2009 |\n",
       "| Chinstrap | Dream | 52.2 | 18.8 | 197 | 3450 | male   | 2009 |\n",
       "| Chinstrap | Dream | 45.2 | 16.6 | 191 | 3250 | female | 2009 |\n",
       "| Chinstrap | Dream | 49.3 | 19.9 | 203 | 4050 | male   | 2009 |\n",
       "| Chinstrap | Dream | 50.2 | 18.8 | 202 | 3800 | male   | 2009 |\n",
       "| Chinstrap | Dream | 45.6 | 19.4 | 194 | 3525 | female | 2009 |\n",
       "| Chinstrap | Dream | 51.9 | 19.5 | 206 | 3950 | male   | 2009 |\n",
       "| Chinstrap | Dream | 46.8 | 16.5 | 189 | 3650 | female | 2009 |\n",
       "| Chinstrap | Dream | 45.7 | 17.0 | 195 | 3650 | female | 2009 |\n",
       "| Chinstrap | Dream | 55.8 | 19.8 | 207 | 4000 | male   | 2009 |\n",
       "| Chinstrap | Dream | 43.5 | 18.1 | 202 | 3400 | female | 2009 |\n",
       "| Chinstrap | Dream | 49.6 | 18.2 | 193 | 3775 | male   | 2009 |\n",
       "| Chinstrap | Dream | 50.8 | 19.0 | 210 | 4100 | male   | 2009 |\n",
       "| Chinstrap | Dream | 50.2 | 18.7 | 198 | 3775 | female | 2009 |\n",
       "\n"
      ],
      "text/plain": [
       "    species   island    bill_length_mm bill_depth_mm flipper_length_mm\n",
       "1   Adelie    Torgersen 39.1           18.7          181              \n",
       "2   Adelie    Torgersen 39.5           17.4          186              \n",
       "3   Adelie    Torgersen 40.3           18.0          195              \n",
       "4   Adelie    Torgersen   NA             NA           NA              \n",
       "5   Adelie    Torgersen 36.7           19.3          193              \n",
       "6   Adelie    Torgersen 39.3           20.6          190              \n",
       "7   Adelie    Torgersen 38.9           17.8          181              \n",
       "8   Adelie    Torgersen 39.2           19.6          195              \n",
       "9   Adelie    Torgersen 34.1           18.1          193              \n",
       "10  Adelie    Torgersen 42.0           20.2          190              \n",
       "11  Adelie    Torgersen 37.8           17.1          186              \n",
       "12  Adelie    Torgersen 37.8           17.3          180              \n",
       "13  Adelie    Torgersen 41.1           17.6          182              \n",
       "14  Adelie    Torgersen 38.6           21.2          191              \n",
       "15  Adelie    Torgersen 34.6           21.1          198              \n",
       "16  Adelie    Torgersen 36.6           17.8          185              \n",
       "17  Adelie    Torgersen 38.7           19.0          195              \n",
       "18  Adelie    Torgersen 42.5           20.7          197              \n",
       "19  Adelie    Torgersen 34.4           18.4          184              \n",
       "20  Adelie    Torgersen 46.0           21.5          194              \n",
       "21  Adelie    Biscoe    37.8           18.3          174              \n",
       "22  Adelie    Biscoe    37.7           18.7          180              \n",
       "23  Adelie    Biscoe    35.9           19.2          189              \n",
       "24  Adelie    Biscoe    38.2           18.1          185              \n",
       "25  Adelie    Biscoe    38.8           17.2          180              \n",
       "26  Adelie    Biscoe    35.3           18.9          187              \n",
       "27  Adelie    Biscoe    40.6           18.6          183              \n",
       "28  Adelie    Biscoe    40.5           17.9          187              \n",
       "29  Adelie    Biscoe    37.9           18.6          172              \n",
       "30  Adelie    Biscoe    40.5           18.9          180              \n",
       "⋮   ⋮         ⋮         ⋮              ⋮             ⋮                \n",
       "315 Chinstrap Dream     46.9           16.6          192              \n",
       "316 Chinstrap Dream     53.5           19.9          205              \n",
       "317 Chinstrap Dream     49.0           19.5          210              \n",
       "318 Chinstrap Dream     46.2           17.5          187              \n",
       "319 Chinstrap Dream     50.9           19.1          196              \n",
       "320 Chinstrap Dream     45.5           17.0          196              \n",
       "321 Chinstrap Dream     50.9           17.9          196              \n",
       "322 Chinstrap Dream     50.8           18.5          201              \n",
       "323 Chinstrap Dream     50.1           17.9          190              \n",
       "324 Chinstrap Dream     49.0           19.6          212              \n",
       "325 Chinstrap Dream     51.5           18.7          187              \n",
       "326 Chinstrap Dream     49.8           17.3          198              \n",
       "327 Chinstrap Dream     48.1           16.4          199              \n",
       "328 Chinstrap Dream     51.4           19.0          201              \n",
       "329 Chinstrap Dream     45.7           17.3          193              \n",
       "330 Chinstrap Dream     50.7           19.7          203              \n",
       "331 Chinstrap Dream     42.5           17.3          187              \n",
       "332 Chinstrap Dream     52.2           18.8          197              \n",
       "333 Chinstrap Dream     45.2           16.6          191              \n",
       "334 Chinstrap Dream     49.3           19.9          203              \n",
       "335 Chinstrap Dream     50.2           18.8          202              \n",
       "336 Chinstrap Dream     45.6           19.4          194              \n",
       "337 Chinstrap Dream     51.9           19.5          206              \n",
       "338 Chinstrap Dream     46.8           16.5          189              \n",
       "339 Chinstrap Dream     45.7           17.0          195              \n",
       "340 Chinstrap Dream     55.8           19.8          207              \n",
       "341 Chinstrap Dream     43.5           18.1          202              \n",
       "342 Chinstrap Dream     49.6           18.2          193              \n",
       "343 Chinstrap Dream     50.8           19.0          210              \n",
       "344 Chinstrap Dream     50.2           18.7          198              \n",
       "    body_mass_g sex    year\n",
       "1   3750        male   2007\n",
       "2   3800        female 2007\n",
       "3   3250        female 2007\n",
       "4     NA        NA     2007\n",
       "5   3450        female 2007\n",
       "6   3650        male   2007\n",
       "7   3625        female 2007\n",
       "8   4675        male   2007\n",
       "9   3475        NA     2007\n",
       "10  4250        NA     2007\n",
       "11  3300        NA     2007\n",
       "12  3700        NA     2007\n",
       "13  3200        female 2007\n",
       "14  3800        male   2007\n",
       "15  4400        male   2007\n",
       "16  3700        female 2007\n",
       "17  3450        female 2007\n",
       "18  4500        male   2007\n",
       "19  3325        female 2007\n",
       "20  4200        male   2007\n",
       "21  3400        female 2007\n",
       "22  3600        male   2007\n",
       "23  3800        female 2007\n",
       "24  3950        male   2007\n",
       "25  3800        male   2007\n",
       "26  3800        female 2007\n",
       "27  3550        male   2007\n",
       "28  3200        female 2007\n",
       "29  3150        female 2007\n",
       "30  3950        male   2007\n",
       "⋮   ⋮           ⋮      ⋮   \n",
       "315 2700        female 2008\n",
       "316 4500        male   2008\n",
       "317 3950        male   2008\n",
       "318 3650        female 2008\n",
       "319 3550        male   2008\n",
       "320 3500        female 2008\n",
       "321 3675        female 2009\n",
       "322 4450        male   2009\n",
       "323 3400        female 2009\n",
       "324 4300        male   2009\n",
       "325 3250        male   2009\n",
       "326 3675        female 2009\n",
       "327 3325        female 2009\n",
       "328 3950        male   2009\n",
       "329 3600        female 2009\n",
       "330 4050        male   2009\n",
       "331 3350        female 2009\n",
       "332 3450        male   2009\n",
       "333 3250        female 2009\n",
       "334 4050        male   2009\n",
       "335 3800        male   2009\n",
       "336 3525        female 2009\n",
       "337 3950        male   2009\n",
       "338 3650        female 2009\n",
       "339 3650        female 2009\n",
       "340 4000        male   2009\n",
       "341 3400        female 2009\n",
       "342 3775        male   2009\n",
       "343 4100        male   2009\n",
       "344 3775        female 2009"
      ]
     },
     "metadata": {},
     "output_type": "display_data"
    }
   ],
   "source": [
    "penguins"
   ]
  },
  {
   "cell_type": "code",
   "execution_count": 8,
   "metadata": {
    "scrolled": true
   },
   "outputs": [
    {
     "data": {
      "text/plain": [
       "      species          island    bill_length_mm  bill_depth_mm  \n",
       " Adelie   :152   Biscoe   :168   Min.   :32.10   Min.   :13.10  \n",
       " Chinstrap: 68   Dream    :124   1st Qu.:39.23   1st Qu.:15.60  \n",
       " Gentoo   :124   Torgersen: 52   Median :44.45   Median :17.30  \n",
       "                                 Mean   :43.92   Mean   :17.15  \n",
       "                                 3rd Qu.:48.50   3rd Qu.:18.70  \n",
       "                                 Max.   :59.60   Max.   :21.50  \n",
       "                                 NA's   :2       NA's   :2      \n",
       " flipper_length_mm  body_mass_g       sex           year     \n",
       " Min.   :172.0     Min.   :2700   female:165   Min.   :2007  \n",
       " 1st Qu.:190.0     1st Qu.:3550   male  :168   1st Qu.:2007  \n",
       " Median :197.0     Median :4050   NA's  : 11   Median :2008  \n",
       " Mean   :200.9     Mean   :4202                Mean   :2008  \n",
       " 3rd Qu.:213.0     3rd Qu.:4750                3rd Qu.:2009  \n",
       " Max.   :231.0     Max.   :6300                Max.   :2009  \n",
       " NA's   :2         NA's   :2                                 "
      ]
     },
     "metadata": {},
     "output_type": "display_data"
    }
   ],
   "source": [
    "summary(penguins)"
   ]
  },
  {
   "cell_type": "code",
   "execution_count": 9,
   "metadata": {},
   "outputs": [
    {
     "data": {
      "text/html": [
       "<table>\n",
       "<caption>A tibble: 124 × 8</caption>\n",
       "<thead>\n",
       "\t<tr><th scope=col>species</th><th scope=col>island</th><th scope=col>bill_length_mm</th><th scope=col>bill_depth_mm</th><th scope=col>flipper_length_mm</th><th scope=col>body_mass_g</th><th scope=col>sex</th><th scope=col>year</th></tr>\n",
       "\t<tr><th scope=col>&lt;fct&gt;</th><th scope=col>&lt;fct&gt;</th><th scope=col>&lt;dbl&gt;</th><th scope=col>&lt;dbl&gt;</th><th scope=col>&lt;int&gt;</th><th scope=col>&lt;int&gt;</th><th scope=col>&lt;fct&gt;</th><th scope=col>&lt;int&gt;</th></tr>\n",
       "</thead>\n",
       "<tbody>\n",
       "\t<tr><td>Gentoo</td><td>Biscoe</td><td>46.1</td><td>13.2</td><td>211</td><td>4500</td><td>female</td><td>2007</td></tr>\n",
       "\t<tr><td>Gentoo</td><td>Biscoe</td><td>50.0</td><td>16.3</td><td>230</td><td>5700</td><td>male  </td><td>2007</td></tr>\n",
       "\t<tr><td>Gentoo</td><td>Biscoe</td><td>48.7</td><td>14.1</td><td>210</td><td>4450</td><td>female</td><td>2007</td></tr>\n",
       "\t<tr><td>Gentoo</td><td>Biscoe</td><td>50.0</td><td>15.2</td><td>218</td><td>5700</td><td>male  </td><td>2007</td></tr>\n",
       "\t<tr><td>Gentoo</td><td>Biscoe</td><td>47.6</td><td>14.5</td><td>215</td><td>5400</td><td>male  </td><td>2007</td></tr>\n",
       "\t<tr><td>Gentoo</td><td>Biscoe</td><td>46.5</td><td>13.5</td><td>210</td><td>4550</td><td>female</td><td>2007</td></tr>\n",
       "\t<tr><td>Gentoo</td><td>Biscoe</td><td>45.4</td><td>14.6</td><td>211</td><td>4800</td><td>female</td><td>2007</td></tr>\n",
       "\t<tr><td>Gentoo</td><td>Biscoe</td><td>46.7</td><td>15.3</td><td>219</td><td>5200</td><td>male  </td><td>2007</td></tr>\n",
       "\t<tr><td>Gentoo</td><td>Biscoe</td><td>43.3</td><td>13.4</td><td>209</td><td>4400</td><td>female</td><td>2007</td></tr>\n",
       "\t<tr><td>Gentoo</td><td>Biscoe</td><td>46.8</td><td>15.4</td><td>215</td><td>5150</td><td>male  </td><td>2007</td></tr>\n",
       "\t<tr><td>Gentoo</td><td>Biscoe</td><td>40.9</td><td>13.7</td><td>214</td><td>4650</td><td>female</td><td>2007</td></tr>\n",
       "\t<tr><td>Gentoo</td><td>Biscoe</td><td>49.0</td><td>16.1</td><td>216</td><td>5550</td><td>male  </td><td>2007</td></tr>\n",
       "\t<tr><td>Gentoo</td><td>Biscoe</td><td>45.5</td><td>13.7</td><td>214</td><td>4650</td><td>female</td><td>2007</td></tr>\n",
       "\t<tr><td>Gentoo</td><td>Biscoe</td><td>48.4</td><td>14.6</td><td>213</td><td>5850</td><td>male  </td><td>2007</td></tr>\n",
       "\t<tr><td>Gentoo</td><td>Biscoe</td><td>45.8</td><td>14.6</td><td>210</td><td>4200</td><td>female</td><td>2007</td></tr>\n",
       "\t<tr><td>Gentoo</td><td>Biscoe</td><td>49.3</td><td>15.7</td><td>217</td><td>5850</td><td>male  </td><td>2007</td></tr>\n",
       "\t<tr><td>Gentoo</td><td>Biscoe</td><td>42.0</td><td>13.5</td><td>210</td><td>4150</td><td>female</td><td>2007</td></tr>\n",
       "\t<tr><td>Gentoo</td><td>Biscoe</td><td>49.2</td><td>15.2</td><td>221</td><td>6300</td><td>male  </td><td>2007</td></tr>\n",
       "\t<tr><td>Gentoo</td><td>Biscoe</td><td>46.2</td><td>14.5</td><td>209</td><td>4800</td><td>female</td><td>2007</td></tr>\n",
       "\t<tr><td>Gentoo</td><td>Biscoe</td><td>48.7</td><td>15.1</td><td>222</td><td>5350</td><td>male  </td><td>2007</td></tr>\n",
       "\t<tr><td>Gentoo</td><td>Biscoe</td><td>50.2</td><td>14.3</td><td>218</td><td>5700</td><td>male  </td><td>2007</td></tr>\n",
       "\t<tr><td>Gentoo</td><td>Biscoe</td><td>45.1</td><td>14.5</td><td>215</td><td>5000</td><td>female</td><td>2007</td></tr>\n",
       "\t<tr><td>Gentoo</td><td>Biscoe</td><td>46.5</td><td>14.5</td><td>213</td><td>4400</td><td>female</td><td>2007</td></tr>\n",
       "\t<tr><td>Gentoo</td><td>Biscoe</td><td>46.3</td><td>15.8</td><td>215</td><td>5050</td><td>male  </td><td>2007</td></tr>\n",
       "\t<tr><td>Gentoo</td><td>Biscoe</td><td>42.9</td><td>13.1</td><td>215</td><td>5000</td><td>female</td><td>2007</td></tr>\n",
       "\t<tr><td>Gentoo</td><td>Biscoe</td><td>46.1</td><td>15.1</td><td>215</td><td>5100</td><td>male  </td><td>2007</td></tr>\n",
       "\t<tr><td>Gentoo</td><td>Biscoe</td><td>44.5</td><td>14.3</td><td>216</td><td>4100</td><td>NA    </td><td>2007</td></tr>\n",
       "\t<tr><td>Gentoo</td><td>Biscoe</td><td>47.8</td><td>15.0</td><td>215</td><td>5650</td><td>male  </td><td>2007</td></tr>\n",
       "\t<tr><td>Gentoo</td><td>Biscoe</td><td>48.2</td><td>14.3</td><td>210</td><td>4600</td><td>female</td><td>2007</td></tr>\n",
       "\t<tr><td>Gentoo</td><td>Biscoe</td><td>50.0</td><td>15.3</td><td>220</td><td>5550</td><td>male  </td><td>2007</td></tr>\n",
       "\t<tr><td>⋮</td><td>⋮</td><td>⋮</td><td>⋮</td><td>⋮</td><td>⋮</td><td>⋮</td><td>⋮</td></tr>\n",
       "\t<tr><td>Gentoo</td><td>Biscoe</td><td>44.5</td><td>14.7</td><td>214</td><td>4850</td><td>female</td><td>2009</td></tr>\n",
       "\t<tr><td>Gentoo</td><td>Biscoe</td><td>50.8</td><td>15.7</td><td>226</td><td>5200</td><td>male  </td><td>2009</td></tr>\n",
       "\t<tr><td>Gentoo</td><td>Biscoe</td><td>49.4</td><td>15.8</td><td>216</td><td>4925</td><td>male  </td><td>2009</td></tr>\n",
       "\t<tr><td>Gentoo</td><td>Biscoe</td><td>46.9</td><td>14.6</td><td>222</td><td>4875</td><td>female</td><td>2009</td></tr>\n",
       "\t<tr><td>Gentoo</td><td>Biscoe</td><td>48.4</td><td>14.4</td><td>203</td><td>4625</td><td>female</td><td>2009</td></tr>\n",
       "\t<tr><td>Gentoo</td><td>Biscoe</td><td>51.1</td><td>16.5</td><td>225</td><td>5250</td><td>male  </td><td>2009</td></tr>\n",
       "\t<tr><td>Gentoo</td><td>Biscoe</td><td>48.5</td><td>15.0</td><td>219</td><td>4850</td><td>female</td><td>2009</td></tr>\n",
       "\t<tr><td>Gentoo</td><td>Biscoe</td><td>55.9</td><td>17.0</td><td>228</td><td>5600</td><td>male  </td><td>2009</td></tr>\n",
       "\t<tr><td>Gentoo</td><td>Biscoe</td><td>47.2</td><td>15.5</td><td>215</td><td>4975</td><td>female</td><td>2009</td></tr>\n",
       "\t<tr><td>Gentoo</td><td>Biscoe</td><td>49.1</td><td>15.0</td><td>228</td><td>5500</td><td>male  </td><td>2009</td></tr>\n",
       "\t<tr><td>Gentoo</td><td>Biscoe</td><td>47.3</td><td>13.8</td><td>216</td><td>4725</td><td>NA    </td><td>2009</td></tr>\n",
       "\t<tr><td>Gentoo</td><td>Biscoe</td><td>46.8</td><td>16.1</td><td>215</td><td>5500</td><td>male  </td><td>2009</td></tr>\n",
       "\t<tr><td>Gentoo</td><td>Biscoe</td><td>41.7</td><td>14.7</td><td>210</td><td>4700</td><td>female</td><td>2009</td></tr>\n",
       "\t<tr><td>Gentoo</td><td>Biscoe</td><td>53.4</td><td>15.8</td><td>219</td><td>5500</td><td>male  </td><td>2009</td></tr>\n",
       "\t<tr><td>Gentoo</td><td>Biscoe</td><td>43.3</td><td>14.0</td><td>208</td><td>4575</td><td>female</td><td>2009</td></tr>\n",
       "\t<tr><td>Gentoo</td><td>Biscoe</td><td>48.1</td><td>15.1</td><td>209</td><td>5500</td><td>male  </td><td>2009</td></tr>\n",
       "\t<tr><td>Gentoo</td><td>Biscoe</td><td>50.5</td><td>15.2</td><td>216</td><td>5000</td><td>female</td><td>2009</td></tr>\n",
       "\t<tr><td>Gentoo</td><td>Biscoe</td><td>49.8</td><td>15.9</td><td>229</td><td>5950</td><td>male  </td><td>2009</td></tr>\n",
       "\t<tr><td>Gentoo</td><td>Biscoe</td><td>43.5</td><td>15.2</td><td>213</td><td>4650</td><td>female</td><td>2009</td></tr>\n",
       "\t<tr><td>Gentoo</td><td>Biscoe</td><td>51.5</td><td>16.3</td><td>230</td><td>5500</td><td>male  </td><td>2009</td></tr>\n",
       "\t<tr><td>Gentoo</td><td>Biscoe</td><td>46.2</td><td>14.1</td><td>217</td><td>4375</td><td>female</td><td>2009</td></tr>\n",
       "\t<tr><td>Gentoo</td><td>Biscoe</td><td>55.1</td><td>16.0</td><td>230</td><td>5850</td><td>male  </td><td>2009</td></tr>\n",
       "\t<tr><td>Gentoo</td><td>Biscoe</td><td>44.5</td><td>15.7</td><td>217</td><td>4875</td><td>NA    </td><td>2009</td></tr>\n",
       "\t<tr><td>Gentoo</td><td>Biscoe</td><td>48.8</td><td>16.2</td><td>222</td><td>6000</td><td>male  </td><td>2009</td></tr>\n",
       "\t<tr><td>Gentoo</td><td>Biscoe</td><td>47.2</td><td>13.7</td><td>214</td><td>4925</td><td>female</td><td>2009</td></tr>\n",
       "\t<tr><td>Gentoo</td><td>Biscoe</td><td>  NA</td><td>  NA</td><td> NA</td><td>  NA</td><td>NA    </td><td>2009</td></tr>\n",
       "\t<tr><td>Gentoo</td><td>Biscoe</td><td>46.8</td><td>14.3</td><td>215</td><td>4850</td><td>female</td><td>2009</td></tr>\n",
       "\t<tr><td>Gentoo</td><td>Biscoe</td><td>50.4</td><td>15.7</td><td>222</td><td>5750</td><td>male  </td><td>2009</td></tr>\n",
       "\t<tr><td>Gentoo</td><td>Biscoe</td><td>45.2</td><td>14.8</td><td>212</td><td>5200</td><td>female</td><td>2009</td></tr>\n",
       "\t<tr><td>Gentoo</td><td>Biscoe</td><td>49.9</td><td>16.1</td><td>213</td><td>5400</td><td>male  </td><td>2009</td></tr>\n",
       "</tbody>\n",
       "</table>\n"
      ],
      "text/latex": [
       "A tibble: 124 × 8\n",
       "\\begin{tabular}{llllllll}\n",
       " species & island & bill\\_length\\_mm & bill\\_depth\\_mm & flipper\\_length\\_mm & body\\_mass\\_g & sex & year\\\\\n",
       " <fct> & <fct> & <dbl> & <dbl> & <int> & <int> & <fct> & <int>\\\\\n",
       "\\hline\n",
       "\t Gentoo & Biscoe & 46.1 & 13.2 & 211 & 4500 & female & 2007\\\\\n",
       "\t Gentoo & Biscoe & 50.0 & 16.3 & 230 & 5700 & male   & 2007\\\\\n",
       "\t Gentoo & Biscoe & 48.7 & 14.1 & 210 & 4450 & female & 2007\\\\\n",
       "\t Gentoo & Biscoe & 50.0 & 15.2 & 218 & 5700 & male   & 2007\\\\\n",
       "\t Gentoo & Biscoe & 47.6 & 14.5 & 215 & 5400 & male   & 2007\\\\\n",
       "\t Gentoo & Biscoe & 46.5 & 13.5 & 210 & 4550 & female & 2007\\\\\n",
       "\t Gentoo & Biscoe & 45.4 & 14.6 & 211 & 4800 & female & 2007\\\\\n",
       "\t Gentoo & Biscoe & 46.7 & 15.3 & 219 & 5200 & male   & 2007\\\\\n",
       "\t Gentoo & Biscoe & 43.3 & 13.4 & 209 & 4400 & female & 2007\\\\\n",
       "\t Gentoo & Biscoe & 46.8 & 15.4 & 215 & 5150 & male   & 2007\\\\\n",
       "\t Gentoo & Biscoe & 40.9 & 13.7 & 214 & 4650 & female & 2007\\\\\n",
       "\t Gentoo & Biscoe & 49.0 & 16.1 & 216 & 5550 & male   & 2007\\\\\n",
       "\t Gentoo & Biscoe & 45.5 & 13.7 & 214 & 4650 & female & 2007\\\\\n",
       "\t Gentoo & Biscoe & 48.4 & 14.6 & 213 & 5850 & male   & 2007\\\\\n",
       "\t Gentoo & Biscoe & 45.8 & 14.6 & 210 & 4200 & female & 2007\\\\\n",
       "\t Gentoo & Biscoe & 49.3 & 15.7 & 217 & 5850 & male   & 2007\\\\\n",
       "\t Gentoo & Biscoe & 42.0 & 13.5 & 210 & 4150 & female & 2007\\\\\n",
       "\t Gentoo & Biscoe & 49.2 & 15.2 & 221 & 6300 & male   & 2007\\\\\n",
       "\t Gentoo & Biscoe & 46.2 & 14.5 & 209 & 4800 & female & 2007\\\\\n",
       "\t Gentoo & Biscoe & 48.7 & 15.1 & 222 & 5350 & male   & 2007\\\\\n",
       "\t Gentoo & Biscoe & 50.2 & 14.3 & 218 & 5700 & male   & 2007\\\\\n",
       "\t Gentoo & Biscoe & 45.1 & 14.5 & 215 & 5000 & female & 2007\\\\\n",
       "\t Gentoo & Biscoe & 46.5 & 14.5 & 213 & 4400 & female & 2007\\\\\n",
       "\t Gentoo & Biscoe & 46.3 & 15.8 & 215 & 5050 & male   & 2007\\\\\n",
       "\t Gentoo & Biscoe & 42.9 & 13.1 & 215 & 5000 & female & 2007\\\\\n",
       "\t Gentoo & Biscoe & 46.1 & 15.1 & 215 & 5100 & male   & 2007\\\\\n",
       "\t Gentoo & Biscoe & 44.5 & 14.3 & 216 & 4100 & NA     & 2007\\\\\n",
       "\t Gentoo & Biscoe & 47.8 & 15.0 & 215 & 5650 & male   & 2007\\\\\n",
       "\t Gentoo & Biscoe & 48.2 & 14.3 & 210 & 4600 & female & 2007\\\\\n",
       "\t Gentoo & Biscoe & 50.0 & 15.3 & 220 & 5550 & male   & 2007\\\\\n",
       "\t ⋮ & ⋮ & ⋮ & ⋮ & ⋮ & ⋮ & ⋮ & ⋮\\\\\n",
       "\t Gentoo & Biscoe & 44.5 & 14.7 & 214 & 4850 & female & 2009\\\\\n",
       "\t Gentoo & Biscoe & 50.8 & 15.7 & 226 & 5200 & male   & 2009\\\\\n",
       "\t Gentoo & Biscoe & 49.4 & 15.8 & 216 & 4925 & male   & 2009\\\\\n",
       "\t Gentoo & Biscoe & 46.9 & 14.6 & 222 & 4875 & female & 2009\\\\\n",
       "\t Gentoo & Biscoe & 48.4 & 14.4 & 203 & 4625 & female & 2009\\\\\n",
       "\t Gentoo & Biscoe & 51.1 & 16.5 & 225 & 5250 & male   & 2009\\\\\n",
       "\t Gentoo & Biscoe & 48.5 & 15.0 & 219 & 4850 & female & 2009\\\\\n",
       "\t Gentoo & Biscoe & 55.9 & 17.0 & 228 & 5600 & male   & 2009\\\\\n",
       "\t Gentoo & Biscoe & 47.2 & 15.5 & 215 & 4975 & female & 2009\\\\\n",
       "\t Gentoo & Biscoe & 49.1 & 15.0 & 228 & 5500 & male   & 2009\\\\\n",
       "\t Gentoo & Biscoe & 47.3 & 13.8 & 216 & 4725 & NA     & 2009\\\\\n",
       "\t Gentoo & Biscoe & 46.8 & 16.1 & 215 & 5500 & male   & 2009\\\\\n",
       "\t Gentoo & Biscoe & 41.7 & 14.7 & 210 & 4700 & female & 2009\\\\\n",
       "\t Gentoo & Biscoe & 53.4 & 15.8 & 219 & 5500 & male   & 2009\\\\\n",
       "\t Gentoo & Biscoe & 43.3 & 14.0 & 208 & 4575 & female & 2009\\\\\n",
       "\t Gentoo & Biscoe & 48.1 & 15.1 & 209 & 5500 & male   & 2009\\\\\n",
       "\t Gentoo & Biscoe & 50.5 & 15.2 & 216 & 5000 & female & 2009\\\\\n",
       "\t Gentoo & Biscoe & 49.8 & 15.9 & 229 & 5950 & male   & 2009\\\\\n",
       "\t Gentoo & Biscoe & 43.5 & 15.2 & 213 & 4650 & female & 2009\\\\\n",
       "\t Gentoo & Biscoe & 51.5 & 16.3 & 230 & 5500 & male   & 2009\\\\\n",
       "\t Gentoo & Biscoe & 46.2 & 14.1 & 217 & 4375 & female & 2009\\\\\n",
       "\t Gentoo & Biscoe & 55.1 & 16.0 & 230 & 5850 & male   & 2009\\\\\n",
       "\t Gentoo & Biscoe & 44.5 & 15.7 & 217 & 4875 & NA     & 2009\\\\\n",
       "\t Gentoo & Biscoe & 48.8 & 16.2 & 222 & 6000 & male   & 2009\\\\\n",
       "\t Gentoo & Biscoe & 47.2 & 13.7 & 214 & 4925 & female & 2009\\\\\n",
       "\t Gentoo & Biscoe &   NA &   NA &  NA &   NA & NA     & 2009\\\\\n",
       "\t Gentoo & Biscoe & 46.8 & 14.3 & 215 & 4850 & female & 2009\\\\\n",
       "\t Gentoo & Biscoe & 50.4 & 15.7 & 222 & 5750 & male   & 2009\\\\\n",
       "\t Gentoo & Biscoe & 45.2 & 14.8 & 212 & 5200 & female & 2009\\\\\n",
       "\t Gentoo & Biscoe & 49.9 & 16.1 & 213 & 5400 & male   & 2009\\\\\n",
       "\\end{tabular}\n"
      ],
      "text/markdown": [
       "\n",
       "A tibble: 124 × 8\n",
       "\n",
       "| species &lt;fct&gt; | island &lt;fct&gt; | bill_length_mm &lt;dbl&gt; | bill_depth_mm &lt;dbl&gt; | flipper_length_mm &lt;int&gt; | body_mass_g &lt;int&gt; | sex &lt;fct&gt; | year &lt;int&gt; |\n",
       "|---|---|---|---|---|---|---|---|\n",
       "| Gentoo | Biscoe | 46.1 | 13.2 | 211 | 4500 | female | 2007 |\n",
       "| Gentoo | Biscoe | 50.0 | 16.3 | 230 | 5700 | male   | 2007 |\n",
       "| Gentoo | Biscoe | 48.7 | 14.1 | 210 | 4450 | female | 2007 |\n",
       "| Gentoo | Biscoe | 50.0 | 15.2 | 218 | 5700 | male   | 2007 |\n",
       "| Gentoo | Biscoe | 47.6 | 14.5 | 215 | 5400 | male   | 2007 |\n",
       "| Gentoo | Biscoe | 46.5 | 13.5 | 210 | 4550 | female | 2007 |\n",
       "| Gentoo | Biscoe | 45.4 | 14.6 | 211 | 4800 | female | 2007 |\n",
       "| Gentoo | Biscoe | 46.7 | 15.3 | 219 | 5200 | male   | 2007 |\n",
       "| Gentoo | Biscoe | 43.3 | 13.4 | 209 | 4400 | female | 2007 |\n",
       "| Gentoo | Biscoe | 46.8 | 15.4 | 215 | 5150 | male   | 2007 |\n",
       "| Gentoo | Biscoe | 40.9 | 13.7 | 214 | 4650 | female | 2007 |\n",
       "| Gentoo | Biscoe | 49.0 | 16.1 | 216 | 5550 | male   | 2007 |\n",
       "| Gentoo | Biscoe | 45.5 | 13.7 | 214 | 4650 | female | 2007 |\n",
       "| Gentoo | Biscoe | 48.4 | 14.6 | 213 | 5850 | male   | 2007 |\n",
       "| Gentoo | Biscoe | 45.8 | 14.6 | 210 | 4200 | female | 2007 |\n",
       "| Gentoo | Biscoe | 49.3 | 15.7 | 217 | 5850 | male   | 2007 |\n",
       "| Gentoo | Biscoe | 42.0 | 13.5 | 210 | 4150 | female | 2007 |\n",
       "| Gentoo | Biscoe | 49.2 | 15.2 | 221 | 6300 | male   | 2007 |\n",
       "| Gentoo | Biscoe | 46.2 | 14.5 | 209 | 4800 | female | 2007 |\n",
       "| Gentoo | Biscoe | 48.7 | 15.1 | 222 | 5350 | male   | 2007 |\n",
       "| Gentoo | Biscoe | 50.2 | 14.3 | 218 | 5700 | male   | 2007 |\n",
       "| Gentoo | Biscoe | 45.1 | 14.5 | 215 | 5000 | female | 2007 |\n",
       "| Gentoo | Biscoe | 46.5 | 14.5 | 213 | 4400 | female | 2007 |\n",
       "| Gentoo | Biscoe | 46.3 | 15.8 | 215 | 5050 | male   | 2007 |\n",
       "| Gentoo | Biscoe | 42.9 | 13.1 | 215 | 5000 | female | 2007 |\n",
       "| Gentoo | Biscoe | 46.1 | 15.1 | 215 | 5100 | male   | 2007 |\n",
       "| Gentoo | Biscoe | 44.5 | 14.3 | 216 | 4100 | NA     | 2007 |\n",
       "| Gentoo | Biscoe | 47.8 | 15.0 | 215 | 5650 | male   | 2007 |\n",
       "| Gentoo | Biscoe | 48.2 | 14.3 | 210 | 4600 | female | 2007 |\n",
       "| Gentoo | Biscoe | 50.0 | 15.3 | 220 | 5550 | male   | 2007 |\n",
       "| ⋮ | ⋮ | ⋮ | ⋮ | ⋮ | ⋮ | ⋮ | ⋮ |\n",
       "| Gentoo | Biscoe | 44.5 | 14.7 | 214 | 4850 | female | 2009 |\n",
       "| Gentoo | Biscoe | 50.8 | 15.7 | 226 | 5200 | male   | 2009 |\n",
       "| Gentoo | Biscoe | 49.4 | 15.8 | 216 | 4925 | male   | 2009 |\n",
       "| Gentoo | Biscoe | 46.9 | 14.6 | 222 | 4875 | female | 2009 |\n",
       "| Gentoo | Biscoe | 48.4 | 14.4 | 203 | 4625 | female | 2009 |\n",
       "| Gentoo | Biscoe | 51.1 | 16.5 | 225 | 5250 | male   | 2009 |\n",
       "| Gentoo | Biscoe | 48.5 | 15.0 | 219 | 4850 | female | 2009 |\n",
       "| Gentoo | Biscoe | 55.9 | 17.0 | 228 | 5600 | male   | 2009 |\n",
       "| Gentoo | Biscoe | 47.2 | 15.5 | 215 | 4975 | female | 2009 |\n",
       "| Gentoo | Biscoe | 49.1 | 15.0 | 228 | 5500 | male   | 2009 |\n",
       "| Gentoo | Biscoe | 47.3 | 13.8 | 216 | 4725 | NA     | 2009 |\n",
       "| Gentoo | Biscoe | 46.8 | 16.1 | 215 | 5500 | male   | 2009 |\n",
       "| Gentoo | Biscoe | 41.7 | 14.7 | 210 | 4700 | female | 2009 |\n",
       "| Gentoo | Biscoe | 53.4 | 15.8 | 219 | 5500 | male   | 2009 |\n",
       "| Gentoo | Biscoe | 43.3 | 14.0 | 208 | 4575 | female | 2009 |\n",
       "| Gentoo | Biscoe | 48.1 | 15.1 | 209 | 5500 | male   | 2009 |\n",
       "| Gentoo | Biscoe | 50.5 | 15.2 | 216 | 5000 | female | 2009 |\n",
       "| Gentoo | Biscoe | 49.8 | 15.9 | 229 | 5950 | male   | 2009 |\n",
       "| Gentoo | Biscoe | 43.5 | 15.2 | 213 | 4650 | female | 2009 |\n",
       "| Gentoo | Biscoe | 51.5 | 16.3 | 230 | 5500 | male   | 2009 |\n",
       "| Gentoo | Biscoe | 46.2 | 14.1 | 217 | 4375 | female | 2009 |\n",
       "| Gentoo | Biscoe | 55.1 | 16.0 | 230 | 5850 | male   | 2009 |\n",
       "| Gentoo | Biscoe | 44.5 | 15.7 | 217 | 4875 | NA     | 2009 |\n",
       "| Gentoo | Biscoe | 48.8 | 16.2 | 222 | 6000 | male   | 2009 |\n",
       "| Gentoo | Biscoe | 47.2 | 13.7 | 214 | 4925 | female | 2009 |\n",
       "| Gentoo | Biscoe |   NA |   NA |  NA |   NA | NA     | 2009 |\n",
       "| Gentoo | Biscoe | 46.8 | 14.3 | 215 | 4850 | female | 2009 |\n",
       "| Gentoo | Biscoe | 50.4 | 15.7 | 222 | 5750 | male   | 2009 |\n",
       "| Gentoo | Biscoe | 45.2 | 14.8 | 212 | 5200 | female | 2009 |\n",
       "| Gentoo | Biscoe | 49.9 | 16.1 | 213 | 5400 | male   | 2009 |\n",
       "\n"
      ],
      "text/plain": [
       "    species island bill_length_mm bill_depth_mm flipper_length_mm body_mass_g\n",
       "1   Gentoo  Biscoe 46.1           13.2          211               4500       \n",
       "2   Gentoo  Biscoe 50.0           16.3          230               5700       \n",
       "3   Gentoo  Biscoe 48.7           14.1          210               4450       \n",
       "4   Gentoo  Biscoe 50.0           15.2          218               5700       \n",
       "5   Gentoo  Biscoe 47.6           14.5          215               5400       \n",
       "6   Gentoo  Biscoe 46.5           13.5          210               4550       \n",
       "7   Gentoo  Biscoe 45.4           14.6          211               4800       \n",
       "8   Gentoo  Biscoe 46.7           15.3          219               5200       \n",
       "9   Gentoo  Biscoe 43.3           13.4          209               4400       \n",
       "10  Gentoo  Biscoe 46.8           15.4          215               5150       \n",
       "11  Gentoo  Biscoe 40.9           13.7          214               4650       \n",
       "12  Gentoo  Biscoe 49.0           16.1          216               5550       \n",
       "13  Gentoo  Biscoe 45.5           13.7          214               4650       \n",
       "14  Gentoo  Biscoe 48.4           14.6          213               5850       \n",
       "15  Gentoo  Biscoe 45.8           14.6          210               4200       \n",
       "16  Gentoo  Biscoe 49.3           15.7          217               5850       \n",
       "17  Gentoo  Biscoe 42.0           13.5          210               4150       \n",
       "18  Gentoo  Biscoe 49.2           15.2          221               6300       \n",
       "19  Gentoo  Biscoe 46.2           14.5          209               4800       \n",
       "20  Gentoo  Biscoe 48.7           15.1          222               5350       \n",
       "21  Gentoo  Biscoe 50.2           14.3          218               5700       \n",
       "22  Gentoo  Biscoe 45.1           14.5          215               5000       \n",
       "23  Gentoo  Biscoe 46.5           14.5          213               4400       \n",
       "24  Gentoo  Biscoe 46.3           15.8          215               5050       \n",
       "25  Gentoo  Biscoe 42.9           13.1          215               5000       \n",
       "26  Gentoo  Biscoe 46.1           15.1          215               5100       \n",
       "27  Gentoo  Biscoe 44.5           14.3          216               4100       \n",
       "28  Gentoo  Biscoe 47.8           15.0          215               5650       \n",
       "29  Gentoo  Biscoe 48.2           14.3          210               4600       \n",
       "30  Gentoo  Biscoe 50.0           15.3          220               5550       \n",
       "⋮   ⋮       ⋮      ⋮              ⋮             ⋮                 ⋮          \n",
       "95  Gentoo  Biscoe 44.5           14.7          214               4850       \n",
       "96  Gentoo  Biscoe 50.8           15.7          226               5200       \n",
       "97  Gentoo  Biscoe 49.4           15.8          216               4925       \n",
       "98  Gentoo  Biscoe 46.9           14.6          222               4875       \n",
       "99  Gentoo  Biscoe 48.4           14.4          203               4625       \n",
       "100 Gentoo  Biscoe 51.1           16.5          225               5250       \n",
       "101 Gentoo  Biscoe 48.5           15.0          219               4850       \n",
       "102 Gentoo  Biscoe 55.9           17.0          228               5600       \n",
       "103 Gentoo  Biscoe 47.2           15.5          215               4975       \n",
       "104 Gentoo  Biscoe 49.1           15.0          228               5500       \n",
       "105 Gentoo  Biscoe 47.3           13.8          216               4725       \n",
       "106 Gentoo  Biscoe 46.8           16.1          215               5500       \n",
       "107 Gentoo  Biscoe 41.7           14.7          210               4700       \n",
       "108 Gentoo  Biscoe 53.4           15.8          219               5500       \n",
       "109 Gentoo  Biscoe 43.3           14.0          208               4575       \n",
       "110 Gentoo  Biscoe 48.1           15.1          209               5500       \n",
       "111 Gentoo  Biscoe 50.5           15.2          216               5000       \n",
       "112 Gentoo  Biscoe 49.8           15.9          229               5950       \n",
       "113 Gentoo  Biscoe 43.5           15.2          213               4650       \n",
       "114 Gentoo  Biscoe 51.5           16.3          230               5500       \n",
       "115 Gentoo  Biscoe 46.2           14.1          217               4375       \n",
       "116 Gentoo  Biscoe 55.1           16.0          230               5850       \n",
       "117 Gentoo  Biscoe 44.5           15.7          217               4875       \n",
       "118 Gentoo  Biscoe 48.8           16.2          222               6000       \n",
       "119 Gentoo  Biscoe 47.2           13.7          214               4925       \n",
       "120 Gentoo  Biscoe   NA             NA           NA                 NA       \n",
       "121 Gentoo  Biscoe 46.8           14.3          215               4850       \n",
       "122 Gentoo  Biscoe 50.4           15.7          222               5750       \n",
       "123 Gentoo  Biscoe 45.2           14.8          212               5200       \n",
       "124 Gentoo  Biscoe 49.9           16.1          213               5400       \n",
       "    sex    year\n",
       "1   female 2007\n",
       "2   male   2007\n",
       "3   female 2007\n",
       "4   male   2007\n",
       "5   male   2007\n",
       "6   female 2007\n",
       "7   female 2007\n",
       "8   male   2007\n",
       "9   female 2007\n",
       "10  male   2007\n",
       "11  female 2007\n",
       "12  male   2007\n",
       "13  female 2007\n",
       "14  male   2007\n",
       "15  female 2007\n",
       "16  male   2007\n",
       "17  female 2007\n",
       "18  male   2007\n",
       "19  female 2007\n",
       "20  male   2007\n",
       "21  male   2007\n",
       "22  female 2007\n",
       "23  female 2007\n",
       "24  male   2007\n",
       "25  female 2007\n",
       "26  male   2007\n",
       "27  NA     2007\n",
       "28  male   2007\n",
       "29  female 2007\n",
       "30  male   2007\n",
       "⋮   ⋮      ⋮   \n",
       "95  female 2009\n",
       "96  male   2009\n",
       "97  male   2009\n",
       "98  female 2009\n",
       "99  female 2009\n",
       "100 male   2009\n",
       "101 female 2009\n",
       "102 male   2009\n",
       "103 female 2009\n",
       "104 male   2009\n",
       "105 NA     2009\n",
       "106 male   2009\n",
       "107 female 2009\n",
       "108 male   2009\n",
       "109 female 2009\n",
       "110 male   2009\n",
       "111 female 2009\n",
       "112 male   2009\n",
       "113 female 2009\n",
       "114 male   2009\n",
       "115 female 2009\n",
       "116 male   2009\n",
       "117 NA     2009\n",
       "118 male   2009\n",
       "119 female 2009\n",
       "120 NA     2009\n",
       "121 female 2009\n",
       "122 male   2009\n",
       "123 female 2009\n",
       "124 male   2009"
      ]
     },
     "metadata": {},
     "output_type": "display_data"
    }
   ],
   "source": [
    "penguins[penguins$species == \"Gentoo\",]"
   ]
  },
  {
   "cell_type": "code",
   "execution_count": 10,
   "metadata": {
    "scrolled": true
   },
   "outputs": [
    {
     "data": {
      "text/plain": [
       "      species          island    bill_length_mm  bill_depth_mm  \n",
       " Adelie   :  0   Biscoe   :124   Min.   :40.90   Min.   :13.10  \n",
       " Chinstrap:  0   Dream    :  0   1st Qu.:45.30   1st Qu.:14.20  \n",
       " Gentoo   :124   Torgersen:  0   Median :47.30   Median :15.00  \n",
       "                                 Mean   :47.50   Mean   :14.98  \n",
       "                                 3rd Qu.:49.55   3rd Qu.:15.70  \n",
       "                                 Max.   :59.60   Max.   :17.30  \n",
       "                                 NA's   :1       NA's   :1      \n",
       " flipper_length_mm  body_mass_g       sex          year     \n",
       " Min.   :203.0     Min.   :3950   female:58   Min.   :2007  \n",
       " 1st Qu.:212.0     1st Qu.:4700   male  :61   1st Qu.:2007  \n",
       " Median :216.0     Median :5000   NA's  : 5   Median :2008  \n",
       " Mean   :217.2     Mean   :5076               Mean   :2008  \n",
       " 3rd Qu.:221.0     3rd Qu.:5500               3rd Qu.:2009  \n",
       " Max.   :231.0     Max.   :6300               Max.   :2009  \n",
       " NA's   :1         NA's   :1                                "
      ]
     },
     "metadata": {},
     "output_type": "display_data"
    }
   ],
   "source": [
    "summary(penguins[penguins$species == \"Gentoo\",])"
   ]
  },
  {
   "cell_type": "code",
   "execution_count": 12,
   "metadata": {
    "scrolled": true
   },
   "outputs": [
    {
     "data": {
      "text/html": [
       "<table>\n",
       "<caption>A tibble: 124 × 7</caption>\n",
       "<thead>\n",
       "\t<tr><th scope=col>island</th><th scope=col>bill_length_mm</th><th scope=col>bill_depth_mm</th><th scope=col>flipper_length_mm</th><th scope=col>body_mass_g</th><th scope=col>sex</th><th scope=col>year</th></tr>\n",
       "\t<tr><th scope=col>&lt;fct&gt;</th><th scope=col>&lt;dbl&gt;</th><th scope=col>&lt;dbl&gt;</th><th scope=col>&lt;int&gt;</th><th scope=col>&lt;int&gt;</th><th scope=col>&lt;fct&gt;</th><th scope=col>&lt;int&gt;</th></tr>\n",
       "</thead>\n",
       "<tbody>\n",
       "\t<tr><td>Biscoe</td><td>46.1</td><td>13.2</td><td>211</td><td>4500</td><td>female</td><td>2007</td></tr>\n",
       "\t<tr><td>Biscoe</td><td>50.0</td><td>16.3</td><td>230</td><td>5700</td><td>male  </td><td>2007</td></tr>\n",
       "\t<tr><td>Biscoe</td><td>48.7</td><td>14.1</td><td>210</td><td>4450</td><td>female</td><td>2007</td></tr>\n",
       "\t<tr><td>Biscoe</td><td>50.0</td><td>15.2</td><td>218</td><td>5700</td><td>male  </td><td>2007</td></tr>\n",
       "\t<tr><td>Biscoe</td><td>47.6</td><td>14.5</td><td>215</td><td>5400</td><td>male  </td><td>2007</td></tr>\n",
       "\t<tr><td>Biscoe</td><td>46.5</td><td>13.5</td><td>210</td><td>4550</td><td>female</td><td>2007</td></tr>\n",
       "\t<tr><td>Biscoe</td><td>45.4</td><td>14.6</td><td>211</td><td>4800</td><td>female</td><td>2007</td></tr>\n",
       "\t<tr><td>Biscoe</td><td>46.7</td><td>15.3</td><td>219</td><td>5200</td><td>male  </td><td>2007</td></tr>\n",
       "\t<tr><td>Biscoe</td><td>43.3</td><td>13.4</td><td>209</td><td>4400</td><td>female</td><td>2007</td></tr>\n",
       "\t<tr><td>Biscoe</td><td>46.8</td><td>15.4</td><td>215</td><td>5150</td><td>male  </td><td>2007</td></tr>\n",
       "\t<tr><td>Biscoe</td><td>40.9</td><td>13.7</td><td>214</td><td>4650</td><td>female</td><td>2007</td></tr>\n",
       "\t<tr><td>Biscoe</td><td>49.0</td><td>16.1</td><td>216</td><td>5550</td><td>male  </td><td>2007</td></tr>\n",
       "\t<tr><td>Biscoe</td><td>45.5</td><td>13.7</td><td>214</td><td>4650</td><td>female</td><td>2007</td></tr>\n",
       "\t<tr><td>Biscoe</td><td>48.4</td><td>14.6</td><td>213</td><td>5850</td><td>male  </td><td>2007</td></tr>\n",
       "\t<tr><td>Biscoe</td><td>45.8</td><td>14.6</td><td>210</td><td>4200</td><td>female</td><td>2007</td></tr>\n",
       "\t<tr><td>Biscoe</td><td>49.3</td><td>15.7</td><td>217</td><td>5850</td><td>male  </td><td>2007</td></tr>\n",
       "\t<tr><td>Biscoe</td><td>42.0</td><td>13.5</td><td>210</td><td>4150</td><td>female</td><td>2007</td></tr>\n",
       "\t<tr><td>Biscoe</td><td>49.2</td><td>15.2</td><td>221</td><td>6300</td><td>male  </td><td>2007</td></tr>\n",
       "\t<tr><td>Biscoe</td><td>46.2</td><td>14.5</td><td>209</td><td>4800</td><td>female</td><td>2007</td></tr>\n",
       "\t<tr><td>Biscoe</td><td>48.7</td><td>15.1</td><td>222</td><td>5350</td><td>male  </td><td>2007</td></tr>\n",
       "\t<tr><td>Biscoe</td><td>50.2</td><td>14.3</td><td>218</td><td>5700</td><td>male  </td><td>2007</td></tr>\n",
       "\t<tr><td>Biscoe</td><td>45.1</td><td>14.5</td><td>215</td><td>5000</td><td>female</td><td>2007</td></tr>\n",
       "\t<tr><td>Biscoe</td><td>46.5</td><td>14.5</td><td>213</td><td>4400</td><td>female</td><td>2007</td></tr>\n",
       "\t<tr><td>Biscoe</td><td>46.3</td><td>15.8</td><td>215</td><td>5050</td><td>male  </td><td>2007</td></tr>\n",
       "\t<tr><td>Biscoe</td><td>42.9</td><td>13.1</td><td>215</td><td>5000</td><td>female</td><td>2007</td></tr>\n",
       "\t<tr><td>Biscoe</td><td>46.1</td><td>15.1</td><td>215</td><td>5100</td><td>male  </td><td>2007</td></tr>\n",
       "\t<tr><td>Biscoe</td><td>44.5</td><td>14.3</td><td>216</td><td>4100</td><td>NA    </td><td>2007</td></tr>\n",
       "\t<tr><td>Biscoe</td><td>47.8</td><td>15.0</td><td>215</td><td>5650</td><td>male  </td><td>2007</td></tr>\n",
       "\t<tr><td>Biscoe</td><td>48.2</td><td>14.3</td><td>210</td><td>4600</td><td>female</td><td>2007</td></tr>\n",
       "\t<tr><td>Biscoe</td><td>50.0</td><td>15.3</td><td>220</td><td>5550</td><td>male  </td><td>2007</td></tr>\n",
       "\t<tr><td>⋮</td><td>⋮</td><td>⋮</td><td>⋮</td><td>⋮</td><td>⋮</td><td>⋮</td></tr>\n",
       "\t<tr><td>Biscoe</td><td>44.5</td><td>14.7</td><td>214</td><td>4850</td><td>female</td><td>2009</td></tr>\n",
       "\t<tr><td>Biscoe</td><td>50.8</td><td>15.7</td><td>226</td><td>5200</td><td>male  </td><td>2009</td></tr>\n",
       "\t<tr><td>Biscoe</td><td>49.4</td><td>15.8</td><td>216</td><td>4925</td><td>male  </td><td>2009</td></tr>\n",
       "\t<tr><td>Biscoe</td><td>46.9</td><td>14.6</td><td>222</td><td>4875</td><td>female</td><td>2009</td></tr>\n",
       "\t<tr><td>Biscoe</td><td>48.4</td><td>14.4</td><td>203</td><td>4625</td><td>female</td><td>2009</td></tr>\n",
       "\t<tr><td>Biscoe</td><td>51.1</td><td>16.5</td><td>225</td><td>5250</td><td>male  </td><td>2009</td></tr>\n",
       "\t<tr><td>Biscoe</td><td>48.5</td><td>15.0</td><td>219</td><td>4850</td><td>female</td><td>2009</td></tr>\n",
       "\t<tr><td>Biscoe</td><td>55.9</td><td>17.0</td><td>228</td><td>5600</td><td>male  </td><td>2009</td></tr>\n",
       "\t<tr><td>Biscoe</td><td>47.2</td><td>15.5</td><td>215</td><td>4975</td><td>female</td><td>2009</td></tr>\n",
       "\t<tr><td>Biscoe</td><td>49.1</td><td>15.0</td><td>228</td><td>5500</td><td>male  </td><td>2009</td></tr>\n",
       "\t<tr><td>Biscoe</td><td>47.3</td><td>13.8</td><td>216</td><td>4725</td><td>NA    </td><td>2009</td></tr>\n",
       "\t<tr><td>Biscoe</td><td>46.8</td><td>16.1</td><td>215</td><td>5500</td><td>male  </td><td>2009</td></tr>\n",
       "\t<tr><td>Biscoe</td><td>41.7</td><td>14.7</td><td>210</td><td>4700</td><td>female</td><td>2009</td></tr>\n",
       "\t<tr><td>Biscoe</td><td>53.4</td><td>15.8</td><td>219</td><td>5500</td><td>male  </td><td>2009</td></tr>\n",
       "\t<tr><td>Biscoe</td><td>43.3</td><td>14.0</td><td>208</td><td>4575</td><td>female</td><td>2009</td></tr>\n",
       "\t<tr><td>Biscoe</td><td>48.1</td><td>15.1</td><td>209</td><td>5500</td><td>male  </td><td>2009</td></tr>\n",
       "\t<tr><td>Biscoe</td><td>50.5</td><td>15.2</td><td>216</td><td>5000</td><td>female</td><td>2009</td></tr>\n",
       "\t<tr><td>Biscoe</td><td>49.8</td><td>15.9</td><td>229</td><td>5950</td><td>male  </td><td>2009</td></tr>\n",
       "\t<tr><td>Biscoe</td><td>43.5</td><td>15.2</td><td>213</td><td>4650</td><td>female</td><td>2009</td></tr>\n",
       "\t<tr><td>Biscoe</td><td>51.5</td><td>16.3</td><td>230</td><td>5500</td><td>male  </td><td>2009</td></tr>\n",
       "\t<tr><td>Biscoe</td><td>46.2</td><td>14.1</td><td>217</td><td>4375</td><td>female</td><td>2009</td></tr>\n",
       "\t<tr><td>Biscoe</td><td>55.1</td><td>16.0</td><td>230</td><td>5850</td><td>male  </td><td>2009</td></tr>\n",
       "\t<tr><td>Biscoe</td><td>44.5</td><td>15.7</td><td>217</td><td>4875</td><td>NA    </td><td>2009</td></tr>\n",
       "\t<tr><td>Biscoe</td><td>48.8</td><td>16.2</td><td>222</td><td>6000</td><td>male  </td><td>2009</td></tr>\n",
       "\t<tr><td>Biscoe</td><td>47.2</td><td>13.7</td><td>214</td><td>4925</td><td>female</td><td>2009</td></tr>\n",
       "\t<tr><td>Biscoe</td><td>  NA</td><td>  NA</td><td> NA</td><td>  NA</td><td>NA    </td><td>2009</td></tr>\n",
       "\t<tr><td>Biscoe</td><td>46.8</td><td>14.3</td><td>215</td><td>4850</td><td>female</td><td>2009</td></tr>\n",
       "\t<tr><td>Biscoe</td><td>50.4</td><td>15.7</td><td>222</td><td>5750</td><td>male  </td><td>2009</td></tr>\n",
       "\t<tr><td>Biscoe</td><td>45.2</td><td>14.8</td><td>212</td><td>5200</td><td>female</td><td>2009</td></tr>\n",
       "\t<tr><td>Biscoe</td><td>49.9</td><td>16.1</td><td>213</td><td>5400</td><td>male  </td><td>2009</td></tr>\n",
       "</tbody>\n",
       "</table>\n"
      ],
      "text/latex": [
       "A tibble: 124 × 7\n",
       "\\begin{tabular}{lllllll}\n",
       " island & bill\\_length\\_mm & bill\\_depth\\_mm & flipper\\_length\\_mm & body\\_mass\\_g & sex & year\\\\\n",
       " <fct> & <dbl> & <dbl> & <int> & <int> & <fct> & <int>\\\\\n",
       "\\hline\n",
       "\t Biscoe & 46.1 & 13.2 & 211 & 4500 & female & 2007\\\\\n",
       "\t Biscoe & 50.0 & 16.3 & 230 & 5700 & male   & 2007\\\\\n",
       "\t Biscoe & 48.7 & 14.1 & 210 & 4450 & female & 2007\\\\\n",
       "\t Biscoe & 50.0 & 15.2 & 218 & 5700 & male   & 2007\\\\\n",
       "\t Biscoe & 47.6 & 14.5 & 215 & 5400 & male   & 2007\\\\\n",
       "\t Biscoe & 46.5 & 13.5 & 210 & 4550 & female & 2007\\\\\n",
       "\t Biscoe & 45.4 & 14.6 & 211 & 4800 & female & 2007\\\\\n",
       "\t Biscoe & 46.7 & 15.3 & 219 & 5200 & male   & 2007\\\\\n",
       "\t Biscoe & 43.3 & 13.4 & 209 & 4400 & female & 2007\\\\\n",
       "\t Biscoe & 46.8 & 15.4 & 215 & 5150 & male   & 2007\\\\\n",
       "\t Biscoe & 40.9 & 13.7 & 214 & 4650 & female & 2007\\\\\n",
       "\t Biscoe & 49.0 & 16.1 & 216 & 5550 & male   & 2007\\\\\n",
       "\t Biscoe & 45.5 & 13.7 & 214 & 4650 & female & 2007\\\\\n",
       "\t Biscoe & 48.4 & 14.6 & 213 & 5850 & male   & 2007\\\\\n",
       "\t Biscoe & 45.8 & 14.6 & 210 & 4200 & female & 2007\\\\\n",
       "\t Biscoe & 49.3 & 15.7 & 217 & 5850 & male   & 2007\\\\\n",
       "\t Biscoe & 42.0 & 13.5 & 210 & 4150 & female & 2007\\\\\n",
       "\t Biscoe & 49.2 & 15.2 & 221 & 6300 & male   & 2007\\\\\n",
       "\t Biscoe & 46.2 & 14.5 & 209 & 4800 & female & 2007\\\\\n",
       "\t Biscoe & 48.7 & 15.1 & 222 & 5350 & male   & 2007\\\\\n",
       "\t Biscoe & 50.2 & 14.3 & 218 & 5700 & male   & 2007\\\\\n",
       "\t Biscoe & 45.1 & 14.5 & 215 & 5000 & female & 2007\\\\\n",
       "\t Biscoe & 46.5 & 14.5 & 213 & 4400 & female & 2007\\\\\n",
       "\t Biscoe & 46.3 & 15.8 & 215 & 5050 & male   & 2007\\\\\n",
       "\t Biscoe & 42.9 & 13.1 & 215 & 5000 & female & 2007\\\\\n",
       "\t Biscoe & 46.1 & 15.1 & 215 & 5100 & male   & 2007\\\\\n",
       "\t Biscoe & 44.5 & 14.3 & 216 & 4100 & NA     & 2007\\\\\n",
       "\t Biscoe & 47.8 & 15.0 & 215 & 5650 & male   & 2007\\\\\n",
       "\t Biscoe & 48.2 & 14.3 & 210 & 4600 & female & 2007\\\\\n",
       "\t Biscoe & 50.0 & 15.3 & 220 & 5550 & male   & 2007\\\\\n",
       "\t ⋮ & ⋮ & ⋮ & ⋮ & ⋮ & ⋮ & ⋮\\\\\n",
       "\t Biscoe & 44.5 & 14.7 & 214 & 4850 & female & 2009\\\\\n",
       "\t Biscoe & 50.8 & 15.7 & 226 & 5200 & male   & 2009\\\\\n",
       "\t Biscoe & 49.4 & 15.8 & 216 & 4925 & male   & 2009\\\\\n",
       "\t Biscoe & 46.9 & 14.6 & 222 & 4875 & female & 2009\\\\\n",
       "\t Biscoe & 48.4 & 14.4 & 203 & 4625 & female & 2009\\\\\n",
       "\t Biscoe & 51.1 & 16.5 & 225 & 5250 & male   & 2009\\\\\n",
       "\t Biscoe & 48.5 & 15.0 & 219 & 4850 & female & 2009\\\\\n",
       "\t Biscoe & 55.9 & 17.0 & 228 & 5600 & male   & 2009\\\\\n",
       "\t Biscoe & 47.2 & 15.5 & 215 & 4975 & female & 2009\\\\\n",
       "\t Biscoe & 49.1 & 15.0 & 228 & 5500 & male   & 2009\\\\\n",
       "\t Biscoe & 47.3 & 13.8 & 216 & 4725 & NA     & 2009\\\\\n",
       "\t Biscoe & 46.8 & 16.1 & 215 & 5500 & male   & 2009\\\\\n",
       "\t Biscoe & 41.7 & 14.7 & 210 & 4700 & female & 2009\\\\\n",
       "\t Biscoe & 53.4 & 15.8 & 219 & 5500 & male   & 2009\\\\\n",
       "\t Biscoe & 43.3 & 14.0 & 208 & 4575 & female & 2009\\\\\n",
       "\t Biscoe & 48.1 & 15.1 & 209 & 5500 & male   & 2009\\\\\n",
       "\t Biscoe & 50.5 & 15.2 & 216 & 5000 & female & 2009\\\\\n",
       "\t Biscoe & 49.8 & 15.9 & 229 & 5950 & male   & 2009\\\\\n",
       "\t Biscoe & 43.5 & 15.2 & 213 & 4650 & female & 2009\\\\\n",
       "\t Biscoe & 51.5 & 16.3 & 230 & 5500 & male   & 2009\\\\\n",
       "\t Biscoe & 46.2 & 14.1 & 217 & 4375 & female & 2009\\\\\n",
       "\t Biscoe & 55.1 & 16.0 & 230 & 5850 & male   & 2009\\\\\n",
       "\t Biscoe & 44.5 & 15.7 & 217 & 4875 & NA     & 2009\\\\\n",
       "\t Biscoe & 48.8 & 16.2 & 222 & 6000 & male   & 2009\\\\\n",
       "\t Biscoe & 47.2 & 13.7 & 214 & 4925 & female & 2009\\\\\n",
       "\t Biscoe &   NA &   NA &  NA &   NA & NA     & 2009\\\\\n",
       "\t Biscoe & 46.8 & 14.3 & 215 & 4850 & female & 2009\\\\\n",
       "\t Biscoe & 50.4 & 15.7 & 222 & 5750 & male   & 2009\\\\\n",
       "\t Biscoe & 45.2 & 14.8 & 212 & 5200 & female & 2009\\\\\n",
       "\t Biscoe & 49.9 & 16.1 & 213 & 5400 & male   & 2009\\\\\n",
       "\\end{tabular}\n"
      ],
      "text/markdown": [
       "\n",
       "A tibble: 124 × 7\n",
       "\n",
       "| island &lt;fct&gt; | bill_length_mm &lt;dbl&gt; | bill_depth_mm &lt;dbl&gt; | flipper_length_mm &lt;int&gt; | body_mass_g &lt;int&gt; | sex &lt;fct&gt; | year &lt;int&gt; |\n",
       "|---|---|---|---|---|---|---|\n",
       "| Biscoe | 46.1 | 13.2 | 211 | 4500 | female | 2007 |\n",
       "| Biscoe | 50.0 | 16.3 | 230 | 5700 | male   | 2007 |\n",
       "| Biscoe | 48.7 | 14.1 | 210 | 4450 | female | 2007 |\n",
       "| Biscoe | 50.0 | 15.2 | 218 | 5700 | male   | 2007 |\n",
       "| Biscoe | 47.6 | 14.5 | 215 | 5400 | male   | 2007 |\n",
       "| Biscoe | 46.5 | 13.5 | 210 | 4550 | female | 2007 |\n",
       "| Biscoe | 45.4 | 14.6 | 211 | 4800 | female | 2007 |\n",
       "| Biscoe | 46.7 | 15.3 | 219 | 5200 | male   | 2007 |\n",
       "| Biscoe | 43.3 | 13.4 | 209 | 4400 | female | 2007 |\n",
       "| Biscoe | 46.8 | 15.4 | 215 | 5150 | male   | 2007 |\n",
       "| Biscoe | 40.9 | 13.7 | 214 | 4650 | female | 2007 |\n",
       "| Biscoe | 49.0 | 16.1 | 216 | 5550 | male   | 2007 |\n",
       "| Biscoe | 45.5 | 13.7 | 214 | 4650 | female | 2007 |\n",
       "| Biscoe | 48.4 | 14.6 | 213 | 5850 | male   | 2007 |\n",
       "| Biscoe | 45.8 | 14.6 | 210 | 4200 | female | 2007 |\n",
       "| Biscoe | 49.3 | 15.7 | 217 | 5850 | male   | 2007 |\n",
       "| Biscoe | 42.0 | 13.5 | 210 | 4150 | female | 2007 |\n",
       "| Biscoe | 49.2 | 15.2 | 221 | 6300 | male   | 2007 |\n",
       "| Biscoe | 46.2 | 14.5 | 209 | 4800 | female | 2007 |\n",
       "| Biscoe | 48.7 | 15.1 | 222 | 5350 | male   | 2007 |\n",
       "| Biscoe | 50.2 | 14.3 | 218 | 5700 | male   | 2007 |\n",
       "| Biscoe | 45.1 | 14.5 | 215 | 5000 | female | 2007 |\n",
       "| Biscoe | 46.5 | 14.5 | 213 | 4400 | female | 2007 |\n",
       "| Biscoe | 46.3 | 15.8 | 215 | 5050 | male   | 2007 |\n",
       "| Biscoe | 42.9 | 13.1 | 215 | 5000 | female | 2007 |\n",
       "| Biscoe | 46.1 | 15.1 | 215 | 5100 | male   | 2007 |\n",
       "| Biscoe | 44.5 | 14.3 | 216 | 4100 | NA     | 2007 |\n",
       "| Biscoe | 47.8 | 15.0 | 215 | 5650 | male   | 2007 |\n",
       "| Biscoe | 48.2 | 14.3 | 210 | 4600 | female | 2007 |\n",
       "| Biscoe | 50.0 | 15.3 | 220 | 5550 | male   | 2007 |\n",
       "| ⋮ | ⋮ | ⋮ | ⋮ | ⋮ | ⋮ | ⋮ |\n",
       "| Biscoe | 44.5 | 14.7 | 214 | 4850 | female | 2009 |\n",
       "| Biscoe | 50.8 | 15.7 | 226 | 5200 | male   | 2009 |\n",
       "| Biscoe | 49.4 | 15.8 | 216 | 4925 | male   | 2009 |\n",
       "| Biscoe | 46.9 | 14.6 | 222 | 4875 | female | 2009 |\n",
       "| Biscoe | 48.4 | 14.4 | 203 | 4625 | female | 2009 |\n",
       "| Biscoe | 51.1 | 16.5 | 225 | 5250 | male   | 2009 |\n",
       "| Biscoe | 48.5 | 15.0 | 219 | 4850 | female | 2009 |\n",
       "| Biscoe | 55.9 | 17.0 | 228 | 5600 | male   | 2009 |\n",
       "| Biscoe | 47.2 | 15.5 | 215 | 4975 | female | 2009 |\n",
       "| Biscoe | 49.1 | 15.0 | 228 | 5500 | male   | 2009 |\n",
       "| Biscoe | 47.3 | 13.8 | 216 | 4725 | NA     | 2009 |\n",
       "| Biscoe | 46.8 | 16.1 | 215 | 5500 | male   | 2009 |\n",
       "| Biscoe | 41.7 | 14.7 | 210 | 4700 | female | 2009 |\n",
       "| Biscoe | 53.4 | 15.8 | 219 | 5500 | male   | 2009 |\n",
       "| Biscoe | 43.3 | 14.0 | 208 | 4575 | female | 2009 |\n",
       "| Biscoe | 48.1 | 15.1 | 209 | 5500 | male   | 2009 |\n",
       "| Biscoe | 50.5 | 15.2 | 216 | 5000 | female | 2009 |\n",
       "| Biscoe | 49.8 | 15.9 | 229 | 5950 | male   | 2009 |\n",
       "| Biscoe | 43.5 | 15.2 | 213 | 4650 | female | 2009 |\n",
       "| Biscoe | 51.5 | 16.3 | 230 | 5500 | male   | 2009 |\n",
       "| Biscoe | 46.2 | 14.1 | 217 | 4375 | female | 2009 |\n",
       "| Biscoe | 55.1 | 16.0 | 230 | 5850 | male   | 2009 |\n",
       "| Biscoe | 44.5 | 15.7 | 217 | 4875 | NA     | 2009 |\n",
       "| Biscoe | 48.8 | 16.2 | 222 | 6000 | male   | 2009 |\n",
       "| Biscoe | 47.2 | 13.7 | 214 | 4925 | female | 2009 |\n",
       "| Biscoe |   NA |   NA |  NA |   NA | NA     | 2009 |\n",
       "| Biscoe | 46.8 | 14.3 | 215 | 4850 | female | 2009 |\n",
       "| Biscoe | 50.4 | 15.7 | 222 | 5750 | male   | 2009 |\n",
       "| Biscoe | 45.2 | 14.8 | 212 | 5200 | female | 2009 |\n",
       "| Biscoe | 49.9 | 16.1 | 213 | 5400 | male   | 2009 |\n",
       "\n"
      ],
      "text/plain": [
       "    island bill_length_mm bill_depth_mm flipper_length_mm body_mass_g sex   \n",
       "1   Biscoe 46.1           13.2          211               4500        female\n",
       "2   Biscoe 50.0           16.3          230               5700        male  \n",
       "3   Biscoe 48.7           14.1          210               4450        female\n",
       "4   Biscoe 50.0           15.2          218               5700        male  \n",
       "5   Biscoe 47.6           14.5          215               5400        male  \n",
       "6   Biscoe 46.5           13.5          210               4550        female\n",
       "7   Biscoe 45.4           14.6          211               4800        female\n",
       "8   Biscoe 46.7           15.3          219               5200        male  \n",
       "9   Biscoe 43.3           13.4          209               4400        female\n",
       "10  Biscoe 46.8           15.4          215               5150        male  \n",
       "11  Biscoe 40.9           13.7          214               4650        female\n",
       "12  Biscoe 49.0           16.1          216               5550        male  \n",
       "13  Biscoe 45.5           13.7          214               4650        female\n",
       "14  Biscoe 48.4           14.6          213               5850        male  \n",
       "15  Biscoe 45.8           14.6          210               4200        female\n",
       "16  Biscoe 49.3           15.7          217               5850        male  \n",
       "17  Biscoe 42.0           13.5          210               4150        female\n",
       "18  Biscoe 49.2           15.2          221               6300        male  \n",
       "19  Biscoe 46.2           14.5          209               4800        female\n",
       "20  Biscoe 48.7           15.1          222               5350        male  \n",
       "21  Biscoe 50.2           14.3          218               5700        male  \n",
       "22  Biscoe 45.1           14.5          215               5000        female\n",
       "23  Biscoe 46.5           14.5          213               4400        female\n",
       "24  Biscoe 46.3           15.8          215               5050        male  \n",
       "25  Biscoe 42.9           13.1          215               5000        female\n",
       "26  Biscoe 46.1           15.1          215               5100        male  \n",
       "27  Biscoe 44.5           14.3          216               4100        NA    \n",
       "28  Biscoe 47.8           15.0          215               5650        male  \n",
       "29  Biscoe 48.2           14.3          210               4600        female\n",
       "30  Biscoe 50.0           15.3          220               5550        male  \n",
       "⋮   ⋮      ⋮              ⋮             ⋮                 ⋮           ⋮     \n",
       "95  Biscoe 44.5           14.7          214               4850        female\n",
       "96  Biscoe 50.8           15.7          226               5200        male  \n",
       "97  Biscoe 49.4           15.8          216               4925        male  \n",
       "98  Biscoe 46.9           14.6          222               4875        female\n",
       "99  Biscoe 48.4           14.4          203               4625        female\n",
       "100 Biscoe 51.1           16.5          225               5250        male  \n",
       "101 Biscoe 48.5           15.0          219               4850        female\n",
       "102 Biscoe 55.9           17.0          228               5600        male  \n",
       "103 Biscoe 47.2           15.5          215               4975        female\n",
       "104 Biscoe 49.1           15.0          228               5500        male  \n",
       "105 Biscoe 47.3           13.8          216               4725        NA    \n",
       "106 Biscoe 46.8           16.1          215               5500        male  \n",
       "107 Biscoe 41.7           14.7          210               4700        female\n",
       "108 Biscoe 53.4           15.8          219               5500        male  \n",
       "109 Biscoe 43.3           14.0          208               4575        female\n",
       "110 Biscoe 48.1           15.1          209               5500        male  \n",
       "111 Biscoe 50.5           15.2          216               5000        female\n",
       "112 Biscoe 49.8           15.9          229               5950        male  \n",
       "113 Biscoe 43.5           15.2          213               4650        female\n",
       "114 Biscoe 51.5           16.3          230               5500        male  \n",
       "115 Biscoe 46.2           14.1          217               4375        female\n",
       "116 Biscoe 55.1           16.0          230               5850        male  \n",
       "117 Biscoe 44.5           15.7          217               4875        NA    \n",
       "118 Biscoe 48.8           16.2          222               6000        male  \n",
       "119 Biscoe 47.2           13.7          214               4925        female\n",
       "120 Biscoe   NA             NA           NA                 NA        NA    \n",
       "121 Biscoe 46.8           14.3          215               4850        female\n",
       "122 Biscoe 50.4           15.7          222               5750        male  \n",
       "123 Biscoe 45.2           14.8          212               5200        female\n",
       "124 Biscoe 49.9           16.1          213               5400        male  \n",
       "    year\n",
       "1   2007\n",
       "2   2007\n",
       "3   2007\n",
       "4   2007\n",
       "5   2007\n",
       "6   2007\n",
       "7   2007\n",
       "8   2007\n",
       "9   2007\n",
       "10  2007\n",
       "11  2007\n",
       "12  2007\n",
       "13  2007\n",
       "14  2007\n",
       "15  2007\n",
       "16  2007\n",
       "17  2007\n",
       "18  2007\n",
       "19  2007\n",
       "20  2007\n",
       "21  2007\n",
       "22  2007\n",
       "23  2007\n",
       "24  2007\n",
       "25  2007\n",
       "26  2007\n",
       "27  2007\n",
       "28  2007\n",
       "29  2007\n",
       "30  2007\n",
       "⋮   ⋮   \n",
       "95  2009\n",
       "96  2009\n",
       "97  2009\n",
       "98  2009\n",
       "99  2009\n",
       "100 2009\n",
       "101 2009\n",
       "102 2009\n",
       "103 2009\n",
       "104 2009\n",
       "105 2009\n",
       "106 2009\n",
       "107 2009\n",
       "108 2009\n",
       "109 2009\n",
       "110 2009\n",
       "111 2009\n",
       "112 2009\n",
       "113 2009\n",
       "114 2009\n",
       "115 2009\n",
       "116 2009\n",
       "117 2009\n",
       "118 2009\n",
       "119 2009\n",
       "120 2009\n",
       "121 2009\n",
       "122 2009\n",
       "123 2009\n",
       "124 2009"
      ]
     },
     "metadata": {},
     "output_type": "display_data"
    }
   ],
   "source": [
    "penguins[penguins$species == \"Gentoo\",][2:8]"
   ]
  },
  {
   "cell_type": "code",
   "execution_count": 13,
   "metadata": {},
   "outputs": [],
   "source": [
    "gentoo <- subset(penguins[penguins$species == \"Gentoo\",], select = -species)"
   ]
  },
  {
   "cell_type": "code",
   "execution_count": 14,
   "metadata": {},
   "outputs": [
    {
     "data": {
      "text/plain": [
       "       island    bill_length_mm  bill_depth_mm   flipper_length_mm\n",
       " Biscoe   :124   Min.   :40.90   Min.   :13.10   Min.   :203.0    \n",
       " Dream    :  0   1st Qu.:45.30   1st Qu.:14.20   1st Qu.:212.0    \n",
       " Torgersen:  0   Median :47.30   Median :15.00   Median :216.0    \n",
       "                 Mean   :47.50   Mean   :14.98   Mean   :217.2    \n",
       "                 3rd Qu.:49.55   3rd Qu.:15.70   3rd Qu.:221.0    \n",
       "                 Max.   :59.60   Max.   :17.30   Max.   :231.0    \n",
       "                 NA's   :1       NA's   :1       NA's   :1        \n",
       "  body_mass_g       sex          year     \n",
       " Min.   :3950   female:58   Min.   :2007  \n",
       " 1st Qu.:4700   male  :61   1st Qu.:2007  \n",
       " Median :5000   NA's  : 5   Median :2008  \n",
       " Mean   :5076               Mean   :2008  \n",
       " 3rd Qu.:5500               3rd Qu.:2009  \n",
       " Max.   :6300               Max.   :2009  \n",
       " NA's   :1                                "
      ]
     },
     "metadata": {},
     "output_type": "display_data"
    }
   ],
   "source": [
    "summary(gentoo)"
   ]
  },
  {
   "cell_type": "code",
   "execution_count": 15,
   "metadata": {},
   "outputs": [],
   "source": [
    "chinstrap <- subset(penguins[penguins$species == \"Chinstrap\",], select = -species)"
   ]
  },
  {
   "cell_type": "code",
   "execution_count": 17,
   "metadata": {},
   "outputs": [
    {
     "data": {
      "text/plain": [
       "       island   bill_length_mm  bill_depth_mm   flipper_length_mm\n",
       " Biscoe   : 0   Min.   :40.90   Min.   :16.40   Min.   :178.0    \n",
       " Dream    :68   1st Qu.:46.35   1st Qu.:17.50   1st Qu.:191.0    \n",
       " Torgersen: 0   Median :49.55   Median :18.45   Median :196.0    \n",
       "                Mean   :48.83   Mean   :18.42   Mean   :195.8    \n",
       "                3rd Qu.:51.08   3rd Qu.:19.40   3rd Qu.:201.0    \n",
       "                Max.   :58.00   Max.   :20.80   Max.   :212.0    \n",
       "  body_mass_g       sex          year     \n",
       " Min.   :2700   female:34   Min.   :2007  \n",
       " 1st Qu.:3488   male  :34   1st Qu.:2007  \n",
       " Median :3700               Median :2008  \n",
       " Mean   :3733               Mean   :2008  \n",
       " 3rd Qu.:3950               3rd Qu.:2009  \n",
       " Max.   :4800               Max.   :2009  "
      ]
     },
     "metadata": {},
     "output_type": "display_data"
    }
   ],
   "source": [
    "summary(chinstrap)"
   ]
  },
  {
   "cell_type": "code",
   "execution_count": 18,
   "metadata": {},
   "outputs": [],
   "source": [
    "adelie <- subset(penguins[penguins$species == \"Adelie\",], select = -species)"
   ]
  },
  {
   "cell_type": "code",
   "execution_count": 19,
   "metadata": {},
   "outputs": [
    {
     "data": {
      "text/plain": [
       "       island   bill_length_mm  bill_depth_mm   flipper_length_mm\n",
       " Biscoe   :44   Min.   :32.10   Min.   :15.50   Min.   :172      \n",
       " Dream    :56   1st Qu.:36.75   1st Qu.:17.50   1st Qu.:186      \n",
       " Torgersen:52   Median :38.80   Median :18.40   Median :190      \n",
       "                Mean   :38.79   Mean   :18.35   Mean   :190      \n",
       "                3rd Qu.:40.75   3rd Qu.:19.00   3rd Qu.:195      \n",
       "                Max.   :46.00   Max.   :21.50   Max.   :210      \n",
       "                NA's   :1       NA's   :1       NA's   :1        \n",
       "  body_mass_g       sex          year     \n",
       " Min.   :2850   female:73   Min.   :2007  \n",
       " 1st Qu.:3350   male  :73   1st Qu.:2007  \n",
       " Median :3700   NA's  : 6   Median :2008  \n",
       " Mean   :3701               Mean   :2008  \n",
       " 3rd Qu.:4000               3rd Qu.:2009  \n",
       " Max.   :4775               Max.   :2009  \n",
       " NA's   :1                                "
      ]
     },
     "metadata": {},
     "output_type": "display_data"
    }
   ],
   "source": [
    "summary(adelie)"
   ]
  },
  {
   "cell_type": "code",
   "execution_count": 20,
   "metadata": {},
   "outputs": [],
   "source": [
    "pesos_ping <- na.omit(penguins$body_mass_g)"
   ]
  },
  {
   "cell_type": "code",
   "execution_count": 21,
   "metadata": {},
   "outputs": [
    {
     "data": {
      "text/plain": [
       "   Min. 1st Qu.  Median    Mean 3rd Qu.    Max. \n",
       "   2700    3550    4050    4202    4750    6300 "
      ]
     },
     "metadata": {},
     "output_type": "display_data"
    }
   ],
   "source": [
    "summary(pesos_ping)"
   ]
  },
  {
   "cell_type": "markdown",
   "metadata": {},
   "source": [
    "## Funciones estadísticas."
   ]
  },
  {
   "cell_type": "markdown",
   "metadata": {},
   "source": [
    "### La función ```length()```."
   ]
  },
  {
   "cell_type": "code",
   "execution_count": 24,
   "metadata": {},
   "outputs": [
    {
     "data": {
      "text/html": [
       "32"
      ],
      "text/latex": [
       "32"
      ],
      "text/markdown": [
       "32"
      ],
      "text/plain": [
       "[1] 32"
      ]
     },
     "metadata": {},
     "output_type": "display_data"
    }
   ],
   "source": [
    "length(pesos_autos)"
   ]
  },
  {
   "cell_type": "markdown",
   "metadata": {},
   "source": [
    "### La función ```min()```"
   ]
  },
  {
   "cell_type": "code",
   "execution_count": 25,
   "metadata": {},
   "outputs": [
    {
     "data": {
      "text/html": [
       "1.513"
      ],
      "text/latex": [
       "1.513"
      ],
      "text/markdown": [
       "1.513"
      ],
      "text/plain": [
       "[1] 1.513"
      ]
     },
     "metadata": {},
     "output_type": "display_data"
    }
   ],
   "source": [
    "min(pesos_autos)"
   ]
  },
  {
   "cell_type": "markdown",
   "metadata": {},
   "source": [
    "### La función ```max()```."
   ]
  },
  {
   "cell_type": "code",
   "execution_count": 26,
   "metadata": {},
   "outputs": [
    {
     "data": {
      "text/html": [
       "5.424"
      ],
      "text/latex": [
       "5.424"
      ],
      "text/markdown": [
       "5.424"
      ],
      "text/plain": [
       "[1] 5.424"
      ]
     },
     "metadata": {},
     "output_type": "display_data"
    }
   ],
   "source": [
    "max(pesos_autos)"
   ]
  },
  {
   "cell_type": "markdown",
   "metadata": {},
   "source": [
    "### La función ```range()```."
   ]
  },
  {
   "cell_type": "code",
   "execution_count": 27,
   "metadata": {
    "scrolled": true
   },
   "outputs": [
    {
     "data": {
      "text/html": [
       "<style>\n",
       ".list-inline {list-style: none; margin:0; padding: 0}\n",
       ".list-inline>li {display: inline-block}\n",
       ".list-inline>li:not(:last-child)::after {content: \"\\00b7\"; padding: 0 .5ex}\n",
       "</style>\n",
       "<ol class=list-inline><li>1.513</li><li>5.424</li></ol>\n"
      ],
      "text/latex": [
       "\\begin{enumerate*}\n",
       "\\item 1.513\n",
       "\\item 5.424\n",
       "\\end{enumerate*}\n"
      ],
      "text/markdown": [
       "1. 1.513\n",
       "2. 5.424\n",
       "\n",
       "\n"
      ],
      "text/plain": [
       "[1] 1.513 5.424"
      ]
     },
     "metadata": {},
     "output_type": "display_data"
    }
   ],
   "source": [
    "range(pesos_autos)"
   ]
  },
  {
   "cell_type": "markdown",
   "metadata": {},
   "source": [
    "### La función ```cumsum()```."
   ]
  },
  {
   "cell_type": "code",
   "execution_count": 28,
   "metadata": {},
   "outputs": [
    {
     "data": {
      "text/html": [
       "<style>\n",
       ".list-inline {list-style: none; margin:0; padding: 0}\n",
       ".list-inline>li {display: inline-block}\n",
       ".list-inline>li:not(:last-child)::after {content: \"\\00b7\"; padding: 0 .5ex}\n",
       "</style>\n",
       "<ol class=list-inline><li>2.62</li><li>5.495</li><li>7.815</li><li>11.03</li><li>14.47</li><li>17.93</li><li>21.5</li><li>24.69</li><li>27.84</li><li>31.28</li><li>34.72</li><li>38.79</li><li>42.52</li><li>46.3</li><li>51.55</li><li>56.974</li><li>62.319</li><li>64.519</li><li>66.134</li><li>67.969</li><li>70.434</li><li>73.954</li><li>77.389</li><li>81.229</li><li>85.074</li><li>87.009</li><li>89.149</li><li>90.662</li><li>93.832</li><li>96.602</li><li>100.172</li><li>102.952</li></ol>\n"
      ],
      "text/latex": [
       "\\begin{enumerate*}\n",
       "\\item 2.62\n",
       "\\item 5.495\n",
       "\\item 7.815\n",
       "\\item 11.03\n",
       "\\item 14.47\n",
       "\\item 17.93\n",
       "\\item 21.5\n",
       "\\item 24.69\n",
       "\\item 27.84\n",
       "\\item 31.28\n",
       "\\item 34.72\n",
       "\\item 38.79\n",
       "\\item 42.52\n",
       "\\item 46.3\n",
       "\\item 51.55\n",
       "\\item 56.974\n",
       "\\item 62.319\n",
       "\\item 64.519\n",
       "\\item 66.134\n",
       "\\item 67.969\n",
       "\\item 70.434\n",
       "\\item 73.954\n",
       "\\item 77.389\n",
       "\\item 81.229\n",
       "\\item 85.074\n",
       "\\item 87.009\n",
       "\\item 89.149\n",
       "\\item 90.662\n",
       "\\item 93.832\n",
       "\\item 96.602\n",
       "\\item 100.172\n",
       "\\item 102.952\n",
       "\\end{enumerate*}\n"
      ],
      "text/markdown": [
       "1. 2.62\n",
       "2. 5.495\n",
       "3. 7.815\n",
       "4. 11.03\n",
       "5. 14.47\n",
       "6. 17.93\n",
       "7. 21.5\n",
       "8. 24.69\n",
       "9. 27.84\n",
       "10. 31.28\n",
       "11. 34.72\n",
       "12. 38.79\n",
       "13. 42.52\n",
       "14. 46.3\n",
       "15. 51.55\n",
       "16. 56.974\n",
       "17. 62.319\n",
       "18. 64.519\n",
       "19. 66.134\n",
       "20. 67.969\n",
       "21. 70.434\n",
       "22. 73.954\n",
       "23. 77.389\n",
       "24. 81.229\n",
       "25. 85.074\n",
       "26. 87.009\n",
       "27. 89.149\n",
       "28. 90.662\n",
       "29. 93.832\n",
       "30. 96.602\n",
       "31. 100.172\n",
       "32. 102.952\n",
       "\n",
       "\n"
      ],
      "text/plain": [
       " [1]   2.620   5.495   7.815  11.030  14.470  17.930  21.500  24.690  27.840\n",
       "[10]  31.280  34.720  38.790  42.520  46.300  51.550  56.974  62.319  64.519\n",
       "[19]  66.134  67.969  70.434  73.954  77.389  81.229  85.074  87.009  89.149\n",
       "[28]  90.662  93.832  96.602 100.172 102.952"
      ]
     },
     "metadata": {},
     "output_type": "display_data"
    }
   ],
   "source": [
    "cumsum(pesos_autos)"
   ]
  },
  {
   "cell_type": "markdown",
   "metadata": {},
   "source": [
    "### La función ```sum()```.\n",
    "\n",
    "$$\n",
    "\\sum\\limits_{i=1}^{n}x_{i}\n",
    "$$"
   ]
  },
  {
   "cell_type": "code",
   "execution_count": 29,
   "metadata": {},
   "outputs": [
    {
     "data": {
      "text/html": [
       "102.952"
      ],
      "text/latex": [
       "102.952"
      ],
      "text/markdown": [
       "102.952"
      ],
      "text/plain": [
       "[1] 102.952"
      ]
     },
     "metadata": {},
     "output_type": "display_data"
    }
   ],
   "source": [
    "sum(pesos_autos)"
   ]
  },
  {
   "cell_type": "markdown",
   "metadata": {},
   "source": [
    "### La función ```mean()```.\n",
    "\n",
    "$$\n",
    "\\mu = \\frac{\\sum\\limits_{i=1}^{n}x_{i}}{n}\n",
    "$$"
   ]
  },
  {
   "cell_type": "code",
   "execution_count": 30,
   "metadata": {},
   "outputs": [
    {
     "data": {
      "text/html": [
       "3.21725"
      ],
      "text/latex": [
       "3.21725"
      ],
      "text/markdown": [
       "3.21725"
      ],
      "text/plain": [
       "[1] 3.21725"
      ]
     },
     "metadata": {},
     "output_type": "display_data"
    }
   ],
   "source": [
    "mean(pesos_autos)"
   ]
  },
  {
   "cell_type": "markdown",
   "metadata": {},
   "source": [
    "### La función ```sd()```.\n",
    "\n",
    "$$\n",
    "\\sigma = \\sqrt{\\frac{\\sum_{i=1}^{n}{(x_{i} - \\mu)^2}}{n-1}}\n",
    "$$"
   ]
  },
  {
   "cell_type": "code",
   "execution_count": 31,
   "metadata": {},
   "outputs": [
    {
     "data": {
      "text/html": [
       "0.978457442989697"
      ],
      "text/latex": [
       "0.978457442989697"
      ],
      "text/markdown": [
       "0.978457442989697"
      ],
      "text/plain": [
       "[1] 0.9784574"
      ]
     },
     "metadata": {},
     "output_type": "display_data"
    }
   ],
   "source": [
    "(sum((pesos_autos - mean(pesos_autos))^ 2)/ (length(pesos_autos) - 1)) ^ (1 / 2)"
   ]
  },
  {
   "cell_type": "code",
   "execution_count": 32,
   "metadata": {},
   "outputs": [
    {
     "data": {
      "text/html": [
       "0.978457442989697"
      ],
      "text/latex": [
       "0.978457442989697"
      ],
      "text/markdown": [
       "0.978457442989697"
      ],
      "text/plain": [
       "[1] 0.9784574"
      ]
     },
     "metadata": {},
     "output_type": "display_data"
    }
   ],
   "source": [
    "sd(pesos_autos)"
   ]
  },
  {
   "cell_type": "markdown",
   "metadata": {},
   "source": [
    "### La función ```var()```.\n",
    "\n",
    "$$\n",
    "var = \\sigma^{2}\n",
    "$$"
   ]
  },
  {
   "cell_type": "code",
   "execution_count": 33,
   "metadata": {},
   "outputs": [
    {
     "data": {
      "text/html": [
       "0.957378967741936"
      ],
      "text/latex": [
       "0.957378967741936"
      ],
      "text/markdown": [
       "0.957378967741936"
      ],
      "text/plain": [
       "[1] 0.957379"
      ]
     },
     "metadata": {},
     "output_type": "display_data"
    }
   ],
   "source": [
    "var(pesos_autos)"
   ]
  },
  {
   "cell_type": "code",
   "execution_count": 34,
   "metadata": {},
   "outputs": [
    {
     "data": {
      "text/html": [
       "0.957378967741936"
      ],
      "text/latex": [
       "0.957378967741936"
      ],
      "text/markdown": [
       "0.957378967741936"
      ],
      "text/plain": [
       "[1] 0.957379"
      ]
     },
     "metadata": {},
     "output_type": "display_data"
    }
   ],
   "source": [
    "sd(pesos_autos) ^ 2"
   ]
  },
  {
   "cell_type": "markdown",
   "metadata": {},
   "source": [
    "### La función ```median()```."
   ]
  },
  {
   "cell_type": "code",
   "execution_count": 35,
   "metadata": {},
   "outputs": [
    {
     "data": {
      "text/html": [
       "3.325"
      ],
      "text/latex": [
       "3.325"
      ],
      "text/markdown": [
       "3.325"
      ],
      "text/plain": [
       "[1] 3.325"
      ]
     },
     "metadata": {},
     "output_type": "display_data"
    }
   ],
   "source": [
    "median(pesos_autos)"
   ]
  },
  {
   "cell_type": "markdown",
   "metadata": {},
   "source": [
    "### La función  ```quantile()```."
   ]
  },
  {
   "cell_type": "code",
   "execution_count": 36,
   "metadata": {},
   "outputs": [
    {
     "data": {
      "text/html": [
       "<style>\n",
       ".dl-inline {width: auto; margin:0; padding: 0}\n",
       ".dl-inline>dt, .dl-inline>dd {float: none; width: auto; display: inline-block}\n",
       ".dl-inline>dt::after {content: \":\\0020\"; padding-right: .5ex}\n",
       ".dl-inline>dt:not(:first-of-type) {padding-left: .5ex}\n",
       "</style><dl class=dl-inline><dt>0%</dt><dd>1.513</dd><dt>25%</dt><dd>2.58125</dd><dt>50%</dt><dd>3.325</dd><dt>75%</dt><dd>3.61</dd><dt>100%</dt><dd>5.424</dd></dl>\n"
      ],
      "text/latex": [
       "\\begin{description*}\n",
       "\\item[0\\textbackslash{}\\%] 1.513\n",
       "\\item[25\\textbackslash{}\\%] 2.58125\n",
       "\\item[50\\textbackslash{}\\%] 3.325\n",
       "\\item[75\\textbackslash{}\\%] 3.61\n",
       "\\item[100\\textbackslash{}\\%] 5.424\n",
       "\\end{description*}\n"
      ],
      "text/markdown": [
       "0%\n",
       ":   1.51325%\n",
       ":   2.5812550%\n",
       ":   3.32575%\n",
       ":   3.61100%\n",
       ":   5.424\n",
       "\n"
      ],
      "text/plain": [
       "     0%     25%     50%     75%    100% \n",
       "1.51300 2.58125 3.32500 3.61000 5.42400 "
      ]
     },
     "metadata": {},
     "output_type": "display_data"
    }
   ],
   "source": [
    "quantile(pesos_autos)"
   ]
  },
  {
   "cell_type": "markdown",
   "metadata": {},
   "source": [
    "### La función ```fivenum()```."
   ]
  },
  {
   "cell_type": "code",
   "execution_count": 37,
   "metadata": {},
   "outputs": [
    {
     "data": {
      "text/html": [
       "<style>\n",
       ".list-inline {list-style: none; margin:0; padding: 0}\n",
       ".list-inline>li {display: inline-block}\n",
       ".list-inline>li:not(:last-child)::after {content: \"\\00b7\"; padding: 0 .5ex}\n",
       "</style>\n",
       "<ol class=list-inline><li>1.513</li><li>2.5425</li><li>3.325</li><li>3.65</li><li>5.424</li></ol>\n"
      ],
      "text/latex": [
       "\\begin{enumerate*}\n",
       "\\item 1.513\n",
       "\\item 2.5425\n",
       "\\item 3.325\n",
       "\\item 3.65\n",
       "\\item 5.424\n",
       "\\end{enumerate*}\n"
      ],
      "text/markdown": [
       "1. 1.513\n",
       "2. 2.5425\n",
       "3. 3.325\n",
       "4. 3.65\n",
       "5. 5.424\n",
       "\n",
       "\n"
      ],
      "text/plain": [
       "[1] 1.5130 2.5425 3.3250 3.6500 5.4240"
      ]
     },
     "metadata": {},
     "output_type": "display_data"
    }
   ],
   "source": [
    "fivenum(pesos_autos)"
   ]
  },
  {
   "cell_type": "code",
   "execution_count": 39,
   "metadata": {},
   "outputs": [],
   "source": [
    "?fivenum"
   ]
  },
  {
   "cell_type": "markdown",
   "metadata": {},
   "source": [
    "## La función ```hist()```."
   ]
  },
  {
   "cell_type": "code",
   "execution_count": 40,
   "metadata": {
    "scrolled": false
   },
   "outputs": [
    {
     "data": {
      "image/png": "[encoded data removed]",
      "text/plain": [
       "Plot with title “Histogram of pesos_autos”"
      ]
     },
     "metadata": {
      "image/png": {
       "height": 420,
       "width": 420
      }
     },
     "output_type": "display_data"
    }
   ],
   "source": [
    "hist(pesos_autos)"
   ]
  },
  {
   "cell_type": "code",
   "execution_count": 42,
   "metadata": {
    "scrolled": true
   },
   "outputs": [
    {
     "data": {
      "image/png": "[encoded data removed]",
      "text/plain": [
       "Plot with title “Histogram of pesos_ping”"
      ]
     },
     "metadata": {
      "image/png": {
       "height": 420,
       "width": 420
      }
     },
     "output_type": "display_data"
    }
   ],
   "source": [
    "hist(pesos_ping)"
   ]
  },
  {
   "cell_type": "code",
   "execution_count": 43,
   "metadata": {},
   "outputs": [
    {
     "data": {
      "image/png": "[encoded data removed]",
      "text/plain": [
       "Plot with title “Histogram of gentoo$body_mass_g”"
      ]
     },
     "metadata": {
      "image/png": {
       "height": 420,
       "width": 420
      }
     },
     "output_type": "display_data"
    }
   ],
   "source": [
    "hist(gentoo$body_mass_g)"
   ]
  },
  {
   "cell_type": "code",
   "execution_count": 44,
   "metadata": {},
   "outputs": [
    {
     "data": {
      "image/png": "[encoded data removed]",
      "text/plain": [
       "Plot with title “Histogram of adelie$body_mass_g”"
      ]
     },
     "metadata": {
      "image/png": {
       "height": 420,
       "width": 420
      }
     },
     "output_type": "display_data"
    }
   ],
   "source": [
    "hist(adelie$body_mass_g)"
   ]
  },
  {
   "cell_type": "code",
   "execution_count": 45,
   "metadata": {
    "scrolled": true
   },
   "outputs": [
    {
     "data": {
      "image/png": "[encoded data removed]",
      "text/plain": [
       "Plot with title “Histogram of chinstrap$body_mass_g”"
      ]
     },
     "metadata": {
      "image/png": {
       "height": 420,
       "width": 420
      }
     },
     "output_type": "display_data"
    }
   ],
   "source": [
    "hist(chinstrap$body_mass_g)"
   ]
  },
  {
   "cell_type": "code",
   "execution_count": 57,
   "metadata": {},
   "outputs": [],
   "source": [
    "?hist"
   ]
  },
  {
   "cell_type": "markdown",
   "metadata": {},
   "source": [
    "## La función ```barplot()```."
   ]
  },
  {
   "cell_type": "code",
   "execution_count": 46,
   "metadata": {
    "scrolled": true
   },
   "outputs": [
    {
     "data": {
      "text/plain": [
       "\n",
       "   Biscoe     Dream Torgersen \n",
       "      168       124        52 "
      ]
     },
     "metadata": {},
     "output_type": "display_data"
    }
   ],
   "source": [
    "table(penguins$island)"
   ]
  },
  {
   "cell_type": "code",
   "execution_count": 47,
   "metadata": {
    "scrolled": true
   },
   "outputs": [
    {
     "data": {
      "image/png": "[encoded data removed]",
      "text/plain": [
       "plot without title"
      ]
     },
     "metadata": {
      "image/png": {
       "height": 420,
       "width": 420
      }
     },
     "output_type": "display_data"
    }
   ],
   "source": [
    "barplot(table(penguins$island))"
   ]
  },
  {
   "cell_type": "code",
   "execution_count": 52,
   "metadata": {},
   "outputs": [
    {
     "data": {
      "text/html": [
       "344"
      ],
      "text/latex": [
       "344"
      ],
      "text/markdown": [
       "344"
      ],
      "text/plain": [
       "[1] 344"
      ]
     },
     "metadata": {},
     "output_type": "display_data"
    }
   ],
   "source": [
    "length(penguins[[1]])"
   ]
  },
  {
   "cell_type": "code",
   "execution_count": 48,
   "metadata": {
    "scrolled": true
   },
   "outputs": [
    {
     "data": {
      "image/png": "[encoded data removed]",
      "text/plain": [
       "plot without title"
      ]
     },
     "metadata": {
      "image/png": {
       "height": 420,
       "width": 420
      }
     },
     "output_type": "display_data"
    }
   ],
   "source": [
    "barplot(penguins$body_mass_g)"
   ]
  },
  {
   "cell_type": "code",
   "execution_count": 53,
   "metadata": {},
   "outputs": [
    {
     "data": {
      "text/plain": [
       "\n",
       "(2.7e+03,3.1e+03] (3.1e+03,3.5e+03] (3.5e+03,3.9e+03] (3.9e+03,4.3e+03] \n",
       "               16                61                76                53 \n",
       "(4.3e+03,4.7e+03] (4.7e+03,5.1e+03] (5.1e+03,5.5e+03] (5.5e+03,5.9e+03] \n",
       "               42                38                27                22 \n",
       "(5.9e+03,6.3e+03] \n",
       "                6 "
      ]
     },
     "metadata": {},
     "output_type": "display_data"
    }
   ],
   "source": [
    "table(cut(x = pesos_ping, breaks=seq(min(pesos_ping),\n",
    "                max(pesos_ping), length=10)))"
   ]
  },
  {
   "cell_type": "code",
   "execution_count": 54,
   "metadata": {
    "scrolled": true
   },
   "outputs": [
    {
     "data": {
      "image/png": "[encoded data removed]",
      "text/plain": [
       "plot without title"
      ]
     },
     "metadata": {
      "image/png": {
       "height": 420,
       "width": 420
      }
     },
     "output_type": "display_data"
    }
   ],
   "source": [
    "barplot(table(cut(x = pesos_ping, breaks=seq(min(pesos_ping),\n",
    "                max(pesos_ping), length=10))))"
   ]
  },
  {
   "cell_type": "code",
   "execution_count": 55,
   "metadata": {},
   "outputs": [
    {
     "data": {
      "image/png": "[encoded data removed]",
      "text/plain": [
       "plot without title"
      ]
     },
     "metadata": {
      "image/png": {
       "height": 420,
       "width": 420
      }
     },
     "output_type": "display_data"
    }
   ],
   "source": [
    "barplot(table(cut(x = pesos_ping, breaks=seq(min(pesos_ping),\n",
    "                max(pesos_ping), length=15))))"
   ]
  },
  {
   "cell_type": "code",
   "execution_count": 56,
   "metadata": {},
   "outputs": [
    {
     "data": {
      "image/png": "[encoded data removed]",
      "text/plain": [
       "plot without title"
      ]
     },
     "metadata": {
      "image/png": {
       "height": 420,
       "width": 420
      }
     },
     "output_type": "display_data"
    }
   ],
   "source": [
    "barplot(table(cut(x = pesos_ping, breaks=seq(min(pesos_ping),\n",
    "                max(pesos_ping), length=20))))"
   ]
  },
  {
   "cell_type": "code",
   "execution_count": 64,
   "metadata": {},
   "outputs": [
    {
     "data": {
      "image/png": "[encoded data removed]",
      "text/plain": [
       "Plot with title “Histogram of as.integer(mtcars$gear)”"
      ]
     },
     "metadata": {
      "image/png": {
       "height": 420,
       "width": 420
      }
     },
     "output_type": "display_data"
    }
   ],
   "source": [
    "hist(as.integer(mtcars$gear))"
   ]
  },
  {
   "cell_type": "markdown",
   "metadata": {},
   "source": [
    "## La función ```boxplot()```."
   ]
  },
  {
   "cell_type": "code",
   "execution_count": 65,
   "metadata": {
    "scrolled": false
   },
   "outputs": [
    {
     "data": {
      "image/png": "[encoded data removed]",
      "text/plain": [
       "plot without title"
      ]
     },
     "metadata": {
      "image/png": {
       "height": 420,
       "width": 420
      }
     },
     "output_type": "display_data"
    }
   ],
   "source": [
    "boxplot(pesos_autos)"
   ]
  },
  {
   "cell_type": "code",
   "execution_count": 66,
   "metadata": {},
   "outputs": [],
   "source": [
    "?boxplot"
   ]
  },
  {
   "cell_type": "code",
   "execution_count": 67,
   "metadata": {},
   "outputs": [
    {
     "data": {
      "image/png": "[encoded data removed]",
      "text/plain": [
       "plot without title"
      ]
     },
     "metadata": {
      "image/png": {
       "height": 420,
       "width": 420
      }
     },
     "output_type": "display_data"
    }
   ],
   "source": [
    "boxplot(pesos_ping)"
   ]
  },
  {
   "cell_type": "code",
   "execution_count": 68,
   "metadata": {},
   "outputs": [
    {
     "data": {
      "image/png": "[encoded data removed]",
      "text/plain": [
       "plot without title"
      ]
     },
     "metadata": {
      "image/png": {
       "height": 420,
       "width": 420
      }
     },
     "output_type": "display_data"
    }
   ],
   "source": [
    "opar <- par(no.readonly=TRUE)\n",
    "par(mfrow=c(1,3))\n",
    "boxplot(adelie$body_mass_g)\n",
    "boxplot(gentoo$body_mass_g)\n",
    "boxplot(chinstrap$body_mass_g)\n",
    "par(opar)"
   ]
  },
  {
   "cell_type": "code",
   "execution_count": 69,
   "metadata": {
    "scrolled": false
   },
   "outputs": [
    {
     "data": {
      "image/png": "[encoded data removed]",
      "text/plain": [
       "plot without title"
      ]
     },
     "metadata": {
      "image/png": {
       "height": 420,
       "width": 420
      }
     },
     "output_type": "display_data"
    }
   ],
   "source": [
    "boxplot(body_mass_g ~ species, data=penguins)"
   ]
  },
  {
   "cell_type": "code",
   "execution_count": 71,
   "metadata": {},
   "outputs": [],
   "source": [
    "library(ggplot2)"
   ]
  },
  {
   "cell_type": "code",
   "execution_count": 72,
   "metadata": {},
   "outputs": [
    {
     "data": {
      "image/png": "[encoded data removed]",
      "text/plain": [
       "plot without title"
      ]
     },
     "metadata": {
      "image/png": {
       "height": 420,
       "width": 420
      }
     },
     "output_type": "display_data"
    }
   ],
   "source": [
    "ggplot(penguins, aes(x=species, y=body_mass_g, fill=species)) + \n",
    "geom_boxplot(na.rm=TRUE)"
   ]
  },
  {
   "cell_type": "code",
   "execution_count": 74,
   "metadata": {
    "scrolled": true
   },
   "outputs": [
    {
     "data": {
      "image/png": "[encoded data removed]",
      "text/plain": [
       "plot without title"
      ]
     },
     "metadata": {
      "image/png": {
       "height": 420,
       "width": 420
      }
     },
     "output_type": "display_data"
    }
   ],
   "source": [
    "ggplot(penguins, aes(x=species, y=body_mass_g, fill=island)) + \n",
    "geom_boxplot(na.rm=TRUE)"
   ]
  },
  {
   "cell_type": "markdown",
   "metadata": {},
   "source": [
    "## Distribuciones probabilísticas."
   ]
  },
  {
   "cell_type": "markdown",
   "metadata": {},
   "source": [
    "### Distribuiciones continuas.\n",
    "\n",
    "* [Distribución normal](https://es.wikipedia.org/wiki/Distribuci%C3%B3n_normal).\n",
    "* [Distribución t de Student.](https://es.wikipedia.org/wiki/Distribuci%C3%B3n_t_de_Student) \n",
    "* [Distribución chi_cuadrado.](https://es.wikipedia.org/wiki/Distribuci%C3%B3n_%CF%87%C2%B2_)"
   ]
  },
  {
   "cell_type": "markdown",
   "metadata": {},
   "source": [
    "### Distribuciones discretas.\n",
    "\n",
    "* [Distribuición uniforme discreta](https://es.wikipedia.org/wiki/Distribuci%C3%B3n_uniforme_discreta).\n",
    "* [Distribución binomial](https://es.wikipedia.org/wiki/Distribuci%C3%B3n_binomial).\n",
    "* [Distribución de Poisson](https://es.wikipedia.org/wiki/Distribuci%C3%B3n_de_Poisson)."
   ]
  },
  {
   "cell_type": "markdown",
   "metadata": {},
   "source": [
    "## La Distribución normal."
   ]
  },
  {
   "cell_type": "code",
   "execution_count": 75,
   "metadata": {
    "scrolled": true
   },
   "outputs": [
    {
     "data": {
      "image/png": "[encoded data removed]",
      "text/plain": [
       "plot without title"
      ]
     },
     "metadata": {
      "image/png": {
       "height": 420,
       "width": 420
      }
     },
     "output_type": "display_data"
    }
   ],
   "source": [
    "x <- seq(-4, 4, length=100)\n",
    "y <- dnorm(x)\n",
    "plot(x,y, type = \"l\", lwd = 2, axes = FALSE, xlab = \"\", ylab = \"\")\n",
    "axis(1, at = -3:3, labels = c(\"-3s\", \"-2s\", \"-1s\", \"mean\", \"1s\", \"2s\", \"3s\"))"
   ]
  },
  {
   "cell_type": "code",
   "execution_count": 77,
   "metadata": {},
   "outputs": [],
   "source": [
    "?rnorm"
   ]
  },
  {
   "cell_type": "markdown",
   "metadata": {},
   "source": [
    "<p style=\"text-align: center\"><a rel=\"license\" href=\"http://creativecommons.org/licenses/by/4.0/\"><img alt=\"Licencia Creative Commons\" style=\"border-width:0\" src=\"https://i.creativecommons.org/l/by/4.0/80x15.png\" /></a><br />Esta obra está bajo una <a rel=\"license\" href=\"http://creativecommons.org/licenses/by/4.0/\">Licencia Creative Commons Atribución 4.0 Internacional</a>.</p>\n",
    "<p style=\"text-align: center\">&copy; José Luis Chiquete Valdivieso. 2020.</p>"
   ]
  }
 ],
 "metadata": {
  "kernelspec": {
   "display_name": "R",
   "language": "R",
   "name": "ir"
  },
  "language_info": {
   "codemirror_mode": "r",
   "file_extension": ".r",
   "mimetype": "text/x-r-source",
   "name": "R",
   "pygments_lexer": "r",
   "version": "3.6.3"
  }
 },
 "nbformat": 4,
 "nbformat_minor": 2
}
