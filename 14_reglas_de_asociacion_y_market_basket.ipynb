{
 "cells": [
  {
   "cell_type": "markdown",
   "metadata": {},
   "source": [
    "# Reglas de asociación y *market basket analysis*."
   ]
  },
  {
   "cell_type": "markdown",
   "metadata": {},
   "source": [
    "## Reglas de asociación.\n",
    "\n",
    "Las reglas de asociación en *Machine Learning* son técnicas que se utilizan para descubrir hechos que ocurren en común dentro de un determinado conjunto de datos.\n",
    "\n",
    "Estas técnicas y algoritmos permiten definir relaciones (reglas) de afinidad entre elementos las cuales no necesariamente son intuitivas, de tal forma que una *regla fuerte* describe una relación de afinidad entre uno o más elementos con otro elemento.\n",
    "\n",
    "Las reglas de asociación son uitilizadas para poder identificar conjuntos de elementos afines y su aplicación en mercadotecnia, bioinformática y análisis de redes sociales es muy popular."
   ]
  },
  {
   "cell_type": "markdown",
   "metadata": {},
   "source": [
    "$$\n",
    "\\{leche, cereal\\} \\rightarrow {mermelada}\n",
    "$$"
   ]
  },
  {
   "cell_type": "markdown",
   "metadata": {},
   "source": [
    "### Soporte.\n",
    "\n",
    "El soporte es una relación ente el un conjunto de elementos asociados y las veces que dicho conjunto aparecen en una transacción.\n",
    "\n",
    "$$\n",
    "support(X) = \\frac{|X|}{|D|} \n",
    "$$\n",
    "\n",
    "En las que $X$ es el número de veces que aparece un conjuto de elementos en una transacción y $D$ es el total de las transacciones."
   ]
  },
  {
   "cell_type": "markdown",
   "metadata": {},
   "source": [
    "## Confianza.\n",
    "\n",
    "La confianza de una regla $ X \\rightarrow Y$ se calcula de la siguiente manera.\n",
    "\n",
    "$$\n",
    "confidence(X \\rightarrow Y) = \\frac{support(X,Y)}{support(Y)}\n",
    "$$"
   ]
  },
  {
   "cell_type": "markdown",
   "metadata": {},
   "source": [
    "### Alzada o *lift*.\n",
    "\n",
    "El *lift* de una regla estima el aumento de probabilidad de que un producto sea escogido al escoger otro.\n",
    "\n",
    "$$\n",
    "lift(X \\rightarrow Y) = \\frac{confidence(X \\rightarrow Y)}{support(Y)}\n",
    "$$"
   ]
  },
  {
   "cell_type": "markdown",
   "metadata": {},
   "source": [
    "## *Market basket analysis*.\n",
    "\n",
    "El llamando *Market basket analysis* es una técnica de mercadotecnia que permite identificar patrones en la compra de productos a partir del análisis de una gran numéro de observaciones."
   ]
  },
  {
   "cell_type": "markdown",
   "metadata": {},
   "source": [
    "## El algoritmo *Apriori*.\n",
    "\n",
    "Creado por Rakesh Agrawal y Ramakrishnan Srikant. Este algoritmo permite analizar grandes *datasets* de transacciones y productos.\n",
    "\n",
    "https://en.wikipedia.org/wiki/Apriori_algorithm"
   ]
  },
  {
   "cell_type": "markdown",
   "metadata": {},
   "source": [
    "## El paquete ```arules```.\n",
    "\n",
    "Este paquete permite realizar pruebas de asociación en grandes volúmenes de transacciones.\n",
    "\n",
    "https://cran.r-project.org/web/packages/arules/index.html\n",
    "\n",
    "https://www.jstatsoft.org/article/view/v014i15"
   ]
  },
  {
   "cell_type": "code",
   "execution_count": null,
   "metadata": {},
   "outputs": [],
   "source": [
    "install.packages(\"arules\")"
   ]
  },
  {
   "cell_type": "code",
   "execution_count": null,
   "metadata": {
    "scrolled": false
   },
   "outputs": [],
   "source": [
    "library(arules)"
   ]
  },
  {
   "cell_type": "markdown",
   "metadata": {},
   "source": [
    "### La funcion ```read.transactions()```."
   ]
  },
  {
   "cell_type": "code",
   "execution_count": null,
   "metadata": {},
   "outputs": [],
   "source": [
    "compras <- read.transactions(\"data/14/groceries.csv\", sep=\",\")"
   ]
  },
  {
   "cell_type": "code",
   "execution_count": null,
   "metadata": {},
   "outputs": [],
   "source": [
    "summary(compras)"
   ]
  },
  {
   "cell_type": "markdown",
   "metadata": {},
   "source": [
    "### La función ```inspect()```."
   ]
  },
  {
   "cell_type": "code",
   "execution_count": null,
   "metadata": {
    "scrolled": false
   },
   "outputs": [],
   "source": [
    "inspect(compras)"
   ]
  },
  {
   "cell_type": "markdown",
   "metadata": {},
   "source": [
    "### La función ```itemFrequency()```."
   ]
  },
  {
   "cell_type": "code",
   "execution_count": null,
   "metadata": {},
   "outputs": [],
   "source": [
    "itemFrequency(compras[, 1:3])"
   ]
  },
  {
   "cell_type": "markdown",
   "metadata": {},
   "source": [
    "### La función ```itemFrequencyPlot()```."
   ]
  },
  {
   "cell_type": "code",
   "execution_count": null,
   "metadata": {
    "scrolled": true
   },
   "outputs": [],
   "source": [
    "itemFrequencyPlot(compras, support = 0.1)"
   ]
  },
  {
   "cell_type": "code",
   "execution_count": null,
   "metadata": {
    "scrolled": false
   },
   "outputs": [],
   "source": [
    "itemFrequencyPlot(compras, topN = 20)"
   ]
  },
  {
   "cell_type": "markdown",
   "metadata": {},
   "source": [
    "### La función ```image()```."
   ]
  },
  {
   "cell_type": "code",
   "execution_count": null,
   "metadata": {
    "scrolled": true
   },
   "outputs": [],
   "source": [
    "image(compras[1:5])"
   ]
  },
  {
   "cell_type": "code",
   "execution_count": null,
   "metadata": {
    "scrolled": true
   },
   "outputs": [],
   "source": [
    "image(sample(compras, 100))"
   ]
  },
  {
   "cell_type": "markdown",
   "metadata": {},
   "source": [
    "## La función ```aprori()```."
   ]
  },
  {
   "cell_type": "code",
   "execution_count": null,
   "metadata": {
    "scrolled": true
   },
   "outputs": [],
   "source": [
    "apriori(compras)"
   ]
  },
  {
   "cell_type": "code",
   "execution_count": null,
   "metadata": {},
   "outputs": [],
   "source": [
    "reglas <- apriori(compras, parameter = list(support =0.006, confidence = 0.25, minlen = 2))"
   ]
  },
  {
   "cell_type": "code",
   "execution_count": null,
   "metadata": {},
   "outputs": [],
   "source": [
    "reglas"
   ]
  },
  {
   "cell_type": "code",
   "execution_count": null,
   "metadata": {
    "scrolled": true
   },
   "outputs": [],
   "source": [
    "summary(reglas)"
   ]
  },
  {
   "cell_type": "code",
   "execution_count": null,
   "metadata": {
    "scrolled": true
   },
   "outputs": [],
   "source": [
    "inspect(reglas[1:3])"
   ]
  },
  {
   "cell_type": "code",
   "execution_count": null,
   "metadata": {
    "scrolled": true
   },
   "outputs": [],
   "source": [
    "inspect(sort(reglas, by = \"lift\")[1:5])"
   ]
  },
  {
   "cell_type": "code",
   "execution_count": null,
   "metadata": {},
   "outputs": [],
   "source": [
    "reglas_frutos_rojos <- subset(groceryrules, items %in% \"berries\")"
   ]
  },
  {
   "cell_type": "code",
   "execution_count": null,
   "metadata": {},
   "outputs": [],
   "source": [
    "inspect(reglas_frutos_rojos)"
   ]
  },
  {
   "cell_type": "markdown",
   "metadata": {},
   "source": [
    "<p style=\"text-align: center\"><a rel=\"license\" href=\"http://creativecommons.org/licenses/by/4.0/\"><img alt=\"Licencia Creative Commons\" style=\"border-width:0\" src=\"https://i.creativecommons.org/l/by/4.0/80x15.png\" /></a><br />Esta obra está bajo una <a rel=\"license\" href=\"http://creativecommons.org/licenses/by/4.0/\">Licencia Creative Commons Atribución 4.0 Internacional</a>.</p>\n",
    "<p style=\"text-align: center\">&copy; José Luis Chiquete Valdivieso. 2020.</p>"
   ]
  }
 ],
 "metadata": {
  "kernelspec": {
   "display_name": "R",
   "language": "R",
   "name": "ir"
  },
  "language_info": {
   "codemirror_mode": "r",
   "file_extension": ".r",
   "mimetype": "text/x-r-source",
   "name": "R",
   "pygments_lexer": "r",
   "version": "3.6.3"
  }
 },
 "nbformat": 4,
 "nbformat_minor": 2
}
