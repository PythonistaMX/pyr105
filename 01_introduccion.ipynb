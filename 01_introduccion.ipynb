{
 "cells": [
  {
   "cell_type": "markdown",
   "metadata": {},
   "source": [
    "<a href=\"https://www.pythonista.io\"> <img src=\"img/pythonista.png\"></a>"
   ]
  },
  {
   "cell_type": "markdown",
   "metadata": {},
   "source": [
    "# Introducción."
   ]
  },
  {
   "cell_type": "markdown",
   "metadata": {},
   "source": [
    "## Ciencia de datos.\n",
    "\n",
    "Un campo interdisciplinario que utiliza métodos, procesos, algoritmos y sistemas científicos para extraer conocimientos e ideas de muchos datos estructurales y no estructurados. La ciencia de datos está relacionada con la minería de datos, el aprendizaje automático y los macrodatos."
   ]
  },
  {
   "cell_type": "markdown",
   "metadata": {},
   "source": [
    "<img src=\"img/01/diagrama_ciencia_de_datos.svg\" width=\"40%\">"
   ]
  },
  {
   "cell_type": "markdown",
   "metadata": {},
   "source": [
    "## Ciclo de vida de un proyecto de ciencia de datos.\n",
    "\n",
    "<img src=\"img/01/ciclo_ciencia_de_datos.png\" width=\"40%\">"
   ]
  },
  {
   "cell_type": "markdown",
   "metadata": {},
   "source": [
    "## *Data Mining*.\n",
    "\n",
    "Es el proceso de extraer información útil a partir de una gran cantidad de datos Se utiliza para descubrir patrones."
   ]
  },
  {
   "cell_type": "markdown",
   "metadata": {},
   "source": [
    "## *Machine Learning*.\n",
    "\n",
    "Machine learning es el proceso para descubrir algoritmos que van mejorando conforme se ajustan a los patrones extraídos de los datos.\n",
    "\n",
    "<img src=\"img/01/proceso_de_machine_learning.png\" width=\"70%\">"
   ]
  },
  {
   "cell_type": "markdown",
   "metadata": {},
   "source": [
    "### Obtención de datos.\n",
    "\n",
    "Un dato es una unidad de conocimiento que puede ser almacenada o registrada.\n",
    "\n",
    "Los conjuntos de datos *datasets* son la materia prima del análisis de datos en general."
   ]
  },
  {
   "cell_type": "markdown",
   "metadata": {},
   "source": [
    "#### Tipos de datos.\n",
    "\n",
    "* Continuos\n",
    "* Discretos\n",
    "* Categóricos\n",
    "* Binarios\n",
    "* Ordinales"
   ]
  },
  {
   "cell_type": "markdown",
   "metadata": {},
   "source": [
    "#### Ciclo de vida de los datos.\n",
    "<img src=\"img/01/ciclo_de_vida_de_datos.png\" width=\"50%\">"
   ]
  },
  {
   "cell_type": "markdown",
   "metadata": {},
   "source": [
    "### Preparación de datos.\n",
    "\n",
    "La preparación de datos es el proceso de limpieza y transformación de \"datos crudos\" previos a su análisis. Una buena preparación de datos permite realizar análisis eficiente, minimizando los errores e imprecisiones. "
   ]
  },
  {
   "cell_type": "markdown",
   "metadata": {},
   "source": [
    "### Selección del modelo.\n",
    "\n",
    "Los modelos en *Machine Learning* son algoritmos que permiten \"emular\" un fenómeno a partir de ciertos patrones definidos por atributos (*features*).\n",
    "\n",
    "* Un atributo (*feature*) es una propiedad mesurable o una característica de un fenómeno observado. Por lo general, un atributo es la columna de una tabla. Los atributos al final de cuentas son variables, las cuales penden ser la causa o el efecto de un fenómeno. "
   ]
  },
  {
   "cell_type": "markdown",
   "metadata": {},
   "source": [
    "#### Tipos de algoritmos de *ML*.\n",
    "\n",
    "* Aprendizaje supervisado. Es un mecanismo que infiere las relaciones inherentes entre los datos observados y una variable dependiente (*label*), lo que podría permitir una predicción.\n",
    "\n",
    "* Aprendizaje no supervisado. Son algoritmos diseñados para encontrar las estructurtras en *datasets* que no tienen definidas variables dependientes (*unlabeled*) y en el que se utilizan modelos probabilístivos para describir un fenómeno.\n",
    "\n",
    "* Metodología de refuerzo del de Aprendizaje. Son algoritmos que permiten adaptar los modelos conforme el entorno cambia.\n"
   ]
  },
  {
   "cell_type": "markdown",
   "metadata": {},
   "source": [
    "### Entrenamiento del modelo.\n",
    "\n",
    "El proceso de entrenamiento de un modelo consiste en ajustar un modelo a un conjunto de datos."
   ]
  },
  {
   "cell_type": "markdown",
   "metadata": {},
   "source": [
    "### Evaluación.\n",
    "\n",
    "La evaluación sucede una vez que el modelo fue entrenado para ajustarse a un *dataset* inicial y entonces el modelo se aplica a otros *datasets* para validar la generalización."
   ]
  },
  {
   "cell_type": "markdown",
   "metadata": {},
   "source": [
    "<p style=\"text-align: center\"><a rel=\"license\" href=\"http://creativecommons.org/licenses/by/4.0/\"><img alt=\"Licencia Creative Commons\" style=\"border-width:0\" src=\"https://i.creativecommons.org/l/by/4.0/80x15.png\" /></a><br />Esta obra está bajo una <a rel=\"license\" href=\"http://creativecommons.org/licenses/by/4.0/\">Licencia Creative Commons Atribución 4.0 Internacional</a>.</p>\n",
    "<p style=\"text-align: center\">&copy; José Luis Chiquete Valdivieso. 2020.</p>"
   ]
  },
  {
   "cell_type": "code",
   "execution_count": null,
   "metadata": {},
   "outputs": [],
   "source": []
  }
 ],
 "metadata": {
  "kernelspec": {
   "display_name": "Python 3",
   "language": "python",
   "name": "python3"
  },
  "language_info": {
   "codemirror_mode": {
    "name": "ipython",
    "version": 3
   },
   "file_extension": ".py",
   "mimetype": "text/x-python",
   "name": "python",
   "nbconvert_exporter": "python",
   "pygments_lexer": "ipython3",
   "version": "3.8.5"
  }
 },
 "nbformat": 4,
 "nbformat_minor": 2
}
