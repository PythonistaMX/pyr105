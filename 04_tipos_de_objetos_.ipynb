{
 "cells": [
  {
   "cell_type": "markdown",
   "metadata": {},
   "source": [
    "<a href=\"https://www.pythonista.io\"> <img src=\"img/pythonista.png\"></a>"
   ]
  },
  {
   "cell_type": "markdown",
   "metadata": {},
   "source": [
    "## Tipos de objetos.\n",
    "\n",
    "Tomando como base a los vectores, *R* cuenta con otros tipo de objetos que pueden ser utilizados para operaciones de datos de forma muy eficiente. Los principales son:\n",
    "\n",
    "* Listas.\n",
    "* Matrices.\n",
    "* Arreglos.\n",
    "* Dataframes.\n",
    "* Cadenas de caracteres.\n",
    "* Bytes."
   ]
  },
  {
   "cell_type": "markdown",
   "metadata": {},
   "source": [
    "### Listas.\n",
    "\n",
    "Una lista es una coleccion ordenada de cualquier objeto. Los vectores sólo pueden contener valores básicos.\n",
    "\n",
    "```\n",
    "list(<objeto 1>, <objeto 2>, <objeto 3>)\n",
    "```\n",
    "\n",
    "Cada elemento definido dentro de una lista cuenta con un índice."
   ]
  },
  {
   "cell_type": "markdown",
   "metadata": {},
   "source": [
    "**Ejemplo:**"
   ]
  },
  {
   "cell_type": "code",
   "execution_count": null,
   "metadata": {},
   "outputs": [],
   "source": [
    "c(1, c(1,2), 3)"
   ]
  },
  {
   "cell_type": "code",
   "execution_count": null,
   "metadata": {},
   "outputs": [],
   "source": [
    "list(1, c(1,2), 3)"
   ]
  },
  {
   "cell_type": "code",
   "execution_count": null,
   "metadata": {},
   "outputs": [],
   "source": [
    "lista <- list(list(1,2,3), c(3, TRUE, 11), 45i)"
   ]
  },
  {
   "cell_type": "code",
   "execution_count": null,
   "metadata": {},
   "outputs": [],
   "source": [
    "lista[1]"
   ]
  },
  {
   "cell_type": "code",
   "execution_count": null,
   "metadata": {},
   "outputs": [],
   "source": [
    "lista[1]"
   ]
  },
  {
   "cell_type": "markdown",
   "metadata": {},
   "source": [
    "## Matrices.\n",
    "\n",
    "Las matrices son una colección de datos rectangular de dos dimensiones, cuyos elementos pueden ser creados mediante un vector.\n",
    "\n",
    "```\n",
    "matrix(<vector>, nrow = <n>, ncol=<m>)\n",
    "```\n",
    "\n",
    "Los elementos de una matriz son indexados por fila y columna.\n",
    "\n",
    "```\n",
    "<matriz>[<m>,<n>]\n",
    "```"
   ]
  },
  {
   "cell_type": "code",
   "execution_count": null,
   "metadata": {},
   "outputs": [],
   "source": [
    "matrix(c(1,2,3,4,5,6,7,8), nrow=2, ncol=4)"
   ]
  },
  {
   "cell_type": "code",
   "execution_count": null,
   "metadata": {},
   "outputs": [],
   "source": [
    "matriz <- matrix(c(1,2,3,4,5,6,7,8), nrow=2, ncol=4)"
   ]
  },
  {
   "cell_type": "code",
   "execution_count": null,
   "metadata": {},
   "outputs": [],
   "source": [
    "matriz[1,2]"
   ]
  },
  {
   "cell_type": "markdown",
   "metadata": {},
   "source": [
    "## Arreglos.\n",
    "\n",
    "Los arreglos son una colección de datos rectangular de múltiples dimesnones dimensiones, cuyos elementos pueden ser creados mediante un vector.\n",
    "\n",
    "```\n",
    "array(<vector>, dim=<vector>)\n",
    "```"
   ]
  },
  {
   "cell_type": "code",
   "execution_count": null,
   "metadata": {},
   "outputs": [],
   "source": [
    "arreglo <- array(c(1,2,3,4,5,6,7,8), dim = c(2,2,2))"
   ]
  },
  {
   "cell_type": "code",
   "execution_count": null,
   "metadata": {
    "scrolled": true
   },
   "outputs": [],
   "source": [
    "arreglo[2,1,2]"
   ]
  },
  {
   "cell_type": "markdown",
   "metadata": {},
   "source": [
    "## Factors.\n",
    "\n",
    "Los factors son objetos que a partir de un vector identifican a cada elemento único.\n",
    "\n",
    "```\n",
    "factor(<vector>)\n",
    "```"
   ]
  },
  {
   "cell_type": "code",
   "execution_count": null,
   "metadata": {},
   "outputs": [],
   "source": [
    "factor(c(1,2,3,1,1,1,1,5))"
   ]
  },
  {
   "cell_type": "markdown",
   "metadata": {},
   "source": [
    "## Data Frames.\n",
    "\n",
    "Los data frames son objetos con contenido similar a una tabla, en la que sus elementos estám compestos por vectores a los que se les asigna un nombre.\n",
    "\n",
    "```\n",
    "data.frame(<nombre 1>=<vector 1>, <nombre 2>=<vector 2>, ... <nombre n>=<vector n>) \n",
    "```"
   ]
  },
  {
   "cell_type": "code",
   "execution_count": null,
   "metadata": {},
   "outputs": [],
   "source": [
    "datos = data.frame(nombre=c(\"Juan\", \"Luis\", \"Pedro\"),\n",
    "                   calificacion=c(7,8,9))"
   ]
  },
  {
   "cell_type": "code",
   "execution_count": null,
   "metadata": {},
   "outputs": [],
   "source": [
    "datos"
   ]
  },
  {
   "cell_type": "markdown",
   "metadata": {},
   "source": [
    "## Valor ```NA```.\n",
    "\n",
    "El valor ```NA``` significa  \"No disponible\" y se utiliza para denotar un dato que no tiene tipo alguno"
   ]
  },
  {
   "cell_type": "code",
   "execution_count": null,
   "metadata": {},
   "outputs": [],
   "source": [
    "NA"
   ]
  },
  {
   "cell_type": "code",
   "execution_count": null,
   "metadata": {},
   "outputs": [],
   "source": [
    "mean('Hola')"
   ]
  },
  {
   "cell_type": "markdown",
   "metadata": {},
   "source": [
    "## Valor ```NULL```.\n",
    "\n",
    "Este es un valor que se utiliza para variables vacías."
   ]
  },
  {
   "cell_type": "code",
   "execution_count": null,
   "metadata": {},
   "outputs": [],
   "source": [
    "x <- NULL"
   ]
  },
  {
   "cell_type": "code",
   "execution_count": null,
   "metadata": {},
   "outputs": [],
   "source": [
    "x"
   ]
  },
  {
   "cell_type": "markdown",
   "metadata": {},
   "source": [
    "## Valor ```NaN```."
   ]
  },
  {
   "cell_type": "code",
   "execution_count": null,
   "metadata": {},
   "outputs": [],
   "source": [
    "0 / 0"
   ]
  },
  {
   "cell_type": "markdown",
   "metadata": {},
   "source": [
    "## Valor ```Inf```."
   ]
  },
  {
   "cell_type": "code",
   "execution_count": null,
   "metadata": {},
   "outputs": [],
   "source": [
    "1/0"
   ]
  },
  {
   "cell_type": "markdown",
   "metadata": {},
   "source": [
    "<p style=\"text-align: center\"><a rel=\"license\" href=\"http://creativecommons.org/licenses/by/4.0/\"><img alt=\"Licencia Creative Commons\" style=\"border-width:0\" src=\"https://i.creativecommons.org/l/by/4.0/80x15.png\" /></a><br />Esta obra está bajo una <a rel=\"license\" href=\"http://creativecommons.org/licenses/by/4.0/\">Licencia Creative Commons Atribución 4.0 Internacional</a>.</p>\n",
    "<p style=\"text-align: center\">&copy; José Luis Chiquete Valdivieso. 2020.</p>"
   ]
  }
 ],
 "metadata": {
  "kernelspec": {
   "display_name": "R",
   "language": "R",
   "name": "ir"
  },
  "language_info": {
   "codemirror_mode": "r",
   "file_extension": ".r",
   "mimetype": "text/x-r-source",
   "name": "R",
   "pygments_lexer": "r",
   "version": "3.6.3"
  }
 },
 "nbformat": 4,
 "nbformat_minor": 2
}
