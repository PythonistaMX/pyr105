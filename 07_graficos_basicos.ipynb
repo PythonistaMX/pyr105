{
 "cells": [
  {
   "cell_type": "markdown",
   "metadata": {},
   "source": [
    "# Gráficos básicos."
   ]
  },
  {
   "cell_type": "markdown",
   "metadata": {},
   "source": [
    "## La función ```plot()```."
   ]
  },
  {
   "cell_type": "code",
   "execution_count": null,
   "metadata": {},
   "outputs": [],
   "source": [
    "?plot"
   ]
  },
  {
   "cell_type": "code",
   "execution_count": null,
   "metadata": {},
   "outputs": [],
   "source": [
    "meses <- c(2001, 2002, 2003, 2004, 2005, 2006, 2007, 2008, 2009, 2010, 2011, 2012)"
   ]
  },
  {
   "cell_type": "code",
   "execution_count": null,
   "metadata": {},
   "outputs": [],
   "source": [
    "ventas_centro <- c(1310, 1412, 1350, 1230, 1663, 1430, 1332, 1806, 1891, 1981, 2300, 2532)"
   ]
  },
  {
   "cell_type": "code",
   "execution_count": null,
   "metadata": {
    "scrolled": true
   },
   "outputs": [],
   "source": [
    "plot(meses, ventas_centro)"
   ]
  },
  {
   "cell_type": "code",
   "execution_count": null,
   "metadata": {},
   "outputs": [],
   "source": [
    "plot(meses, ventas_centro, type=\"l\")"
   ]
  },
  {
   "cell_type": "code",
   "execution_count": null,
   "metadata": {},
   "outputs": [],
   "source": [
    "plot(meses, ventas_centro, type=\"b\")"
   ]
  },
  {
   "cell_type": "code",
   "execution_count": null,
   "metadata": {},
   "outputs": [],
   "source": [
    "plot(meses, ventas_centro, type=\"b\", main=\"Ventas mensuales\", sub=\"Región Centro\")"
   ]
  },
  {
   "cell_type": "code",
   "execution_count": null,
   "metadata": {},
   "outputs": [],
   "source": [
    "plot(meses, ventas_centro, type=\"b\", main=\"Ventas mensuales\", sub=\"Región Centro\",\n",
    "     xlab=\"mensual\", ylab=\"monto\")"
   ]
  },
  {
   "cell_type": "code",
   "execution_count": null,
   "metadata": {},
   "outputs": [],
   "source": [
    "plot(meses, ventas_centro, type=\"b\", main=\"Ventas mensuales\", sub=\"Región Centro\",\n",
    "     xlab=\"meses\",asp=0.001)"
   ]
  },
  {
   "cell_type": "markdown",
   "metadata": {},
   "source": [
    "## Parámetros gráficos con la función ```par()```."
   ]
  },
  {
   "cell_type": "code",
   "execution_count": null,
   "metadata": {},
   "outputs": [],
   "source": [
    "?par()"
   ]
  },
  {
   "cell_type": "code",
   "execution_count": null,
   "metadata": {
    "scrolled": true
   },
   "outputs": [],
   "source": [
    "opar <- par(no.readonly=TRUE)\n",
    "par(lty=7, pch=7)\n",
    "plot(meses, ventas_centro, type=\"b\", main=\"Ventas mensuales\", sub=\"Región Centro\",\n",
    "     xlab=\"meses\", ylab=\"monto\")\n",
    "par(opar)"
   ]
  },
  {
   "cell_type": "markdown",
   "metadata": {},
   "source": [
    "## Colores.\n",
    "\n",
    "https://www.nceas.ucsb.edu/sites/default/files/2020-04/colorPaletteCheatsheet.pdf"
   ]
  },
  {
   "cell_type": "code",
   "execution_count": null,
   "metadata": {},
   "outputs": [],
   "source": [
    "opar <- par(no.readonly=TRUE)\n",
    "par(lty=2, pch=12, col=\"blue\")\n",
    "plot(meses, ventas_centro, type=\"b\", main=\"Ventas mensuales\", sub=\"Región Centro\",\n",
    "     xlab=\"meses\", ylab=\"monto\", col=\"#140e4c\")\n",
    "par(opar)"
   ]
  },
  {
   "cell_type": "code",
   "execution_count": null,
   "metadata": {},
   "outputs": [],
   "source": [
    "opar <- par(no.readonly=TRUE)\n",
    "par(lty=2, pch=12, bg=\"thistle1\", col=\"blue\")\n",
    "plot(meses, ventas_centro, type=\"b\", main=\"Ventas mensuales\", sub=\"Región Centro\",\n",
    "     xlab=\"meses\", ylab=\"monto\", col=\"red\", cex=1, lwd=2)\n",
    "par(opar)"
   ]
  },
  {
   "cell_type": "markdown",
   "metadata": {},
   "source": [
    "## Lineas y puntos adicionales."
   ]
  },
  {
   "cell_type": "markdown",
   "metadata": {},
   "source": [
    "## Las funciones ```points()```, ```lines()``` y ```ablines()```."
   ]
  },
  {
   "cell_type": "code",
   "execution_count": null,
   "metadata": {},
   "outputs": [],
   "source": [
    "?points"
   ]
  },
  {
   "cell_type": "code",
   "execution_count": null,
   "metadata": {
    "scrolled": true
   },
   "outputs": [],
   "source": [
    "opar <- par(no.readonly=TRUE)\n",
    "par(lty=2, pch=12, col=\"blue\")\n",
    "plot(meses, ventas_centro, type=\"b\", main=\"Ventas mensuales\", sub=\"Región Centro\",\n",
    "     xlab=\"meses\", ylab=\"monto\", col=\"red\")\n",
    "points(c(2004, 2006), c(1500, 1600), col = \"brown\", pch=3)\n",
    "par(opar)"
   ]
  },
  {
   "cell_type": "code",
   "execution_count": null,
   "metadata": {},
   "outputs": [],
   "source": [
    "?lines"
   ]
  },
  {
   "cell_type": "code",
   "execution_count": null,
   "metadata": {
    "scrolled": true
   },
   "outputs": [],
   "source": [
    "opar <- par(no.readonly=TRUE)\n",
    "par(lty=2, pch=12, col=\"blue\")\n",
    "plot(meses, ventas_centro, type=\"b\", main=\"Ventas mensuales\", sub=\"Región Centro\",\n",
    "     xlab=\"meses\", ylab=\"monto\", col=\"red\")\n",
    "points(c(2004, 2006), c(1500, 1600), col = \"brown\")\n",
    "lines(c(2001,2005, 2006, 2012), c(1100, 1300, 1800, 2000), col=\"#168253\")\n",
    "par(opar)"
   ]
  },
  {
   "cell_type": "code",
   "execution_count": null,
   "metadata": {},
   "outputs": [],
   "source": [
    "?abline"
   ]
  },
  {
   "cell_type": "code",
   "execution_count": null,
   "metadata": {
    "scrolled": true
   },
   "outputs": [],
   "source": [
    "opar <- par(no.readonly=TRUE)\n",
    "par(lty=2, pch=12, col=\"blue\")\n",
    "plot(meses, ventas_centro, type=\"b\", main=\"Ventas mensuales\", sub=\"Región Centro\",\n",
    "     xlab=\"meses\", ylab=\"monto\", col=\"red\")\n",
    "points(c(2004, 2006), c(1500, 1600), col = \"yellow\")\n",
    "lines(c(2001,2012), c(1100, 2000), col=\"#168253\")\n",
    "abline(h = c(2000,2100,2200), col = \"gray60\", lty=3)\n",
    "abline(v = c(2001,2006,2010), col = \"gray60\", lty=3)\n",
    "par(opar)"
   ]
  },
  {
   "cell_type": "markdown",
   "metadata": {},
   "source": [
    "### Textos con ```legends()```."
   ]
  },
  {
   "cell_type": "code",
   "execution_count": null,
   "metadata": {},
   "outputs": [],
   "source": [
    "?legend"
   ]
  },
  {
   "cell_type": "code",
   "execution_count": null,
   "metadata": {
    "scrolled": true
   },
   "outputs": [],
   "source": [
    "opar <- par(no.readonly=TRUE)\n",
    "par(lty=2, pch=12, col=\"blue\")\n",
    "plot(meses, ventas_centro, type=\"b\", main=\"Ventas mensuales\", sub=\"Región Centro\",\n",
    "     xlab=\"meses\", ylab=\"monto\", col=\"red\")\n",
    "points(c(2004, 2006), c(1500, 1600), col = \"yellow\")\n",
    "lines(c(2001,2012), c(1100, 2000), col=\"#168253\")\n",
    "abline(h = c(2000,2100,2200), col = \"gray60\", lty=3)\n",
    "abline(v = c(2001,2006,2010), col = \"gray60\", lty=3)\n",
    "legend(\"top\", inset=0.02, title=\"Ventas\", c(\"Centro\", \"Puntos\"),\n",
    "       pch=c(1, 4), col=c(\"red\", \"yellow\"))\n",
    "par(opar)"
   ]
  },
  {
   "cell_type": "markdown",
   "metadata": {},
   "source": [
    "## Especificaciones de los ejes con ```axis()```."
   ]
  },
  {
   "cell_type": "code",
   "execution_count": null,
   "metadata": {},
   "outputs": [],
   "source": [
    "?axis"
   ]
  },
  {
   "cell_type": "code",
   "execution_count": null,
   "metadata": {},
   "outputs": [],
   "source": [
    "opar <- par(no.readonly=TRUE)\n",
    "par(lty=2, pch=12, col=\"blue\")\n",
    "plot(meses, ventas_centro, type=\"b\", main=\"Ventas mensuales\", sub=\"Región Centro\",\n",
    "     xlab=\"meses\", ylab=\"monto\", col=\"red\")\n",
    "points(c(2004, 2006), c(1500, 1600), col = \"yellow\")\n",
    "lines(c(2001,2012), c(1100, 2000), col=\"#168253\")\n",
    "abline(h = c(2000,2100,2200), col = \"gray60\", lty=3)\n",
    "abline(v = c(2001,2006,2010), col = \"gray60\", lty=3)\n",
    "legend(\"top\", inset=0.02, title=\"Ventas\", c(\"Centro\", \"Puntos\"),\n",
    "       pch=c(1, 4), col=c(\"red\", \"yellow\"))\n",
    "axis(side=1, pos=c(1800))\n",
    "axis(side=2)\n",
    "par(opar)"
   ]
  },
  {
   "cell_type": "markdown",
   "metadata": {},
   "source": [
    "## Gráficas múltipes."
   ]
  },
  {
   "cell_type": "code",
   "execution_count": null,
   "metadata": {},
   "outputs": [],
   "source": [
    "ventas_sur <- c(959, 1002, 1150, 983, 1211, 1101, 987, 1043, 1191, 1202, 1241, 1332)"
   ]
  },
  {
   "cell_type": "code",
   "execution_count": null,
   "metadata": {},
   "outputs": [],
   "source": [
    "opar <- par(no.readonly=TRUE)\n",
    "par(lty=2, pch=12, col=\"blue\")\n",
    "plot(meses, ventas_centro, type=\"b\", main=\"Ventas mensuales\", sub=\"Región Centro\",\n",
    "     xlab=\"meses\", ylab=\"monto\", col=\"red\")\n",
    "plot(meses, ventas_sur, type=\"b\", main=\"Ventas mensuales\", sub=\"Región Sur\",\n",
    "     xlab=\"meses\", ylab=\"monto\", col=\"blue\")\n",
    "par(opar)"
   ]
  },
  {
   "cell_type": "markdown",
   "metadata": {},
   "source": [
    "### El atributo ```mfrow```."
   ]
  },
  {
   "cell_type": "code",
   "execution_count": null,
   "metadata": {
    "scrolled": false
   },
   "outputs": [],
   "source": [
    "opar <- par(no.readonly=TRUE)\n",
    "par(lty=2, pch=12, col=\"blue\", mfrow=c(3,2))\n",
    "plot(meses, ventas_centro, type=\"b\", main=\"Ventas mensuales\", sub=\"Región Centro\",\n",
    "     xlab=\"meses\", ylab=\"monto\", col=\"red\")\n",
    "plot(meses, ventas_sur, type=\"b\", main=\"Ventas mensuales\", sub=\"Región Sur\",\n",
    "     xlab=\"meses\", ylab=\"monto\", col=\"blue\")\n",
    "plot(meses, ventas_centro, type=\"b\", main=\"Ventas mensuales\", sub=\"Región Centro\",\n",
    "     xlab=\"meses\", ylab=\"monto\", col=\"red\")\n",
    "plot(meses, ventas_sur, type=\"b\", main=\"Ventas mensuales\", sub=\"Región Sur\",\n",
    "     xlab=\"meses\", ylab=\"monto\", col=\"blue\")\n",
    "plot(meses, ventas_centro, type=\"b\", main=\"Ventas mensuales\", sub=\"Región Centro\",\n",
    "     xlab=\"meses\", ylab=\"monto\", col=\"red\")\n",
    "plot(meses, ventas_sur, type=\"b\", main=\"Ventas mensuales\", sub=\"Región Sur\",\n",
    "     xlab=\"meses\", ylab=\"monto\", col=\"blue\")\n",
    "par(opar)"
   ]
  },
  {
   "cell_type": "markdown",
   "metadata": {},
   "source": [
    "## Guardado de una imagen."
   ]
  },
  {
   "cell_type": "code",
   "execution_count": null,
   "metadata": {},
   "outputs": [],
   "source": [
    "?png"
   ]
  },
  {
   "cell_type": "code",
   "execution_count": null,
   "metadata": {},
   "outputs": [],
   "source": [
    "png(file = \"imagen.png\", bg = \"transparent\")\n",
    "opar <- par(no.readonly=TRUE)\n",
    "par(lty=2, pch=12, col=\"blue\", mfrow=c(1,2))\n",
    "plot(meses, ventas_centro, type=\"b\", main=\"Ventas mensuales\", sub=\"Región Centro\",\n",
    "     xlab=\"meses\", ylab=\"monto\", col=\"red\")\n",
    "plot(meses, ventas_sur, type=\"b\", main=\"Ventas mensuales\", sub=\"Región Sur\",\n",
    "     xlab=\"meses\", ylab=\"monto\", col=\"blue\")\n",
    "par(opar)\n",
    "dev.off()"
   ]
  },
  {
   "cell_type": "markdown",
   "metadata": {},
   "source": [
    "<p style=\"text-align: center\"><a rel=\"license\" href=\"http://creativecommons.org/licenses/by/4.0/\"><img alt=\"Licencia Creative Commons\" style=\"border-width:0\" src=\"https://i.creativecommons.org/l/by/4.0/80x15.png\" /></a><br />Esta obra está bajo una <a rel=\"license\" href=\"http://creativecommons.org/licenses/by/4.0/\">Licencia Creative Commons Atribución 4.0 Internacional</a>.</p>\n",
    "<p style=\"text-align: center\">&copy; José Luis Chiquete Valdivieso. 2020.</p>"
   ]
  }
 ],
 "metadata": {
  "kernelspec": {
   "display_name": "R",
   "language": "R",
   "name": "ir"
  },
  "language_info": {
   "codemirror_mode": "r",
   "file_extension": ".r",
   "mimetype": "text/x-r-source",
   "name": "R",
   "pygments_lexer": "r",
   "version": "3.6.3"
  }
 },
 "nbformat": 4,
 "nbformat_minor": 2
}
