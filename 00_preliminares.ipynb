{
 "cells": [
  {
   "cell_type": "markdown",
   "metadata": {},
   "source": [
    "# Taller en línea \"Market Basket análisis con R (Curso de Ciencia de Datos)\".\n",
    "\n",
    "## Instructor:\n",
    "\n",
    "Ing. José Luis Chiquete Valdivieso\n",
    "https://www.linkedin.com/in/josech/\n",
    "contacto@pythonista.io\n",
    "\n",
    "## Duración y horarios.\n",
    "\n",
    "* Lunes 11 a viernes 15 de enero de 2021.\n",
    "* Horario: 9:00 a 15:00 horas.\n",
    "* Receso: 11:00 a 12:00 horas.\n",
    "\n",
    "## Temario.\n",
    "\n",
    "* Instalación y configuración del entorno\n",
    "* Conceptos básicos de aprendizaje estadístico y Machine Learning\n",
    "* Introducción a R\n",
    "* Visualización de datos\n",
    "* Herramientas estadísticas básicas\n",
    "* Clasificación mediante “Nearest neighbors”\n",
    "* Clasificación mediante “Naive Bayes”\n",
    "* Árboles de decisión\n",
    "* Métodos de regresión\n",
    "* Redes neuronales y “Support Network Machines”\n",
    "* Patrones con “Market Basket Analysis”\n",
    "\n",
    "## Herramientas de software.\n",
    "\n",
    "Es necesario que el asistente haya descargado e instalado los siguientes paquetes de software.\n",
    "\n",
    "* Anaconda a 64 bits para Python 3.8.\n",
    "    * https://www.anaconda.com/products/individual#Downloads\n",
    "* Git.\n",
    "    * https://git-scm.com/\n",
    "\n",
    "## Repositorios.\n",
    "\n",
    "Los apuntes, código y archivos del curso están disponibles en https://github.com/PythonistaMX/pyr105/\n",
    "\n",
    "\n",
    "## Videos del curso.\n",
    "\n",
    "Las sesiones serán grabadas y subidas a  https://vimeo.com/showcase/7987931\n"
   ]
  },
  {
   "cell_type": "markdown",
   "metadata": {},
   "source": [
    "<p style=\"text-align: center\"><a rel=\"license\" href=\"http://creativecommons.org/licenses/by/4.0/\"><img alt=\"Licencia Creative Commons\" style=\"border-width:0\" src=\"https://i.creativecommons.org/l/by/4.0/80x15.png\" /></a><br />Esta obra está bajo una <a rel=\"license\" href=\"http://creativecommons.org/licenses/by/4.0/\">Licencia Creative Commons Atribución 4.0 Internacional</a>.</p>\n",
    "<p style=\"text-align: center\">&copy; José Luis Chiquete Valdivieso. 2020.</p>"
   ]
  }
 ],
 "metadata": {
  "kernelspec": {
   "display_name": "R",
   "language": "R",
   "name": "ir"
  },
  "language_info": {
   "codemirror_mode": "r",
   "file_extension": ".r",
   "mimetype": "text/x-r-source",
   "name": "R",
   "pygments_lexer": "r",
   "version": "3.6.3"
  }
 },
 "nbformat": 4,
 "nbformat_minor": 2
}
