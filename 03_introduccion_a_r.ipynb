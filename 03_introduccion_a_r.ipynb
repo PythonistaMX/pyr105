{
 "cells": [
  {
   "cell_type": "markdown",
   "metadata": {},
   "source": [
    "<a href=\"https://www.pythonista.io\"> <img src=\"img/pythonista.png\"></a>"
   ]
  },
  {
   "cell_type": "markdown",
   "metadata": {},
   "source": [
    "# Introducción a *R*."
   ]
  },
  {
   "cell_type": "markdown",
   "metadata": {},
   "source": [
    "*R* es un lenguaje de programación de dominio, es decir que fue diseñado para un objetivo específico, de tal forma que aún cuando *R* puede correr cualquier algoritmo, es más eficiente para operaciones específicas."
   ]
  },
  {
   "cell_type": "markdown",
   "metadata": {},
   "source": [
    "## Computabilidad y algoritmos.\n",
    "\n",
    "El cómputo moderno está basado en la [*Tesis Church-Turing*](https://es.wikipedia.org/wiki/Tesis_de_Church-Turing), la cual delimita los alcances del cómputo, indicando que existen problemas que no pueden ser resueltos mediante el cálculo. Sin embargo, muchos otros pueden ser resueltos mediante una sucesión pasos lógicos ([algoritmos](https://es.wikipedia.org/wiki/Algoritmo)).\n",
    "\n",
    "Se dice que un lenguage de programación es [\"Turing Completo\"](https://es.wikipedia.org/wiki/Turing_completo) si es capaz de ejecutar cualquier algoritmo que pueda ejecutarse en otro lenguaje. "
   ]
  },
  {
   "cell_type": "markdown",
   "metadata": {},
   "source": [
    "## Sobre la Inteligencia Artificial.\n",
    "\n",
    "Muchos investigadores e ingenieros han tratado de superar la barrera de la computabilidad mediante técnicas alternas a un algoritmo lógico que permita emular:\n",
    "\n",
    "* Aprendizaje.\n",
    "* Razonamiento.\n",
    "* Representación del conocimiento.\n",
    "* Planeación.\n",
    "* Procesamiento de lenguaje natural.\n",
    "* Percepción.\n",
    "* La capacidad de manipular objetos.\n",
    "\n",
    "A este campo de investigación se le conoce como [inteligencia artificial](https://es.wikipedia.org/wiki/Inteligencia_artificial).\n"
   ]
  },
  {
   "cell_type": "markdown",
   "metadata": {},
   "source": [
    "## El lenguaje de programación *R*.\n",
    "\n",
    "*R* es un lenguaje interpetado, capaz de soportar múltiples paradigmas y además cuenta con una plataforma especializada en la extracción, procesamiento, análisis y visualización de datos. Fue creado por Robert Gentleman y Ross Ihaka tomando como base a los lenguaje *S* y [*Scheme*](https://es.wikipedia.org/wiki/Scheme).\n",
    "\n",
    "Actualmente el desarrollo de *R* es dirigido por el *R Core Group\"*."
   ]
  },
  {
   "cell_type": "code",
   "execution_count": null,
   "metadata": {},
   "outputs": [],
   "source": [
    "contributors()"
   ]
  },
  {
   "cell_type": "markdown",
   "metadata": {},
   "source": [
    "*R* es un lenguaje \"multiparadigma\" especializado en el análisis de datos."
   ]
  },
  {
   "cell_type": "markdown",
   "metadata": {},
   "source": [
    "## Expresiones.\n",
    "\n",
    "Uan expresión es una línea de código que contiene variables, valores, funciones y operadores, ordenados de tal forma que al ser ejecutada, el intérprete realice una operación y regrese un resultado."
   ]
  },
  {
   "cell_type": "markdown",
   "metadata": {},
   "source": [
    "**Ejemplos:**"
   ]
  },
  {
   "cell_type": "code",
   "execution_count": null,
   "metadata": {},
   "outputs": [],
   "source": [
    "9 ^ 0.5"
   ]
  },
  {
   "cell_type": "code",
   "execution_count": null,
   "metadata": {},
   "outputs": [],
   "source": [
    "(-1)^0.5"
   ]
  },
  {
   "cell_type": "code",
   "execution_count": null,
   "metadata": {},
   "outputs": [],
   "source": [
    "(-1 + 0i)^0.5"
   ]
  },
  {
   "cell_type": "code",
   "execution_count": null,
   "metadata": {},
   "outputs": [],
   "source": [
    "print (\"Hola\")"
   ]
  },
  {
   "cell_type": "code",
   "execution_count": null,
   "metadata": {},
   "outputs": [],
   "source": [
    "log(2.71828)"
   ]
  },
  {
   "cell_type": "code",
   "execution_count": null,
   "metadata": {},
   "outputs": [],
   "source": [
    "log10(10)"
   ]
  },
  {
   "cell_type": "code",
   "execution_count": null,
   "metadata": {},
   "outputs": [],
   "source": [
    "tan(3.141593657)"
   ]
  },
  {
   "cell_type": "code",
   "execution_count": null,
   "metadata": {},
   "outputs": [],
   "source": [
    "tan(3.1415936571/2)"
   ]
  },
  {
   "cell_type": "code",
   "execution_count": null,
   "metadata": {},
   "outputs": [],
   "source": [
    "pi <- 3.14159265"
   ]
  },
  {
   "cell_type": "code",
   "execution_count": null,
   "metadata": {},
   "outputs": [],
   "source": [
    "pi"
   ]
  },
  {
   "cell_type": "code",
   "execution_count": null,
   "metadata": {},
   "outputs": [],
   "source": [
    "tan(c(0, pi/2, pi))"
   ]
  },
  {
   "cell_type": "code",
   "execution_count": null,
   "metadata": {},
   "outputs": [],
   "source": [
    "if (TRUE) 12"
   ]
  },
  {
   "cell_type": "markdown",
   "metadata": {},
   "source": [
    "## Variables.\n",
    "\n",
    "Una variable permite ligar un valor a un nombre mediante un operador de asignación.\n",
    "\n",
    "Los operadores de asignación usan la siguiente sintaxis:\n",
    "\n",
    "* ```<variable> <- <valor>```\n",
    "* ```<valor> -> <variable>```\n",
    "* ```<valor> = <variable>```"
   ]
  },
  {
   "cell_type": "markdown",
   "metadata": {},
   "source": [
    "**Ejemplos:**"
   ]
  },
  {
   "cell_type": "code",
   "execution_count": null,
   "metadata": {},
   "outputs": [],
   "source": [
    "x = 123"
   ]
  },
  {
   "cell_type": "code",
   "execution_count": null,
   "metadata": {},
   "outputs": [],
   "source": [
    "x"
   ]
  },
  {
   "cell_type": "code",
   "execution_count": null,
   "metadata": {},
   "outputs": [],
   "source": [
    "x - 2"
   ]
  },
  {
   "cell_type": "code",
   "execution_count": null,
   "metadata": {},
   "outputs": [],
   "source": [
    "4 + x -> y"
   ]
  },
  {
   "cell_type": "code",
   "execution_count": null,
   "metadata": {},
   "outputs": [],
   "source": [
    "y"
   ]
  },
  {
   "cell_type": "code",
   "execution_count": null,
   "metadata": {},
   "outputs": [],
   "source": [
    "z <- x / y"
   ]
  },
  {
   "cell_type": "code",
   "execution_count": null,
   "metadata": {},
   "outputs": [],
   "source": [
    "z"
   ]
  },
  {
   "cell_type": "markdown",
   "metadata": {},
   "source": [
    "## Vectores.\n",
    "\n",
    "A diferencia de otros lenguajes de programación, *R* fue diseñado a partir del uso de [*vectores*](https://es.wikipedia.org/wiki/Vector) como componete básico. Un vector es una colección ordenada de valores y el objeto más simple de *R* es un vector que tienen un sólo vector.\n",
    "\n",
    "Para un vector de un elemento se usa una sintaxis simplificada:\n",
    "\n",
    "```\n",
    "<valor>\n",
    "```\n",
    "\n",
    "Para un vector de más de un elemento se utiliza la sintaxis:\n",
    "\n",
    "```\n",
    "c(<valor 1>, <valor 2>, ... <valor n>) \n",
    "```"
   ]
  },
  {
   "cell_type": "markdown",
   "metadata": {},
   "source": [
    "**Ejemplos**"
   ]
  },
  {
   "cell_type": "code",
   "execution_count": null,
   "metadata": {
    "scrolled": true
   },
   "outputs": [],
   "source": [
    "\"Hola\""
   ]
  },
  {
   "cell_type": "code",
   "execution_count": null,
   "metadata": {},
   "outputs": [],
   "source": [
    "vector = c(1, FALSE, \"hola\", 45, 12.4)"
   ]
  },
  {
   "cell_type": "code",
   "execution_count": null,
   "metadata": {
    "scrolled": true
   },
   "outputs": [],
   "source": [
    "vector"
   ]
  },
  {
   "cell_type": "markdown",
   "metadata": {},
   "source": [
    "### Índices de los elementos de un vector.\n",
    "\n",
    "A cad elemento de un vector se le asigna un índice nunmérico equivalente a un  número entero que empieza con ```1``` y que va creciendo unitariamente hacia la derecha.\n",
    "\n",
    "Para acceder a un elemento de un vector se utiliza la siguiente sintaxis:\n",
    "\n",
    "```\n",
    "<vector>[<índice>]\n",
    "```\n",
    "\n",
    "\n",
    "También es posible acceder a un rango de elementos usando la siguiente sintaxis.\n",
    "\n",
    "```\n",
    "<vector>[<m>:<n>]\n",
    "```\n",
    "\n",
    "Incluso es posible acceder a varios índices usando un vector.\n",
    "\n",
    "```\n",
    "<vector>[c(<índice 1>, <índice 2>, ... <índice n>]\n",
    "```"
   ]
  },
  {
   "cell_type": "markdown",
   "metadata": {},
   "source": [
    "**Ejemplos:**"
   ]
  },
  {
   "cell_type": "code",
   "execution_count": null,
   "metadata": {},
   "outputs": [],
   "source": [
    "vector[1]"
   ]
  },
  {
   "cell_type": "code",
   "execution_count": null,
   "metadata": {},
   "outputs": [],
   "source": [
    "vector[c(3, 1, 1, 2)]"
   ]
  },
  {
   "cell_type": "code",
   "execution_count": null,
   "metadata": {},
   "outputs": [],
   "source": [
    "vector[2:4]"
   ]
  },
  {
   "cell_type": "code",
   "execution_count": null,
   "metadata": {
    "scrolled": true
   },
   "outputs": [],
   "source": [
    "vector[1:3:1]"
   ]
  },
  {
   "cell_type": "markdown",
   "metadata": {},
   "source": [
    "## Tipos de datos básicos.\n",
    "\n",
    "Los vectores pueden contener una colección ordenada de valores de 6 tipos\n",
    "\n",
    "\n",
    "* Numéricos.\n",
    "* Enteros.\n",
    "* Complejos.\n",
    "* Lógicos."
   ]
  },
  {
   "cell_type": "markdown",
   "metadata": {},
   "source": [
    "### Numéricos."
   ]
  },
  {
   "cell_type": "code",
   "execution_count": null,
   "metadata": {},
   "outputs": [],
   "source": [
    "12"
   ]
  },
  {
   "cell_type": "code",
   "execution_count": null,
   "metadata": {},
   "outputs": [],
   "source": [
    "-13.4"
   ]
  },
  {
   "cell_type": "markdown",
   "metadata": {},
   "source": [
    "### Enteros.\n",
    "\n",
    "```\n",
    "<valor>L\n",
    "```"
   ]
  },
  {
   "cell_type": "code",
   "execution_count": null,
   "metadata": {},
   "outputs": [],
   "source": [
    "223522535235436L"
   ]
  },
  {
   "cell_type": "code",
   "execution_count": null,
   "metadata": {},
   "outputs": [],
   "source": [
    "-1L"
   ]
  },
  {
   "cell_type": "markdown",
   "metadata": {},
   "source": [
    "### Complejos.\n",
    "\n",
    "Los núnmeros complejos tiene un componente real y uno imaginario.\n",
    "\n",
    "```\n",
    "<real>+<imaginario>i\n",
    "<real>+<imaginario>i\n",
    "```\n",
    "\n"
   ]
  },
  {
   "cell_type": "markdown",
   "metadata": {},
   "source": [
    "**Ejemplos:**"
   ]
  },
  {
   "cell_type": "code",
   "execution_count": null,
   "metadata": {},
   "outputs": [],
   "source": [
    "0+1i"
   ]
  },
  {
   "cell_type": "code",
   "execution_count": null,
   "metadata": {},
   "outputs": [],
   "source": [
    "class(1.3-6.5i)"
   ]
  },
  {
   "cell_type": "markdown",
   "metadata": {},
   "source": [
    "### Lógicos o booleanos.\n",
    "\n",
    "```TRUE``` ```FALSE```"
   ]
  },
  {
   "cell_type": "code",
   "execution_count": null,
   "metadata": {},
   "outputs": [],
   "source": [
    "class(TRUE)"
   ]
  },
  {
   "cell_type": "code",
   "execution_count": null,
   "metadata": {},
   "outputs": [],
   "source": [
    "class(FALSE)"
   ]
  },
  {
   "cell_type": "markdown",
   "metadata": {},
   "source": [
    "### Caracteres."
   ]
  },
  {
   "cell_type": "code",
   "execution_count": null,
   "metadata": {},
   "outputs": [],
   "source": [
    "'Hola, mundo.'"
   ]
  },
  {
   "cell_type": "code",
   "execution_count": null,
   "metadata": {},
   "outputs": [],
   "source": [
    "\"\""
   ]
  },
  {
   "cell_type": "code",
   "execution_count": null,
   "metadata": {},
   "outputs": [],
   "source": [
    "'12'"
   ]
  },
  {
   "cell_type": "markdown",
   "metadata": {},
   "source": [
    "### Raw."
   ]
  },
  {
   "cell_type": "code",
   "execution_count": null,
   "metadata": {},
   "outputs": [],
   "source": [
    "charToRaw(\"Hola\")"
   ]
  },
  {
   "cell_type": "markdown",
   "metadata": {},
   "source": [
    "## Operadores.\n",
    "\n",
    "Los operadores de *R* permiten realizar operaciones entre cada elemento de un vector de forma distribuída. Si el tamaño de los vectores no es idéntico, *R* lanzará una dvertencia e intentará distribuir la operación de forma redundante."
   ]
  },
  {
   "cell_type": "markdown",
   "metadata": {},
   "source": [
    "### Operadores aritméticos.\n",
    "\n",
    "\n",
    "|Operador|Operación|\n",
    "|:----:|:----:|\n",
    "|```+```|Suma|\n",
    "|```-```|Resta|\n",
    "|```*```|Multiplicación|\n",
    "|```/```|División|\n",
    "|```%%```|Residuo|\n",
    "|```%/%```|Cociente|\n",
    "|```^```|Potencia|\n"
   ]
  },
  {
   "cell_type": "markdown",
   "metadata": {},
   "source": [
    "**Ejemplos:**"
   ]
  },
  {
   "cell_type": "code",
   "execution_count": null,
   "metadata": {},
   "outputs": [],
   "source": [
    "9 ** -0.5"
   ]
  },
  {
   "cell_type": "code",
   "execution_count": null,
   "metadata": {},
   "outputs": [],
   "source": [
    "c(1,2,3) * 2"
   ]
  },
  {
   "cell_type": "code",
   "execution_count": null,
   "metadata": {},
   "outputs": [],
   "source": [
    "c(1,2,3) + c(-3,-2,-1)"
   ]
  },
  {
   "cell_type": "code",
   "execution_count": null,
   "metadata": {},
   "outputs": [],
   "source": [
    "c(1,2,3,4,5) / c(2,3)"
   ]
  },
  {
   "cell_type": "code",
   "execution_count": null,
   "metadata": {},
   "outputs": [],
   "source": [
    "c(1,2,3,4) / c(2,3)"
   ]
  },
  {
   "cell_type": "markdown",
   "metadata": {},
   "source": [
    "### Operadores relacionales.\n",
    "\n",
    "\n",
    "|Operador|Operación|\n",
    "|:----:|:----:|\n",
    "|```>```|Mayor que|\n",
    "|```<```|Menor que|\n",
    "|```==```|Igual que|\n",
    "|```>=```|Mayor o igual que|\n",
    "|```<=```|Menor o igual que|\n",
    "|```!=```|Disnto a|"
   ]
  },
  {
   "cell_type": "markdown",
   "metadata": {},
   "source": [
    "**Ejemplos:**"
   ]
  },
  {
   "cell_type": "code",
   "execution_count": null,
   "metadata": {},
   "outputs": [],
   "source": [
    "12 > 3"
   ]
  },
  {
   "cell_type": "code",
   "execution_count": null,
   "metadata": {},
   "outputs": [],
   "source": [
    "FALSE < 12.3"
   ]
  },
  {
   "cell_type": "code",
   "execution_count": null,
   "metadata": {},
   "outputs": [],
   "source": [
    "TRUE > FALSE"
   ]
  },
  {
   "cell_type": "code",
   "execution_count": null,
   "metadata": {},
   "outputs": [],
   "source": [
    "\"Hola\" == \"hola\""
   ]
  },
  {
   "cell_type": "code",
   "execution_count": null,
   "metadata": {},
   "outputs": [],
   "source": [
    "c(11, TRUE, \"Hola\") == 11"
   ]
  },
  {
   "cell_type": "markdown",
   "metadata": {},
   "source": [
    "### Operadores lógicos.\n",
    "\n",
    "|Operador|Operación|\n",
    "|:----:|:----:|\n",
    "|```&```|AND|\n",
    "|```\\|```|OR|\n",
    "|```!```|NOT|\n",
    "|```&&```|AND para el primer elemento de un vector|\n",
    "|```\\|\\```|OR para el primer elemento de un vector|"
   ]
  },
  {
   "cell_type": "code",
   "execution_count": null,
   "metadata": {},
   "outputs": [],
   "source": [
    "TRUE | FALSE"
   ]
  },
  {
   "cell_type": "code",
   "execution_count": null,
   "metadata": {},
   "outputs": [],
   "source": [
    "12 | FALSE"
   ]
  },
  {
   "cell_type": "code",
   "execution_count": null,
   "metadata": {},
   "outputs": [],
   "source": [
    "12 & 3"
   ]
  },
  {
   "cell_type": "code",
   "execution_count": null,
   "metadata": {},
   "outputs": [],
   "source": [
    "0 & 0"
   ]
  },
  {
   "cell_type": "markdown",
   "metadata": {},
   "source": [
    "### Operador de secuencia.\n",
    "\n",
    "```\n",
    "m:n\n",
    "```"
   ]
  },
  {
   "cell_type": "markdown",
   "metadata": {},
   "source": [
    "**Ejemplos:**"
   ]
  },
  {
   "cell_type": "code",
   "execution_count": null,
   "metadata": {},
   "outputs": [],
   "source": [
    "1:3"
   ]
  },
  {
   "cell_type": "code",
   "execution_count": null,
   "metadata": {},
   "outputs": [],
   "source": [
    "2:5"
   ]
  },
  {
   "cell_type": "code",
   "execution_count": null,
   "metadata": {},
   "outputs": [],
   "source": [
    "-1:10"
   ]
  },
  {
   "cell_type": "code",
   "execution_count": null,
   "metadata": {},
   "outputs": [],
   "source": [
    "-1:-7"
   ]
  },
  {
   "cell_type": "markdown",
   "metadata": {},
   "source": [
    "## Operador de pertenencia.\n",
    "\n",
    "```\n",
    "<valor> %in% <vector>\n",
    "```"
   ]
  },
  {
   "cell_type": "markdown",
   "metadata": {},
   "source": [
    "**Ejemplos**"
   ]
  },
  {
   "cell_type": "code",
   "execution_count": null,
   "metadata": {},
   "outputs": [],
   "source": [
    "12 %in% c(1,2,3,4,5)"
   ]
  },
  {
   "cell_type": "code",
   "execution_count": null,
   "metadata": {},
   "outputs": [],
   "source": [
    "2 %in% c(1,2,3,4,5)"
   ]
  },
  {
   "cell_type": "markdown",
   "metadata": {},
   "source": [
    "<p style=\"text-align: center\"><a rel=\"license\" href=\"http://creativecommons.org/licenses/by/4.0/\"><img alt=\"Licencia Creative Commons\" style=\"border-width:0\" src=\"https://i.creativecommons.org/l/by/4.0/80x15.png\" /></a><br />Esta obra está bajo una <a rel=\"license\" href=\"http://creativecommons.org/licenses/by/4.0/\">Licencia Creative Commons Atribución 4.0 Internacional</a>.</p>\n",
    "<p style=\"text-align: center\">&copy; José Luis Chiquete Valdivieso. 2020.</p>"
   ]
  }
 ],
 "metadata": {
  "kernelspec": {
   "display_name": "R",
   "language": "R",
   "name": "ir"
  },
  "language_info": {
   "codemirror_mode": "r",
   "file_extension": ".r",
   "mimetype": "text/x-r-source",
   "name": "R",
   "pygments_lexer": "r",
   "version": "3.6.3"
  }
 },
 "nbformat": 4,
 "nbformat_minor": 2
}
