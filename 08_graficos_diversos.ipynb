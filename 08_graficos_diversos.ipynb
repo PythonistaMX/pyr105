{
 "cells": [
  {
   "cell_type": "markdown",
   "metadata": {},
   "source": [
    "# Gráficos diversos."
   ]
  },
  {
   "cell_type": "markdown",
   "metadata": {},
   "source": [
    "## Gráfica de barras con ```barplot()```.\n",
    "\n",
    "https://www.rdocumentation.org/packages/vcd/versions/1.4-8"
   ]
  },
  {
   "cell_type": "code",
   "execution_count": 1,
   "metadata": {},
   "outputs": [
    {
     "name": "stderr",
     "output_type": "stream",
     "text": [
      "Installing package into ‘/home/josech/R/x86_64-pc-linux-gnu-library/3.6’\n",
      "(as ‘lib’ is unspecified)\n",
      "\n"
     ]
    }
   ],
   "source": [
    "install.packages(\"vcd\")"
   ]
  },
  {
   "cell_type": "code",
   "execution_count": 2,
   "metadata": {},
   "outputs": [
    {
     "name": "stderr",
     "output_type": "stream",
     "text": [
      "Loading required package: grid\n",
      "\n"
     ]
    }
   ],
   "source": [
    "library(vcd)"
   ]
  },
  {
   "cell_type": "code",
   "execution_count": 3,
   "metadata": {
    "scrolled": true
   },
   "outputs": [
    {
     "data": {
      "text/html": [
       "<table>\n",
       "<caption>A data.frame: 84 × 5</caption>\n",
       "<thead>\n",
       "\t<tr><th></th><th scope=col>ID</th><th scope=col>Treatment</th><th scope=col>Sex</th><th scope=col>Age</th><th scope=col>Improved</th></tr>\n",
       "\t<tr><th></th><th scope=col>&lt;int&gt;</th><th scope=col>&lt;fct&gt;</th><th scope=col>&lt;fct&gt;</th><th scope=col>&lt;int&gt;</th><th scope=col>&lt;ord&gt;</th></tr>\n",
       "</thead>\n",
       "<tbody>\n",
       "\t<tr><th scope=row>1</th><td>57</td><td>Treated</td><td>Male  </td><td>27</td><td>Some  </td></tr>\n",
       "\t<tr><th scope=row>2</th><td>46</td><td>Treated</td><td>Male  </td><td>29</td><td>None  </td></tr>\n",
       "\t<tr><th scope=row>3</th><td>77</td><td>Treated</td><td>Male  </td><td>30</td><td>None  </td></tr>\n",
       "\t<tr><th scope=row>4</th><td>17</td><td>Treated</td><td>Male  </td><td>32</td><td>Marked</td></tr>\n",
       "\t<tr><th scope=row>5</th><td>36</td><td>Treated</td><td>Male  </td><td>46</td><td>Marked</td></tr>\n",
       "\t<tr><th scope=row>6</th><td>23</td><td>Treated</td><td>Male  </td><td>58</td><td>Marked</td></tr>\n",
       "\t<tr><th scope=row>7</th><td>75</td><td>Treated</td><td>Male  </td><td>59</td><td>None  </td></tr>\n",
       "\t<tr><th scope=row>8</th><td>39</td><td>Treated</td><td>Male  </td><td>59</td><td>Marked</td></tr>\n",
       "\t<tr><th scope=row>9</th><td>33</td><td>Treated</td><td>Male  </td><td>63</td><td>None  </td></tr>\n",
       "\t<tr><th scope=row>10</th><td>55</td><td>Treated</td><td>Male  </td><td>63</td><td>None  </td></tr>\n",
       "\t<tr><th scope=row>11</th><td>30</td><td>Treated</td><td>Male  </td><td>64</td><td>None  </td></tr>\n",
       "\t<tr><th scope=row>12</th><td> 5</td><td>Treated</td><td>Male  </td><td>64</td><td>Some  </td></tr>\n",
       "\t<tr><th scope=row>13</th><td>63</td><td>Treated</td><td>Male  </td><td>69</td><td>None  </td></tr>\n",
       "\t<tr><th scope=row>14</th><td>83</td><td>Treated</td><td>Male  </td><td>70</td><td>Marked</td></tr>\n",
       "\t<tr><th scope=row>15</th><td>66</td><td>Treated</td><td>Female</td><td>23</td><td>None  </td></tr>\n",
       "\t<tr><th scope=row>16</th><td>40</td><td>Treated</td><td>Female</td><td>32</td><td>None  </td></tr>\n",
       "\t<tr><th scope=row>17</th><td> 6</td><td>Treated</td><td>Female</td><td>37</td><td>Some  </td></tr>\n",
       "\t<tr><th scope=row>18</th><td> 7</td><td>Treated</td><td>Female</td><td>41</td><td>None  </td></tr>\n",
       "\t<tr><th scope=row>19</th><td>72</td><td>Treated</td><td>Female</td><td>41</td><td>Marked</td></tr>\n",
       "\t<tr><th scope=row>20</th><td>37</td><td>Treated</td><td>Female</td><td>48</td><td>None  </td></tr>\n",
       "\t<tr><th scope=row>21</th><td>82</td><td>Treated</td><td>Female</td><td>48</td><td>Marked</td></tr>\n",
       "\t<tr><th scope=row>22</th><td>53</td><td>Treated</td><td>Female</td><td>55</td><td>Marked</td></tr>\n",
       "\t<tr><th scope=row>23</th><td>79</td><td>Treated</td><td>Female</td><td>55</td><td>Marked</td></tr>\n",
       "\t<tr><th scope=row>24</th><td>26</td><td>Treated</td><td>Female</td><td>56</td><td>Marked</td></tr>\n",
       "\t<tr><th scope=row>25</th><td>28</td><td>Treated</td><td>Female</td><td>57</td><td>Marked</td></tr>\n",
       "\t<tr><th scope=row>26</th><td>60</td><td>Treated</td><td>Female</td><td>57</td><td>Marked</td></tr>\n",
       "\t<tr><th scope=row>27</th><td>22</td><td>Treated</td><td>Female</td><td>57</td><td>Marked</td></tr>\n",
       "\t<tr><th scope=row>28</th><td>27</td><td>Treated</td><td>Female</td><td>58</td><td>None  </td></tr>\n",
       "\t<tr><th scope=row>29</th><td> 2</td><td>Treated</td><td>Female</td><td>59</td><td>Marked</td></tr>\n",
       "\t<tr><th scope=row>30</th><td>59</td><td>Treated</td><td>Female</td><td>59</td><td>Marked</td></tr>\n",
       "\t<tr><th scope=row>⋮</th><td>⋮</td><td>⋮</td><td>⋮</td><td>⋮</td><td>⋮</td></tr>\n",
       "\t<tr><th scope=row>55</th><td>29</td><td>Placebo</td><td>Female</td><td>30</td><td>None  </td></tr>\n",
       "\t<tr><th scope=row>56</th><td>50</td><td>Placebo</td><td>Female</td><td>31</td><td>Some  </td></tr>\n",
       "\t<tr><th scope=row>57</th><td>38</td><td>Placebo</td><td>Female</td><td>32</td><td>None  </td></tr>\n",
       "\t<tr><th scope=row>58</th><td>35</td><td>Placebo</td><td>Female</td><td>33</td><td>Marked</td></tr>\n",
       "\t<tr><th scope=row>59</th><td>51</td><td>Placebo</td><td>Female</td><td>37</td><td>None  </td></tr>\n",
       "\t<tr><th scope=row>60</th><td>54</td><td>Placebo</td><td>Female</td><td>44</td><td>None  </td></tr>\n",
       "\t<tr><th scope=row>61</th><td>76</td><td>Placebo</td><td>Female</td><td>45</td><td>None  </td></tr>\n",
       "\t<tr><th scope=row>62</th><td>16</td><td>Placebo</td><td>Female</td><td>46</td><td>None  </td></tr>\n",
       "\t<tr><th scope=row>63</th><td>69</td><td>Placebo</td><td>Female</td><td>48</td><td>None  </td></tr>\n",
       "\t<tr><th scope=row>64</th><td>31</td><td>Placebo</td><td>Female</td><td>49</td><td>None  </td></tr>\n",
       "\t<tr><th scope=row>65</th><td>20</td><td>Placebo</td><td>Female</td><td>51</td><td>None  </td></tr>\n",
       "\t<tr><th scope=row>66</th><td>68</td><td>Placebo</td><td>Female</td><td>53</td><td>None  </td></tr>\n",
       "\t<tr><th scope=row>67</th><td>81</td><td>Placebo</td><td>Female</td><td>54</td><td>None  </td></tr>\n",
       "\t<tr><th scope=row>68</th><td> 4</td><td>Placebo</td><td>Female</td><td>54</td><td>None  </td></tr>\n",
       "\t<tr><th scope=row>69</th><td>78</td><td>Placebo</td><td>Female</td><td>54</td><td>Marked</td></tr>\n",
       "\t<tr><th scope=row>70</th><td>70</td><td>Placebo</td><td>Female</td><td>55</td><td>Marked</td></tr>\n",
       "\t<tr><th scope=row>71</th><td>49</td><td>Placebo</td><td>Female</td><td>57</td><td>None  </td></tr>\n",
       "\t<tr><th scope=row>72</th><td>10</td><td>Placebo</td><td>Female</td><td>57</td><td>Some  </td></tr>\n",
       "\t<tr><th scope=row>73</th><td>47</td><td>Placebo</td><td>Female</td><td>58</td><td>Some  </td></tr>\n",
       "\t<tr><th scope=row>74</th><td>44</td><td>Placebo</td><td>Female</td><td>59</td><td>Some  </td></tr>\n",
       "\t<tr><th scope=row>75</th><td>24</td><td>Placebo</td><td>Female</td><td>59</td><td>Marked</td></tr>\n",
       "\t<tr><th scope=row>76</th><td>48</td><td>Placebo</td><td>Female</td><td>61</td><td>None  </td></tr>\n",
       "\t<tr><th scope=row>77</th><td>19</td><td>Placebo</td><td>Female</td><td>63</td><td>Some  </td></tr>\n",
       "\t<tr><th scope=row>78</th><td> 3</td><td>Placebo</td><td>Female</td><td>64</td><td>None  </td></tr>\n",
       "\t<tr><th scope=row>79</th><td>67</td><td>Placebo</td><td>Female</td><td>65</td><td>Marked</td></tr>\n",
       "\t<tr><th scope=row>80</th><td>32</td><td>Placebo</td><td>Female</td><td>66</td><td>None  </td></tr>\n",
       "\t<tr><th scope=row>81</th><td>42</td><td>Placebo</td><td>Female</td><td>66</td><td>None  </td></tr>\n",
       "\t<tr><th scope=row>82</th><td>15</td><td>Placebo</td><td>Female</td><td>66</td><td>Some  </td></tr>\n",
       "\t<tr><th scope=row>83</th><td>71</td><td>Placebo</td><td>Female</td><td>68</td><td>Some  </td></tr>\n",
       "\t<tr><th scope=row>84</th><td> 1</td><td>Placebo</td><td>Female</td><td>74</td><td>Marked</td></tr>\n",
       "</tbody>\n",
       "</table>\n"
      ],
      "text/latex": [
       "A data.frame: 84 × 5\n",
       "\\begin{tabular}{r|lllll}\n",
       "  & ID & Treatment & Sex & Age & Improved\\\\\n",
       "  & <int> & <fct> & <fct> & <int> & <ord>\\\\\n",
       "\\hline\n",
       "\t1 & 57 & Treated & Male   & 27 & Some  \\\\\n",
       "\t2 & 46 & Treated & Male   & 29 & None  \\\\\n",
       "\t3 & 77 & Treated & Male   & 30 & None  \\\\\n",
       "\t4 & 17 & Treated & Male   & 32 & Marked\\\\\n",
       "\t5 & 36 & Treated & Male   & 46 & Marked\\\\\n",
       "\t6 & 23 & Treated & Male   & 58 & Marked\\\\\n",
       "\t7 & 75 & Treated & Male   & 59 & None  \\\\\n",
       "\t8 & 39 & Treated & Male   & 59 & Marked\\\\\n",
       "\t9 & 33 & Treated & Male   & 63 & None  \\\\\n",
       "\t10 & 55 & Treated & Male   & 63 & None  \\\\\n",
       "\t11 & 30 & Treated & Male   & 64 & None  \\\\\n",
       "\t12 &  5 & Treated & Male   & 64 & Some  \\\\\n",
       "\t13 & 63 & Treated & Male   & 69 & None  \\\\\n",
       "\t14 & 83 & Treated & Male   & 70 & Marked\\\\\n",
       "\t15 & 66 & Treated & Female & 23 & None  \\\\\n",
       "\t16 & 40 & Treated & Female & 32 & None  \\\\\n",
       "\t17 &  6 & Treated & Female & 37 & Some  \\\\\n",
       "\t18 &  7 & Treated & Female & 41 & None  \\\\\n",
       "\t19 & 72 & Treated & Female & 41 & Marked\\\\\n",
       "\t20 & 37 & Treated & Female & 48 & None  \\\\\n",
       "\t21 & 82 & Treated & Female & 48 & Marked\\\\\n",
       "\t22 & 53 & Treated & Female & 55 & Marked\\\\\n",
       "\t23 & 79 & Treated & Female & 55 & Marked\\\\\n",
       "\t24 & 26 & Treated & Female & 56 & Marked\\\\\n",
       "\t25 & 28 & Treated & Female & 57 & Marked\\\\\n",
       "\t26 & 60 & Treated & Female & 57 & Marked\\\\\n",
       "\t27 & 22 & Treated & Female & 57 & Marked\\\\\n",
       "\t28 & 27 & Treated & Female & 58 & None  \\\\\n",
       "\t29 &  2 & Treated & Female & 59 & Marked\\\\\n",
       "\t30 & 59 & Treated & Female & 59 & Marked\\\\\n",
       "\t⋮ & ⋮ & ⋮ & ⋮ & ⋮ & ⋮\\\\\n",
       "\t55 & 29 & Placebo & Female & 30 & None  \\\\\n",
       "\t56 & 50 & Placebo & Female & 31 & Some  \\\\\n",
       "\t57 & 38 & Placebo & Female & 32 & None  \\\\\n",
       "\t58 & 35 & Placebo & Female & 33 & Marked\\\\\n",
       "\t59 & 51 & Placebo & Female & 37 & None  \\\\\n",
       "\t60 & 54 & Placebo & Female & 44 & None  \\\\\n",
       "\t61 & 76 & Placebo & Female & 45 & None  \\\\\n",
       "\t62 & 16 & Placebo & Female & 46 & None  \\\\\n",
       "\t63 & 69 & Placebo & Female & 48 & None  \\\\\n",
       "\t64 & 31 & Placebo & Female & 49 & None  \\\\\n",
       "\t65 & 20 & Placebo & Female & 51 & None  \\\\\n",
       "\t66 & 68 & Placebo & Female & 53 & None  \\\\\n",
       "\t67 & 81 & Placebo & Female & 54 & None  \\\\\n",
       "\t68 &  4 & Placebo & Female & 54 & None  \\\\\n",
       "\t69 & 78 & Placebo & Female & 54 & Marked\\\\\n",
       "\t70 & 70 & Placebo & Female & 55 & Marked\\\\\n",
       "\t71 & 49 & Placebo & Female & 57 & None  \\\\\n",
       "\t72 & 10 & Placebo & Female & 57 & Some  \\\\\n",
       "\t73 & 47 & Placebo & Female & 58 & Some  \\\\\n",
       "\t74 & 44 & Placebo & Female & 59 & Some  \\\\\n",
       "\t75 & 24 & Placebo & Female & 59 & Marked\\\\\n",
       "\t76 & 48 & Placebo & Female & 61 & None  \\\\\n",
       "\t77 & 19 & Placebo & Female & 63 & Some  \\\\\n",
       "\t78 &  3 & Placebo & Female & 64 & None  \\\\\n",
       "\t79 & 67 & Placebo & Female & 65 & Marked\\\\\n",
       "\t80 & 32 & Placebo & Female & 66 & None  \\\\\n",
       "\t81 & 42 & Placebo & Female & 66 & None  \\\\\n",
       "\t82 & 15 & Placebo & Female & 66 & Some  \\\\\n",
       "\t83 & 71 & Placebo & Female & 68 & Some  \\\\\n",
       "\t84 &  1 & Placebo & Female & 74 & Marked\\\\\n",
       "\\end{tabular}\n"
      ],
      "text/markdown": [
       "\n",
       "A data.frame: 84 × 5\n",
       "\n",
       "| <!--/--> | ID &lt;int&gt; | Treatment &lt;fct&gt; | Sex &lt;fct&gt; | Age &lt;int&gt; | Improved &lt;ord&gt; |\n",
       "|---|---|---|---|---|---|\n",
       "| 1 | 57 | Treated | Male   | 27 | Some   |\n",
       "| 2 | 46 | Treated | Male   | 29 | None   |\n",
       "| 3 | 77 | Treated | Male   | 30 | None   |\n",
       "| 4 | 17 | Treated | Male   | 32 | Marked |\n",
       "| 5 | 36 | Treated | Male   | 46 | Marked |\n",
       "| 6 | 23 | Treated | Male   | 58 | Marked |\n",
       "| 7 | 75 | Treated | Male   | 59 | None   |\n",
       "| 8 | 39 | Treated | Male   | 59 | Marked |\n",
       "| 9 | 33 | Treated | Male   | 63 | None   |\n",
       "| 10 | 55 | Treated | Male   | 63 | None   |\n",
       "| 11 | 30 | Treated | Male   | 64 | None   |\n",
       "| 12 |  5 | Treated | Male   | 64 | Some   |\n",
       "| 13 | 63 | Treated | Male   | 69 | None   |\n",
       "| 14 | 83 | Treated | Male   | 70 | Marked |\n",
       "| 15 | 66 | Treated | Female | 23 | None   |\n",
       "| 16 | 40 | Treated | Female | 32 | None   |\n",
       "| 17 |  6 | Treated | Female | 37 | Some   |\n",
       "| 18 |  7 | Treated | Female | 41 | None   |\n",
       "| 19 | 72 | Treated | Female | 41 | Marked |\n",
       "| 20 | 37 | Treated | Female | 48 | None   |\n",
       "| 21 | 82 | Treated | Female | 48 | Marked |\n",
       "| 22 | 53 | Treated | Female | 55 | Marked |\n",
       "| 23 | 79 | Treated | Female | 55 | Marked |\n",
       "| 24 | 26 | Treated | Female | 56 | Marked |\n",
       "| 25 | 28 | Treated | Female | 57 | Marked |\n",
       "| 26 | 60 | Treated | Female | 57 | Marked |\n",
       "| 27 | 22 | Treated | Female | 57 | Marked |\n",
       "| 28 | 27 | Treated | Female | 58 | None   |\n",
       "| 29 |  2 | Treated | Female | 59 | Marked |\n",
       "| 30 | 59 | Treated | Female | 59 | Marked |\n",
       "| ⋮ | ⋮ | ⋮ | ⋮ | ⋮ | ⋮ |\n",
       "| 55 | 29 | Placebo | Female | 30 | None   |\n",
       "| 56 | 50 | Placebo | Female | 31 | Some   |\n",
       "| 57 | 38 | Placebo | Female | 32 | None   |\n",
       "| 58 | 35 | Placebo | Female | 33 | Marked |\n",
       "| 59 | 51 | Placebo | Female | 37 | None   |\n",
       "| 60 | 54 | Placebo | Female | 44 | None   |\n",
       "| 61 | 76 | Placebo | Female | 45 | None   |\n",
       "| 62 | 16 | Placebo | Female | 46 | None   |\n",
       "| 63 | 69 | Placebo | Female | 48 | None   |\n",
       "| 64 | 31 | Placebo | Female | 49 | None   |\n",
       "| 65 | 20 | Placebo | Female | 51 | None   |\n",
       "| 66 | 68 | Placebo | Female | 53 | None   |\n",
       "| 67 | 81 | Placebo | Female | 54 | None   |\n",
       "| 68 |  4 | Placebo | Female | 54 | None   |\n",
       "| 69 | 78 | Placebo | Female | 54 | Marked |\n",
       "| 70 | 70 | Placebo | Female | 55 | Marked |\n",
       "| 71 | 49 | Placebo | Female | 57 | None   |\n",
       "| 72 | 10 | Placebo | Female | 57 | Some   |\n",
       "| 73 | 47 | Placebo | Female | 58 | Some   |\n",
       "| 74 | 44 | Placebo | Female | 59 | Some   |\n",
       "| 75 | 24 | Placebo | Female | 59 | Marked |\n",
       "| 76 | 48 | Placebo | Female | 61 | None   |\n",
       "| 77 | 19 | Placebo | Female | 63 | Some   |\n",
       "| 78 |  3 | Placebo | Female | 64 | None   |\n",
       "| 79 | 67 | Placebo | Female | 65 | Marked |\n",
       "| 80 | 32 | Placebo | Female | 66 | None   |\n",
       "| 81 | 42 | Placebo | Female | 66 | None   |\n",
       "| 82 | 15 | Placebo | Female | 66 | Some   |\n",
       "| 83 | 71 | Placebo | Female | 68 | Some   |\n",
       "| 84 |  1 | Placebo | Female | 74 | Marked |\n",
       "\n"
      ],
      "text/plain": [
       "   ID Treatment Sex    Age Improved\n",
       "1  57 Treated   Male   27  Some    \n",
       "2  46 Treated   Male   29  None    \n",
       "3  77 Treated   Male   30  None    \n",
       "4  17 Treated   Male   32  Marked  \n",
       "5  36 Treated   Male   46  Marked  \n",
       "6  23 Treated   Male   58  Marked  \n",
       "7  75 Treated   Male   59  None    \n",
       "8  39 Treated   Male   59  Marked  \n",
       "9  33 Treated   Male   63  None    \n",
       "10 55 Treated   Male   63  None    \n",
       "11 30 Treated   Male   64  None    \n",
       "12  5 Treated   Male   64  Some    \n",
       "13 63 Treated   Male   69  None    \n",
       "14 83 Treated   Male   70  Marked  \n",
       "15 66 Treated   Female 23  None    \n",
       "16 40 Treated   Female 32  None    \n",
       "17  6 Treated   Female 37  Some    \n",
       "18  7 Treated   Female 41  None    \n",
       "19 72 Treated   Female 41  Marked  \n",
       "20 37 Treated   Female 48  None    \n",
       "21 82 Treated   Female 48  Marked  \n",
       "22 53 Treated   Female 55  Marked  \n",
       "23 79 Treated   Female 55  Marked  \n",
       "24 26 Treated   Female 56  Marked  \n",
       "25 28 Treated   Female 57  Marked  \n",
       "26 60 Treated   Female 57  Marked  \n",
       "27 22 Treated   Female 57  Marked  \n",
       "28 27 Treated   Female 58  None    \n",
       "29  2 Treated   Female 59  Marked  \n",
       "30 59 Treated   Female 59  Marked  \n",
       "⋮  ⋮  ⋮         ⋮      ⋮   ⋮       \n",
       "55 29 Placebo   Female 30  None    \n",
       "56 50 Placebo   Female 31  Some    \n",
       "57 38 Placebo   Female 32  None    \n",
       "58 35 Placebo   Female 33  Marked  \n",
       "59 51 Placebo   Female 37  None    \n",
       "60 54 Placebo   Female 44  None    \n",
       "61 76 Placebo   Female 45  None    \n",
       "62 16 Placebo   Female 46  None    \n",
       "63 69 Placebo   Female 48  None    \n",
       "64 31 Placebo   Female 49  None    \n",
       "65 20 Placebo   Female 51  None    \n",
       "66 68 Placebo   Female 53  None    \n",
       "67 81 Placebo   Female 54  None    \n",
       "68  4 Placebo   Female 54  None    \n",
       "69 78 Placebo   Female 54  Marked  \n",
       "70 70 Placebo   Female 55  Marked  \n",
       "71 49 Placebo   Female 57  None    \n",
       "72 10 Placebo   Female 57  Some    \n",
       "73 47 Placebo   Female 58  Some    \n",
       "74 44 Placebo   Female 59  Some    \n",
       "75 24 Placebo   Female 59  Marked  \n",
       "76 48 Placebo   Female 61  None    \n",
       "77 19 Placebo   Female 63  Some    \n",
       "78  3 Placebo   Female 64  None    \n",
       "79 67 Placebo   Female 65  Marked  \n",
       "80 32 Placebo   Female 66  None    \n",
       "81 42 Placebo   Female 66  None    \n",
       "82 15 Placebo   Female 66  Some    \n",
       "83 71 Placebo   Female 68  Some    \n",
       "84  1 Placebo   Female 74  Marked  "
      ]
     },
     "metadata": {},
     "output_type": "display_data"
    }
   ],
   "source": [
    "Arthritis"
   ]
  },
  {
   "cell_type": "code",
   "execution_count": 4,
   "metadata": {},
   "outputs": [
    {
     "data": {
      "text/html": [
       "<style>\n",
       ".list-inline {list-style: none; margin:0; padding: 0}\n",
       ".list-inline>li {display: inline-block}\n",
       ".list-inline>li:not(:last-child)::after {content: \"\\00b7\"; padding: 0 .5ex}\n",
       "</style>\n",
       "<ol class=list-inline><li>Some</li><li>None</li><li>None</li><li>Marked</li><li>Marked</li><li>Marked</li><li>None</li><li>Marked</li><li>None</li><li>None</li><li>None</li><li>Some</li><li>None</li><li>Marked</li><li>None</li><li>None</li><li>Some</li><li>None</li><li>Marked</li><li>None</li><li>Marked</li><li>Marked</li><li>Marked</li><li>Marked</li><li>Marked</li><li>Marked</li><li>Marked</li><li>None</li><li>Marked</li><li>Marked</li><li>Marked</li><li>Marked</li><li>Some</li><li>Marked</li><li>Marked</li><li>Marked</li><li>Some</li><li>Marked</li><li>None</li><li>Some</li><li>Some</li><li>None</li><li>None</li><li>None</li><li>None</li><li>None</li><li>None</li><li>None</li><li>None</li><li>None</li><li>None</li><li>Marked</li><li>None</li><li>None</li><li>None</li><li>Some</li><li>None</li><li>Marked</li><li>None</li><li>None</li><li>None</li><li>None</li><li>None</li><li>None</li><li>None</li><li>None</li><li>None</li><li>None</li><li>Marked</li><li>Marked</li><li>None</li><li>Some</li><li>Some</li><li>Some</li><li>Marked</li><li>None</li><li>Some</li><li>None</li><li>Marked</li><li>None</li><li>None</li><li>Some</li><li>Some</li><li>Marked</li></ol>\n",
       "\n",
       "<details>\n",
       "\t<summary style=display:list-item;cursor:pointer>\n",
       "\t\t<strong>Levels</strong>:\n",
       "\t</summary>\n",
       "\t<style>\n",
       "\t.list-inline {list-style: none; margin:0; padding: 0}\n",
       "\t.list-inline>li {display: inline-block}\n",
       "\t.list-inline>li:not(:last-child)::after {content: \"\\00b7\"; padding: 0 .5ex}\n",
       "\t</style>\n",
       "\t<ol class=list-inline><li>'None'</li><li>'Some'</li><li>'Marked'</li></ol>\n",
       "</details>"
      ],
      "text/latex": [
       "\\begin{enumerate*}\n",
       "\\item Some\n",
       "\\item None\n",
       "\\item None\n",
       "\\item Marked\n",
       "\\item Marked\n",
       "\\item Marked\n",
       "\\item None\n",
       "\\item Marked\n",
       "\\item None\n",
       "\\item None\n",
       "\\item None\n",
       "\\item Some\n",
       "\\item None\n",
       "\\item Marked\n",
       "\\item None\n",
       "\\item None\n",
       "\\item Some\n",
       "\\item None\n",
       "\\item Marked\n",
       "\\item None\n",
       "\\item Marked\n",
       "\\item Marked\n",
       "\\item Marked\n",
       "\\item Marked\n",
       "\\item Marked\n",
       "\\item Marked\n",
       "\\item Marked\n",
       "\\item None\n",
       "\\item Marked\n",
       "\\item Marked\n",
       "\\item Marked\n",
       "\\item Marked\n",
       "\\item Some\n",
       "\\item Marked\n",
       "\\item Marked\n",
       "\\item Marked\n",
       "\\item Some\n",
       "\\item Marked\n",
       "\\item None\n",
       "\\item Some\n",
       "\\item Some\n",
       "\\item None\n",
       "\\item None\n",
       "\\item None\n",
       "\\item None\n",
       "\\item None\n",
       "\\item None\n",
       "\\item None\n",
       "\\item None\n",
       "\\item None\n",
       "\\item None\n",
       "\\item Marked\n",
       "\\item None\n",
       "\\item None\n",
       "\\item None\n",
       "\\item Some\n",
       "\\item None\n",
       "\\item Marked\n",
       "\\item None\n",
       "\\item None\n",
       "\\item None\n",
       "\\item None\n",
       "\\item None\n",
       "\\item None\n",
       "\\item None\n",
       "\\item None\n",
       "\\item None\n",
       "\\item None\n",
       "\\item Marked\n",
       "\\item Marked\n",
       "\\item None\n",
       "\\item Some\n",
       "\\item Some\n",
       "\\item Some\n",
       "\\item Marked\n",
       "\\item None\n",
       "\\item Some\n",
       "\\item None\n",
       "\\item Marked\n",
       "\\item None\n",
       "\\item None\n",
       "\\item Some\n",
       "\\item Some\n",
       "\\item Marked\n",
       "\\end{enumerate*}\n",
       "\n",
       "\\emph{Levels}: \\begin{enumerate*}\n",
       "\\item 'None'\n",
       "\\item 'Some'\n",
       "\\item 'Marked'\n",
       "\\end{enumerate*}\n"
      ],
      "text/markdown": [
       "1. Some\n",
       "2. None\n",
       "3. None\n",
       "4. Marked\n",
       "5. Marked\n",
       "6. Marked\n",
       "7. None\n",
       "8. Marked\n",
       "9. None\n",
       "10. None\n",
       "11. None\n",
       "12. Some\n",
       "13. None\n",
       "14. Marked\n",
       "15. None\n",
       "16. None\n",
       "17. Some\n",
       "18. None\n",
       "19. Marked\n",
       "20. None\n",
       "21. Marked\n",
       "22. Marked\n",
       "23. Marked\n",
       "24. Marked\n",
       "25. Marked\n",
       "26. Marked\n",
       "27. Marked\n",
       "28. None\n",
       "29. Marked\n",
       "30. Marked\n",
       "31. Marked\n",
       "32. Marked\n",
       "33. Some\n",
       "34. Marked\n",
       "35. Marked\n",
       "36. Marked\n",
       "37. Some\n",
       "38. Marked\n",
       "39. None\n",
       "40. Some\n",
       "41. Some\n",
       "42. None\n",
       "43. None\n",
       "44. None\n",
       "45. None\n",
       "46. None\n",
       "47. None\n",
       "48. None\n",
       "49. None\n",
       "50. None\n",
       "51. None\n",
       "52. Marked\n",
       "53. None\n",
       "54. None\n",
       "55. None\n",
       "56. Some\n",
       "57. None\n",
       "58. Marked\n",
       "59. None\n",
       "60. None\n",
       "61. None\n",
       "62. None\n",
       "63. None\n",
       "64. None\n",
       "65. None\n",
       "66. None\n",
       "67. None\n",
       "68. None\n",
       "69. Marked\n",
       "70. Marked\n",
       "71. None\n",
       "72. Some\n",
       "73. Some\n",
       "74. Some\n",
       "75. Marked\n",
       "76. None\n",
       "77. Some\n",
       "78. None\n",
       "79. Marked\n",
       "80. None\n",
       "81. None\n",
       "82. Some\n",
       "83. Some\n",
       "84. Marked\n",
       "\n",
       "\n",
       "\n",
       "**Levels**: 1. 'None'\n",
       "2. 'Some'\n",
       "3. 'Marked'\n",
       "\n",
       "\n"
      ],
      "text/plain": [
       " [1] Some   None   None   Marked Marked Marked None   Marked None   None  \n",
       "[11] None   Some   None   Marked None   None   Some   None   Marked None  \n",
       "[21] Marked Marked Marked Marked Marked Marked Marked None   Marked Marked\n",
       "[31] Marked Marked Some   Marked Marked Marked Some   Marked None   Some  \n",
       "[41] Some   None   None   None   None   None   None   None   None   None  \n",
       "[51] None   Marked None   None   None   Some   None   Marked None   None  \n",
       "[61] None   None   None   None   None   None   None   None   Marked Marked\n",
       "[71] None   Some   Some   Some   Marked None   Some   None   Marked None  \n",
       "[81] None   Some   Some   Marked\n",
       "Levels: None < Some < Marked"
      ]
     },
     "metadata": {},
     "output_type": "display_data"
    }
   ],
   "source": [
    "Arthritis$Improved"
   ]
  },
  {
   "cell_type": "code",
   "execution_count": 5,
   "metadata": {},
   "outputs": [],
   "source": [
    "conteo = table(Arthritis$Improved)"
   ]
  },
  {
   "cell_type": "code",
   "execution_count": 6,
   "metadata": {},
   "outputs": [
    {
     "data": {
      "text/plain": [
       "\n",
       "  None   Some Marked \n",
       "    42     14     28 "
      ]
     },
     "metadata": {},
     "output_type": "display_data"
    }
   ],
   "source": [
    "conteo"
   ]
  },
  {
   "cell_type": "code",
   "execution_count": 7,
   "metadata": {},
   "outputs": [
    {
     "data": {
      "image/png": "[encoded data removed]",
      "text/plain": [
       "Plot with title “Gráfico de Barras”"
      ]
     },
     "metadata": {
      "image/png": {
       "height": 420,
       "width": 420
      }
     },
     "output_type": "display_data"
    }
   ],
   "source": [
    "barplot(conteo,\n",
    "main=\"Gráfico de Barras\",\n",
    "xlab=\"Mejora\", ylab=\"Frecuencia\")"
   ]
  },
  {
   "cell_type": "code",
   "execution_count": 8,
   "metadata": {
    "scrolled": true
   },
   "outputs": [
    {
     "data": {
      "image/png": "[encoded data removed]",
      "text/plain": [
       "Plot with title “Gráfico de Barras”"
      ]
     },
     "metadata": {
      "image/png": {
       "height": 420,
       "width": 420
      }
     },
     "output_type": "display_data"
    }
   ],
   "source": [
    "barplot(conteo,\n",
    "main=\"Gráfico de Barras\",\n",
    "xlab=\"Frecuencia\", ylab=\"Mejora\", horiz=TRUE)"
   ]
  },
  {
   "cell_type": "markdown",
   "metadata": {},
   "source": [
    "### Barras apiladas."
   ]
  },
  {
   "cell_type": "code",
   "execution_count": 9,
   "metadata": {},
   "outputs": [],
   "source": [
    "conteos <- table(Arthritis$Improved, Arthritis$Treatment)"
   ]
  },
  {
   "cell_type": "code",
   "execution_count": 10,
   "metadata": {},
   "outputs": [
    {
     "data": {
      "text/plain": [
       "        \n",
       "         Placebo Treated\n",
       "  None        29      13\n",
       "  Some         7       7\n",
       "  Marked       7      21"
      ]
     },
     "metadata": {},
     "output_type": "display_data"
    }
   ],
   "source": [
    "conteos"
   ]
  },
  {
   "cell_type": "code",
   "execution_count": 11,
   "metadata": {
    "scrolled": true
   },
   "outputs": [
    {
     "data": {
      "image/png": "[encoded data removed]",
      "text/plain": [
       "Plot with title “Barras apliadas”"
      ]
     },
     "metadata": {
      "image/png": {
       "height": 420,
       "width": 420
      }
     },
     "output_type": "display_data"
    }
   ],
   "source": [
    "barplot(conteos,\n",
    "main=\"Barras apliadas\",\n",
    "xlab=\"Tratamiento\", ylab=\"Frecuencia\",\n",
    "col=c(\"red\", \"blue\",\"cyan\"),\n",
    "legend=rownames(conteos))"
   ]
  },
  {
   "cell_type": "markdown",
   "metadata": {},
   "source": [
    "### Barras agrupadas."
   ]
  },
  {
   "cell_type": "code",
   "execution_count": 12,
   "metadata": {
    "scrolled": true
   },
   "outputs": [
    {
     "data": {
      "image/png": "[encoded data removed]",
      "text/plain": [
       "Plot with title “Barras agrupadas”"
      ]
     },
     "metadata": {
      "image/png": {
       "height": 420,
       "width": 420
      }
     },
     "output_type": "display_data"
    }
   ],
   "source": [
    "barplot(conteos,\n",
    "main=\"Barras agrupadas\",\n",
    "xlab=\"Tratamiento\", ylab=\"Frecuencia\",\n",
    "col=c(\"red\", \"blue\",\"cyan\"),\n",
    "legend=rownames(conteos), beside=TRUE)"
   ]
  },
  {
   "cell_type": "markdown",
   "metadata": {},
   "source": [
    "### Espinogramas."
   ]
  },
  {
   "cell_type": "code",
   "execution_count": null,
   "metadata": {},
   "outputs": [],
   "source": [
    "?spine"
   ]
  },
  {
   "cell_type": "code",
   "execution_count": 13,
   "metadata": {},
   "outputs": [],
   "source": [
    "conteos <- table(Arthritis$Treatment, Arthritis$Improved)"
   ]
  },
  {
   "cell_type": "code",
   "execution_count": 14,
   "metadata": {},
   "outputs": [
    {
     "data": {
      "text/plain": [
       "         \n",
       "          None Some Marked\n",
       "  Placebo   29    7      7\n",
       "  Treated   13    7     21"
      ]
     },
     "metadata": {},
     "output_type": "display_data"
    }
   ],
   "source": [
    "conteos"
   ]
  },
  {
   "cell_type": "code",
   "execution_count": 15,
   "metadata": {
    "scrolled": false
   },
   "outputs": [
    {
     "data": {
      "image/png": "[encoded data removed]",
      "text/plain": [
       "plot without title"
      ]
     },
     "metadata": {
      "image/png": {
       "height": 420,
       "width": 420
      }
     },
     "output_type": "display_data"
    }
   ],
   "source": [
    "spine(conteos, main=\"Espinograma\")"
   ]
  },
  {
   "cell_type": "markdown",
   "metadata": {},
   "source": [
    "## Graficos de pay."
   ]
  },
  {
   "cell_type": "code",
   "execution_count": 28,
   "metadata": {
    "scrolled": true
   },
   "outputs": [
    {
     "data": {
      "image/png": "[encoded data removed]",
      "text/plain": [
       "Plot with title “Gráfico de Pay”"
      ]
     },
     "metadata": {
      "image/png": {
       "height": 420,
       "width": 420
      }
     },
     "output_type": "display_data"
    }
   ],
   "source": [
    "rebanadas <- c(120, 132 ,159, 167, 128)\n",
    "nombres <- c(\"Norte\", \"Sur\", \"Centro\", \"Matriz\", \"Bodega\")\n",
    "pie(rebanadas, labels = nombres,\n",
    "main=\"Gráfico de Pay\", col=c('red', 'blue', 'yellow', 'green', 'cyan'))"
   ]
  },
  {
   "cell_type": "markdown",
   "metadata": {},
   "source": [
    "## Gráficas de puntos."
   ]
  },
  {
   "cell_type": "code",
   "execution_count": null,
   "metadata": {},
   "outputs": [],
   "source": [
    "?dotchart"
   ]
  },
  {
   "cell_type": "code",
   "execution_count": 29,
   "metadata": {},
   "outputs": [],
   "source": [
    "data(mtcars)"
   ]
  },
  {
   "cell_type": "code",
   "execution_count": 30,
   "metadata": {},
   "outputs": [
    {
     "data": {
      "text/html": [
       "<table>\n",
       "<caption>A data.frame: 32 × 11</caption>\n",
       "<thead>\n",
       "\t<tr><th></th><th scope=col>mpg</th><th scope=col>cyl</th><th scope=col>disp</th><th scope=col>hp</th><th scope=col>drat</th><th scope=col>wt</th><th scope=col>qsec</th><th scope=col>vs</th><th scope=col>am</th><th scope=col>gear</th><th scope=col>carb</th></tr>\n",
       "\t<tr><th></th><th scope=col>&lt;dbl&gt;</th><th scope=col>&lt;dbl&gt;</th><th scope=col>&lt;dbl&gt;</th><th scope=col>&lt;dbl&gt;</th><th scope=col>&lt;dbl&gt;</th><th scope=col>&lt;dbl&gt;</th><th scope=col>&lt;dbl&gt;</th><th scope=col>&lt;dbl&gt;</th><th scope=col>&lt;dbl&gt;</th><th scope=col>&lt;dbl&gt;</th><th scope=col>&lt;dbl&gt;</th></tr>\n",
       "</thead>\n",
       "<tbody>\n",
       "\t<tr><th scope=row>Mazda RX4</th><td>21.0</td><td>6</td><td>160.0</td><td>110</td><td>3.90</td><td>2.620</td><td>16.46</td><td>0</td><td>1</td><td>4</td><td>4</td></tr>\n",
       "\t<tr><th scope=row>Mazda RX4 Wag</th><td>21.0</td><td>6</td><td>160.0</td><td>110</td><td>3.90</td><td>2.875</td><td>17.02</td><td>0</td><td>1</td><td>4</td><td>4</td></tr>\n",
       "\t<tr><th scope=row>Datsun 710</th><td>22.8</td><td>4</td><td>108.0</td><td> 93</td><td>3.85</td><td>2.320</td><td>18.61</td><td>1</td><td>1</td><td>4</td><td>1</td></tr>\n",
       "\t<tr><th scope=row>Hornet 4 Drive</th><td>21.4</td><td>6</td><td>258.0</td><td>110</td><td>3.08</td><td>3.215</td><td>19.44</td><td>1</td><td>0</td><td>3</td><td>1</td></tr>\n",
       "\t<tr><th scope=row>Hornet Sportabout</th><td>18.7</td><td>8</td><td>360.0</td><td>175</td><td>3.15</td><td>3.440</td><td>17.02</td><td>0</td><td>0</td><td>3</td><td>2</td></tr>\n",
       "\t<tr><th scope=row>Valiant</th><td>18.1</td><td>6</td><td>225.0</td><td>105</td><td>2.76</td><td>3.460</td><td>20.22</td><td>1</td><td>0</td><td>3</td><td>1</td></tr>\n",
       "\t<tr><th scope=row>Duster 360</th><td>14.3</td><td>8</td><td>360.0</td><td>245</td><td>3.21</td><td>3.570</td><td>15.84</td><td>0</td><td>0</td><td>3</td><td>4</td></tr>\n",
       "\t<tr><th scope=row>Merc 240D</th><td>24.4</td><td>4</td><td>146.7</td><td> 62</td><td>3.69</td><td>3.190</td><td>20.00</td><td>1</td><td>0</td><td>4</td><td>2</td></tr>\n",
       "\t<tr><th scope=row>Merc 230</th><td>22.8</td><td>4</td><td>140.8</td><td> 95</td><td>3.92</td><td>3.150</td><td>22.90</td><td>1</td><td>0</td><td>4</td><td>2</td></tr>\n",
       "\t<tr><th scope=row>Merc 280</th><td>19.2</td><td>6</td><td>167.6</td><td>123</td><td>3.92</td><td>3.440</td><td>18.30</td><td>1</td><td>0</td><td>4</td><td>4</td></tr>\n",
       "\t<tr><th scope=row>Merc 280C</th><td>17.8</td><td>6</td><td>167.6</td><td>123</td><td>3.92</td><td>3.440</td><td>18.90</td><td>1</td><td>0</td><td>4</td><td>4</td></tr>\n",
       "\t<tr><th scope=row>Merc 450SE</th><td>16.4</td><td>8</td><td>275.8</td><td>180</td><td>3.07</td><td>4.070</td><td>17.40</td><td>0</td><td>0</td><td>3</td><td>3</td></tr>\n",
       "\t<tr><th scope=row>Merc 450SL</th><td>17.3</td><td>8</td><td>275.8</td><td>180</td><td>3.07</td><td>3.730</td><td>17.60</td><td>0</td><td>0</td><td>3</td><td>3</td></tr>\n",
       "\t<tr><th scope=row>Merc 450SLC</th><td>15.2</td><td>8</td><td>275.8</td><td>180</td><td>3.07</td><td>3.780</td><td>18.00</td><td>0</td><td>0</td><td>3</td><td>3</td></tr>\n",
       "\t<tr><th scope=row>Cadillac Fleetwood</th><td>10.4</td><td>8</td><td>472.0</td><td>205</td><td>2.93</td><td>5.250</td><td>17.98</td><td>0</td><td>0</td><td>3</td><td>4</td></tr>\n",
       "\t<tr><th scope=row>Lincoln Continental</th><td>10.4</td><td>8</td><td>460.0</td><td>215</td><td>3.00</td><td>5.424</td><td>17.82</td><td>0</td><td>0</td><td>3</td><td>4</td></tr>\n",
       "\t<tr><th scope=row>Chrysler Imperial</th><td>14.7</td><td>8</td><td>440.0</td><td>230</td><td>3.23</td><td>5.345</td><td>17.42</td><td>0</td><td>0</td><td>3</td><td>4</td></tr>\n",
       "\t<tr><th scope=row>Fiat 128</th><td>32.4</td><td>4</td><td> 78.7</td><td> 66</td><td>4.08</td><td>2.200</td><td>19.47</td><td>1</td><td>1</td><td>4</td><td>1</td></tr>\n",
       "\t<tr><th scope=row>Honda Civic</th><td>30.4</td><td>4</td><td> 75.7</td><td> 52</td><td>4.93</td><td>1.615</td><td>18.52</td><td>1</td><td>1</td><td>4</td><td>2</td></tr>\n",
       "\t<tr><th scope=row>Toyota Corolla</th><td>33.9</td><td>4</td><td> 71.1</td><td> 65</td><td>4.22</td><td>1.835</td><td>19.90</td><td>1</td><td>1</td><td>4</td><td>1</td></tr>\n",
       "\t<tr><th scope=row>Toyota Corona</th><td>21.5</td><td>4</td><td>120.1</td><td> 97</td><td>3.70</td><td>2.465</td><td>20.01</td><td>1</td><td>0</td><td>3</td><td>1</td></tr>\n",
       "\t<tr><th scope=row>Dodge Challenger</th><td>15.5</td><td>8</td><td>318.0</td><td>150</td><td>2.76</td><td>3.520</td><td>16.87</td><td>0</td><td>0</td><td>3</td><td>2</td></tr>\n",
       "\t<tr><th scope=row>AMC Javelin</th><td>15.2</td><td>8</td><td>304.0</td><td>150</td><td>3.15</td><td>3.435</td><td>17.30</td><td>0</td><td>0</td><td>3</td><td>2</td></tr>\n",
       "\t<tr><th scope=row>Camaro Z28</th><td>13.3</td><td>8</td><td>350.0</td><td>245</td><td>3.73</td><td>3.840</td><td>15.41</td><td>0</td><td>0</td><td>3</td><td>4</td></tr>\n",
       "\t<tr><th scope=row>Pontiac Firebird</th><td>19.2</td><td>8</td><td>400.0</td><td>175</td><td>3.08</td><td>3.845</td><td>17.05</td><td>0</td><td>0</td><td>3</td><td>2</td></tr>\n",
       "\t<tr><th scope=row>Fiat X1-9</th><td>27.3</td><td>4</td><td> 79.0</td><td> 66</td><td>4.08</td><td>1.935</td><td>18.90</td><td>1</td><td>1</td><td>4</td><td>1</td></tr>\n",
       "\t<tr><th scope=row>Porsche 914-2</th><td>26.0</td><td>4</td><td>120.3</td><td> 91</td><td>4.43</td><td>2.140</td><td>16.70</td><td>0</td><td>1</td><td>5</td><td>2</td></tr>\n",
       "\t<tr><th scope=row>Lotus Europa</th><td>30.4</td><td>4</td><td> 95.1</td><td>113</td><td>3.77</td><td>1.513</td><td>16.90</td><td>1</td><td>1</td><td>5</td><td>2</td></tr>\n",
       "\t<tr><th scope=row>Ford Pantera L</th><td>15.8</td><td>8</td><td>351.0</td><td>264</td><td>4.22</td><td>3.170</td><td>14.50</td><td>0</td><td>1</td><td>5</td><td>4</td></tr>\n",
       "\t<tr><th scope=row>Ferrari Dino</th><td>19.7</td><td>6</td><td>145.0</td><td>175</td><td>3.62</td><td>2.770</td><td>15.50</td><td>0</td><td>1</td><td>5</td><td>6</td></tr>\n",
       "\t<tr><th scope=row>Maserati Bora</th><td>15.0</td><td>8</td><td>301.0</td><td>335</td><td>3.54</td><td>3.570</td><td>14.60</td><td>0</td><td>1</td><td>5</td><td>8</td></tr>\n",
       "\t<tr><th scope=row>Volvo 142E</th><td>21.4</td><td>4</td><td>121.0</td><td>109</td><td>4.11</td><td>2.780</td><td>18.60</td><td>1</td><td>1</td><td>4</td><td>2</td></tr>\n",
       "</tbody>\n",
       "</table>\n"
      ],
      "text/latex": [
       "A data.frame: 32 × 11\n",
       "\\begin{tabular}{r|lllllllllll}\n",
       "  & mpg & cyl & disp & hp & drat & wt & qsec & vs & am & gear & carb\\\\\n",
       "  & <dbl> & <dbl> & <dbl> & <dbl> & <dbl> & <dbl> & <dbl> & <dbl> & <dbl> & <dbl> & <dbl>\\\\\n",
       "\\hline\n",
       "\tMazda RX4 & 21.0 & 6 & 160.0 & 110 & 3.90 & 2.620 & 16.46 & 0 & 1 & 4 & 4\\\\\n",
       "\tMazda RX4 Wag & 21.0 & 6 & 160.0 & 110 & 3.90 & 2.875 & 17.02 & 0 & 1 & 4 & 4\\\\\n",
       "\tDatsun 710 & 22.8 & 4 & 108.0 &  93 & 3.85 & 2.320 & 18.61 & 1 & 1 & 4 & 1\\\\\n",
       "\tHornet 4 Drive & 21.4 & 6 & 258.0 & 110 & 3.08 & 3.215 & 19.44 & 1 & 0 & 3 & 1\\\\\n",
       "\tHornet Sportabout & 18.7 & 8 & 360.0 & 175 & 3.15 & 3.440 & 17.02 & 0 & 0 & 3 & 2\\\\\n",
       "\tValiant & 18.1 & 6 & 225.0 & 105 & 2.76 & 3.460 & 20.22 & 1 & 0 & 3 & 1\\\\\n",
       "\tDuster 360 & 14.3 & 8 & 360.0 & 245 & 3.21 & 3.570 & 15.84 & 0 & 0 & 3 & 4\\\\\n",
       "\tMerc 240D & 24.4 & 4 & 146.7 &  62 & 3.69 & 3.190 & 20.00 & 1 & 0 & 4 & 2\\\\\n",
       "\tMerc 230 & 22.8 & 4 & 140.8 &  95 & 3.92 & 3.150 & 22.90 & 1 & 0 & 4 & 2\\\\\n",
       "\tMerc 280 & 19.2 & 6 & 167.6 & 123 & 3.92 & 3.440 & 18.30 & 1 & 0 & 4 & 4\\\\\n",
       "\tMerc 280C & 17.8 & 6 & 167.6 & 123 & 3.92 & 3.440 & 18.90 & 1 & 0 & 4 & 4\\\\\n",
       "\tMerc 450SE & 16.4 & 8 & 275.8 & 180 & 3.07 & 4.070 & 17.40 & 0 & 0 & 3 & 3\\\\\n",
       "\tMerc 450SL & 17.3 & 8 & 275.8 & 180 & 3.07 & 3.730 & 17.60 & 0 & 0 & 3 & 3\\\\\n",
       "\tMerc 450SLC & 15.2 & 8 & 275.8 & 180 & 3.07 & 3.780 & 18.00 & 0 & 0 & 3 & 3\\\\\n",
       "\tCadillac Fleetwood & 10.4 & 8 & 472.0 & 205 & 2.93 & 5.250 & 17.98 & 0 & 0 & 3 & 4\\\\\n",
       "\tLincoln Continental & 10.4 & 8 & 460.0 & 215 & 3.00 & 5.424 & 17.82 & 0 & 0 & 3 & 4\\\\\n",
       "\tChrysler Imperial & 14.7 & 8 & 440.0 & 230 & 3.23 & 5.345 & 17.42 & 0 & 0 & 3 & 4\\\\\n",
       "\tFiat 128 & 32.4 & 4 &  78.7 &  66 & 4.08 & 2.200 & 19.47 & 1 & 1 & 4 & 1\\\\\n",
       "\tHonda Civic & 30.4 & 4 &  75.7 &  52 & 4.93 & 1.615 & 18.52 & 1 & 1 & 4 & 2\\\\\n",
       "\tToyota Corolla & 33.9 & 4 &  71.1 &  65 & 4.22 & 1.835 & 19.90 & 1 & 1 & 4 & 1\\\\\n",
       "\tToyota Corona & 21.5 & 4 & 120.1 &  97 & 3.70 & 2.465 & 20.01 & 1 & 0 & 3 & 1\\\\\n",
       "\tDodge Challenger & 15.5 & 8 & 318.0 & 150 & 2.76 & 3.520 & 16.87 & 0 & 0 & 3 & 2\\\\\n",
       "\tAMC Javelin & 15.2 & 8 & 304.0 & 150 & 3.15 & 3.435 & 17.30 & 0 & 0 & 3 & 2\\\\\n",
       "\tCamaro Z28 & 13.3 & 8 & 350.0 & 245 & 3.73 & 3.840 & 15.41 & 0 & 0 & 3 & 4\\\\\n",
       "\tPontiac Firebird & 19.2 & 8 & 400.0 & 175 & 3.08 & 3.845 & 17.05 & 0 & 0 & 3 & 2\\\\\n",
       "\tFiat X1-9 & 27.3 & 4 &  79.0 &  66 & 4.08 & 1.935 & 18.90 & 1 & 1 & 4 & 1\\\\\n",
       "\tPorsche 914-2 & 26.0 & 4 & 120.3 &  91 & 4.43 & 2.140 & 16.70 & 0 & 1 & 5 & 2\\\\\n",
       "\tLotus Europa & 30.4 & 4 &  95.1 & 113 & 3.77 & 1.513 & 16.90 & 1 & 1 & 5 & 2\\\\\n",
       "\tFord Pantera L & 15.8 & 8 & 351.0 & 264 & 4.22 & 3.170 & 14.50 & 0 & 1 & 5 & 4\\\\\n",
       "\tFerrari Dino & 19.7 & 6 & 145.0 & 175 & 3.62 & 2.770 & 15.50 & 0 & 1 & 5 & 6\\\\\n",
       "\tMaserati Bora & 15.0 & 8 & 301.0 & 335 & 3.54 & 3.570 & 14.60 & 0 & 1 & 5 & 8\\\\\n",
       "\tVolvo 142E & 21.4 & 4 & 121.0 & 109 & 4.11 & 2.780 & 18.60 & 1 & 1 & 4 & 2\\\\\n",
       "\\end{tabular}\n"
      ],
      "text/markdown": [
       "\n",
       "A data.frame: 32 × 11\n",
       "\n",
       "| <!--/--> | mpg &lt;dbl&gt; | cyl &lt;dbl&gt; | disp &lt;dbl&gt; | hp &lt;dbl&gt; | drat &lt;dbl&gt; | wt &lt;dbl&gt; | qsec &lt;dbl&gt; | vs &lt;dbl&gt; | am &lt;dbl&gt; | gear &lt;dbl&gt; | carb &lt;dbl&gt; |\n",
       "|---|---|---|---|---|---|---|---|---|---|---|---|\n",
       "| Mazda RX4 | 21.0 | 6 | 160.0 | 110 | 3.90 | 2.620 | 16.46 | 0 | 1 | 4 | 4 |\n",
       "| Mazda RX4 Wag | 21.0 | 6 | 160.0 | 110 | 3.90 | 2.875 | 17.02 | 0 | 1 | 4 | 4 |\n",
       "| Datsun 710 | 22.8 | 4 | 108.0 |  93 | 3.85 | 2.320 | 18.61 | 1 | 1 | 4 | 1 |\n",
       "| Hornet 4 Drive | 21.4 | 6 | 258.0 | 110 | 3.08 | 3.215 | 19.44 | 1 | 0 | 3 | 1 |\n",
       "| Hornet Sportabout | 18.7 | 8 | 360.0 | 175 | 3.15 | 3.440 | 17.02 | 0 | 0 | 3 | 2 |\n",
       "| Valiant | 18.1 | 6 | 225.0 | 105 | 2.76 | 3.460 | 20.22 | 1 | 0 | 3 | 1 |\n",
       "| Duster 360 | 14.3 | 8 | 360.0 | 245 | 3.21 | 3.570 | 15.84 | 0 | 0 | 3 | 4 |\n",
       "| Merc 240D | 24.4 | 4 | 146.7 |  62 | 3.69 | 3.190 | 20.00 | 1 | 0 | 4 | 2 |\n",
       "| Merc 230 | 22.8 | 4 | 140.8 |  95 | 3.92 | 3.150 | 22.90 | 1 | 0 | 4 | 2 |\n",
       "| Merc 280 | 19.2 | 6 | 167.6 | 123 | 3.92 | 3.440 | 18.30 | 1 | 0 | 4 | 4 |\n",
       "| Merc 280C | 17.8 | 6 | 167.6 | 123 | 3.92 | 3.440 | 18.90 | 1 | 0 | 4 | 4 |\n",
       "| Merc 450SE | 16.4 | 8 | 275.8 | 180 | 3.07 | 4.070 | 17.40 | 0 | 0 | 3 | 3 |\n",
       "| Merc 450SL | 17.3 | 8 | 275.8 | 180 | 3.07 | 3.730 | 17.60 | 0 | 0 | 3 | 3 |\n",
       "| Merc 450SLC | 15.2 | 8 | 275.8 | 180 | 3.07 | 3.780 | 18.00 | 0 | 0 | 3 | 3 |\n",
       "| Cadillac Fleetwood | 10.4 | 8 | 472.0 | 205 | 2.93 | 5.250 | 17.98 | 0 | 0 | 3 | 4 |\n",
       "| Lincoln Continental | 10.4 | 8 | 460.0 | 215 | 3.00 | 5.424 | 17.82 | 0 | 0 | 3 | 4 |\n",
       "| Chrysler Imperial | 14.7 | 8 | 440.0 | 230 | 3.23 | 5.345 | 17.42 | 0 | 0 | 3 | 4 |\n",
       "| Fiat 128 | 32.4 | 4 |  78.7 |  66 | 4.08 | 2.200 | 19.47 | 1 | 1 | 4 | 1 |\n",
       "| Honda Civic | 30.4 | 4 |  75.7 |  52 | 4.93 | 1.615 | 18.52 | 1 | 1 | 4 | 2 |\n",
       "| Toyota Corolla | 33.9 | 4 |  71.1 |  65 | 4.22 | 1.835 | 19.90 | 1 | 1 | 4 | 1 |\n",
       "| Toyota Corona | 21.5 | 4 | 120.1 |  97 | 3.70 | 2.465 | 20.01 | 1 | 0 | 3 | 1 |\n",
       "| Dodge Challenger | 15.5 | 8 | 318.0 | 150 | 2.76 | 3.520 | 16.87 | 0 | 0 | 3 | 2 |\n",
       "| AMC Javelin | 15.2 | 8 | 304.0 | 150 | 3.15 | 3.435 | 17.30 | 0 | 0 | 3 | 2 |\n",
       "| Camaro Z28 | 13.3 | 8 | 350.0 | 245 | 3.73 | 3.840 | 15.41 | 0 | 0 | 3 | 4 |\n",
       "| Pontiac Firebird | 19.2 | 8 | 400.0 | 175 | 3.08 | 3.845 | 17.05 | 0 | 0 | 3 | 2 |\n",
       "| Fiat X1-9 | 27.3 | 4 |  79.0 |  66 | 4.08 | 1.935 | 18.90 | 1 | 1 | 4 | 1 |\n",
       "| Porsche 914-2 | 26.0 | 4 | 120.3 |  91 | 4.43 | 2.140 | 16.70 | 0 | 1 | 5 | 2 |\n",
       "| Lotus Europa | 30.4 | 4 |  95.1 | 113 | 3.77 | 1.513 | 16.90 | 1 | 1 | 5 | 2 |\n",
       "| Ford Pantera L | 15.8 | 8 | 351.0 | 264 | 4.22 | 3.170 | 14.50 | 0 | 1 | 5 | 4 |\n",
       "| Ferrari Dino | 19.7 | 6 | 145.0 | 175 | 3.62 | 2.770 | 15.50 | 0 | 1 | 5 | 6 |\n",
       "| Maserati Bora | 15.0 | 8 | 301.0 | 335 | 3.54 | 3.570 | 14.60 | 0 | 1 | 5 | 8 |\n",
       "| Volvo 142E | 21.4 | 4 | 121.0 | 109 | 4.11 | 2.780 | 18.60 | 1 | 1 | 4 | 2 |\n",
       "\n"
      ],
      "text/plain": [
       "                    mpg  cyl disp  hp  drat wt    qsec  vs am gear carb\n",
       "Mazda RX4           21.0 6   160.0 110 3.90 2.620 16.46 0  1  4    4   \n",
       "Mazda RX4 Wag       21.0 6   160.0 110 3.90 2.875 17.02 0  1  4    4   \n",
       "Datsun 710          22.8 4   108.0  93 3.85 2.320 18.61 1  1  4    1   \n",
       "Hornet 4 Drive      21.4 6   258.0 110 3.08 3.215 19.44 1  0  3    1   \n",
       "Hornet Sportabout   18.7 8   360.0 175 3.15 3.440 17.02 0  0  3    2   \n",
       "Valiant             18.1 6   225.0 105 2.76 3.460 20.22 1  0  3    1   \n",
       "Duster 360          14.3 8   360.0 245 3.21 3.570 15.84 0  0  3    4   \n",
       "Merc 240D           24.4 4   146.7  62 3.69 3.190 20.00 1  0  4    2   \n",
       "Merc 230            22.8 4   140.8  95 3.92 3.150 22.90 1  0  4    2   \n",
       "Merc 280            19.2 6   167.6 123 3.92 3.440 18.30 1  0  4    4   \n",
       "Merc 280C           17.8 6   167.6 123 3.92 3.440 18.90 1  0  4    4   \n",
       "Merc 450SE          16.4 8   275.8 180 3.07 4.070 17.40 0  0  3    3   \n",
       "Merc 450SL          17.3 8   275.8 180 3.07 3.730 17.60 0  0  3    3   \n",
       "Merc 450SLC         15.2 8   275.8 180 3.07 3.780 18.00 0  0  3    3   \n",
       "Cadillac Fleetwood  10.4 8   472.0 205 2.93 5.250 17.98 0  0  3    4   \n",
       "Lincoln Continental 10.4 8   460.0 215 3.00 5.424 17.82 0  0  3    4   \n",
       "Chrysler Imperial   14.7 8   440.0 230 3.23 5.345 17.42 0  0  3    4   \n",
       "Fiat 128            32.4 4    78.7  66 4.08 2.200 19.47 1  1  4    1   \n",
       "Honda Civic         30.4 4    75.7  52 4.93 1.615 18.52 1  1  4    2   \n",
       "Toyota Corolla      33.9 4    71.1  65 4.22 1.835 19.90 1  1  4    1   \n",
       "Toyota Corona       21.5 4   120.1  97 3.70 2.465 20.01 1  0  3    1   \n",
       "Dodge Challenger    15.5 8   318.0 150 2.76 3.520 16.87 0  0  3    2   \n",
       "AMC Javelin         15.2 8   304.0 150 3.15 3.435 17.30 0  0  3    2   \n",
       "Camaro Z28          13.3 8   350.0 245 3.73 3.840 15.41 0  0  3    4   \n",
       "Pontiac Firebird    19.2 8   400.0 175 3.08 3.845 17.05 0  0  3    2   \n",
       "Fiat X1-9           27.3 4    79.0  66 4.08 1.935 18.90 1  1  4    1   \n",
       "Porsche 914-2       26.0 4   120.3  91 4.43 2.140 16.70 0  1  5    2   \n",
       "Lotus Europa        30.4 4    95.1 113 3.77 1.513 16.90 1  1  5    2   \n",
       "Ford Pantera L      15.8 8   351.0 264 4.22 3.170 14.50 0  1  5    4   \n",
       "Ferrari Dino        19.7 6   145.0 175 3.62 2.770 15.50 0  1  5    6   \n",
       "Maserati Bora       15.0 8   301.0 335 3.54 3.570 14.60 0  1  5    8   \n",
       "Volvo 142E          21.4 4   121.0 109 4.11 2.780 18.60 1  1  4    2   "
      ]
     },
     "metadata": {},
     "output_type": "display_data"
    }
   ],
   "source": [
    "mtcars"
   ]
  },
  {
   "cell_type": "code",
   "execution_count": 31,
   "metadata": {
    "scrolled": true
   },
   "outputs": [
    {
     "data": {
      "image/png": "[encoded data removed]",
      "text/plain": [
       "Plot with title “Rendimiento de autos.”"
      ]
     },
     "metadata": {
      "image/png": {
       "height": 420,
       "width": 420
      }
     },
     "output_type": "display_data"
    }
   ],
   "source": [
    "dotchart(mtcars$mpg, labels=row.names(mtcars), cex=.7,\n",
    "main=\"Rendimiento de autos.\",\n",
    "xlab=\"Millas por Galon\")"
   ]
  },
  {
   "cell_type": "code",
   "execution_count": 33,
   "metadata": {
    "scrolled": true
   },
   "outputs": [
    {
     "name": "stderr",
     "output_type": "stream",
     "text": [
      "Installing package into ‘/home/josech/R/x86_64-pc-linux-gnu-library/3.6’\n",
      "(as ‘lib’ is unspecified)\n",
      "\n",
      "also installing the dependencies ‘curl’, ‘openssl’, ‘httr’, ‘rvest’, ‘xml2’\n",
      "\n",
      "\n",
      "Warning message in install.packages(\"tidyverse\"):\n",
      "“installation of package ‘curl’ had non-zero exit status”\n",
      "Warning message in install.packages(\"tidyverse\"):\n",
      "“installation of package ‘openssl’ had non-zero exit status”\n",
      "Warning message in install.packages(\"tidyverse\"):\n",
      "“installation of package ‘xml2’ had non-zero exit status”\n",
      "Warning message in install.packages(\"tidyverse\"):\n",
      "“installation of package ‘httr’ had non-zero exit status”\n",
      "Warning message in install.packages(\"tidyverse\"):\n",
      "“installation of package ‘rvest’ had non-zero exit status”\n",
      "Warning message in install.packages(\"tidyverse\"):\n",
      "“installation of package ‘tidyverse’ had non-zero exit status”\n"
     ]
    }
   ],
   "source": [
    "install.packages(\"tidyverse\")"
   ]
  },
  {
   "cell_type": "code",
   "execution_count": 40,
   "metadata": {},
   "outputs": [
    {
     "data": {
      "text/html": [
       "<strong>png:</strong> 2"
      ],
      "text/latex": [
       "\\textbf{png:} 2"
      ],
      "text/markdown": [
       "**png:** 2"
      ],
      "text/plain": [
       "png \n",
       "  2 "
      ]
     },
     "metadata": {},
     "output_type": "display_data"
    }
   ],
   "source": [
    "png(file = \"imagen-nueva.png\", bg = \"transparent\")\n",
    "opar <- par(no.readonly=TRUE)\n",
    "par(lty=2, pch=12, col=\"blue\", mfrow=c(2,2))\n",
    "spine(conteos, main=\"Espinograma\")\n",
    "pie(rebanadas, labels = nombres,\n",
    "main=\"Gráfico de Pay\", col=c('red', 'blue', 'yellow', 'green', 'cyan'))\n",
    "barplot(conteos,\n",
    "main=\"Barras agrupadas\",\n",
    "xlab=\"Tratamiento\", ylab=\"Frecuencia\",\n",
    "col=c(\"red\", \"blue\",\"cyan\"),\n",
    "legend=rownames(conteos), beside=TRUE)\n",
    "barplot(conteo,\n",
    "main=\"Gráfico de Barras\",\n",
    "xlab=\"Frecuencia\", ylab=\"Mejora\", horiz=TRUE)\n",
    "dev.off()"
   ]
  },
  {
   "cell_type": "markdown",
   "metadata": {},
   "source": [
    "<p style=\"text-align: center\"><a rel=\"license\" href=\"http://creativecommons.org/licenses/by/4.0/\"><img alt=\"Licencia Creative Commons\" style=\"border-width:0\" src=\"https://i.creativecommons.org/l/by/4.0/80x15.png\" /></a><br />Esta obra está bajo una <a rel=\"license\" href=\"http://creativecommons.org/licenses/by/4.0/\">Licencia Creative Commons Atribución 4.0 Internacional</a>.</p>\n",
    "<p style=\"text-align: center\">&copy; José Luis Chiquete Valdivieso. 2020.</p>"
   ]
  }
 ],
 "metadata": {
  "kernelspec": {
   "display_name": "R",
   "language": "R",
   "name": "ir"
  },
  "language_info": {
   "codemirror_mode": "r",
   "file_extension": ".r",
   "mimetype": "text/x-r-source",
   "name": "R",
   "pygments_lexer": "r",
   "version": "3.6.3"
  }
 },
 "nbformat": 4,
 "nbformat_minor": 2
}
