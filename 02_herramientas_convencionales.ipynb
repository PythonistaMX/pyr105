{
 "cells": [
  {
   "cell_type": "markdown",
   "metadata": {},
   "source": [
    "<a href=\"https://www.pythonista.io\"> <img src=\"img/pythonista.png\"></a>"
   ]
  },
  {
   "cell_type": "markdown",
   "metadata": {},
   "source": [
    "# Herramientas convencionales.\n",
    "\n",
    "  "
   ]
  },
  {
   "cell_type": "markdown",
   "metadata": {},
   "source": [
    "## Paquetes especializados.\n",
    "\n",
    "La cantidad de paquetes de software especializadso en el análisis de datos y cómputo científicos es [muy extenso](https://en.wikipedia.org/wiki/List_of_statistical_software). Algunos de los más populares en al industria son:\n",
    "\n",
    "* [*Matlab*](https://la.mathworks.com/products/matlab.html)\n",
    "* [*SPSS*](https://www.ibm.com/analytics/spss-statistics-software)\n",
    "* [*Mathematica*](https://www.wolfram.com/mathematica/)\n",
    "* [*GNU Octave*](https://www.gnu.org/software/octave/index)\n",
    "\n",
    "Sin embargo, es posible realizar operaciones básicas de análisis de datos incluso con hojas de cálculo."
   ]
  },
  {
   "cell_type": "markdown",
   "metadata": {},
   "source": [
    "## Lenguajes de programación.\n",
    "\n",
    "Uno de los campos que más ha crecido en la última década es el de desarrollo de algoritmos especializados en temas realcionados con la ciencia de datos.\n",
    "\n",
    "Todos los keguajes de programación *Turing complete* pueden ejecutar cualquier algoritmo. Sin embargo, los lenguajes de programación más utilizados actualmente son:\n",
    "\n",
    "* *R*.\n",
    "* *Python*.\n",
    "* *Scala*.\n",
    "* *Julia*.\n",
    "* *Javascript*."
   ]
  },
  {
   "cell_type": "markdown",
   "metadata": {},
   "source": [
    "## El lenguaje *R*.\n",
    "\n",
    "[*R*](https://www.r-project.org/) es un lenguaje de programación de código abierto que ha sido durante un par de décadas el lenguaje más popular para el análisis de datos. Es un lenguaje de dominio que cuenta con herramientas altamente especializadas y que ha sido adoptado por grandes organizaciones. \n",
    "\n",
    "*R* tiene las siguientes caracteríticas:\n",
    "\n",
    "* Es un lenguaje interpretado.\n",
    "* Posee un *shell* interactivo que perimte operaciones *REPL* (leer, evaluar, imprimir, ciclar).\n",
    "* Es multiplatforma.\n",
    "* Es extensible.\n",
    "* Puede interactuar con otros lenguajes de programación."
   ]
  },
  {
   "cell_type": "markdown",
   "metadata": {},
   "source": [
    "## El repositorio *CRAN*.\n",
    "\n",
    "*The Comprehensive R Archive Network* o [*CRAN*](https://cran.r-project.org/) es el principal repositorio de paquetes de proyectos de *R*. El aservo contenido en el *CRAN* es una de las mayores ventajas en la adopción de *R*. "
   ]
  },
  {
   "cell_type": "markdown",
   "metadata": {},
   "source": [
    "## El entrono integrado de desarrollo *R Studio*.\n",
    "\n",
    "Un entorno integrado de desarrollo es una herramienta que permite editar, depurar, compilar (en su caso), ejecutar y guardar código. Múltiples *IDE* soportan a R.\n",
    "\n",
    "[*R Studio*](https://rstudio.com/) es un *IDE* especializado en *R* de gran popularidad, el cual permite realizar operaciones avanzadas, como acceso a los paquetes del *CRAN*."
   ]
  },
  {
   "cell_type": "markdown",
   "metadata": {},
   "source": [
    "## El servidor *Shiny*.\n",
    "\n",
    "[*Shiny*](https://shiny.rstudio.com/) es un paquete que permite publicar contenido web a partir de las visualizaciones generadas mediante *R*."
   ]
  },
  {
   "cell_type": "markdown",
   "metadata": {},
   "source": [
    "## *Jupyter*.\n",
    "\n",
    "[*Jupyter*](https://jupyter.org/) es una herramienta que permite desplegar *notebooks*, los cuales son archivos que contienen tanto texto formateado usando la sintaxis de [*Markdown*](https://markdown.es/) como código ejecutable en varios lenguajes que permitan ejecutar *REPL*. Su nombre es una contracción de *JUlia*, *PYthon* y *R*.\n",
    "\n",
    "Aún cuando *Jupyter* está basado en *Python*, es posible crear *notebooks* cuyo *kernel* sea un interprete de *R*."
   ]
  },
  {
   "cell_type": "markdown",
   "metadata": {},
   "source": [
    "## *Anaconda.*\n",
    "\n",
    "[*Anaconda*](https://anaconda.org/) es una plataforma de software que ofrece una enorme gama de herramientas para análisis de datos. Esta plataforma incluye entre otros componentes a *Jupyter* y *R Studio*, así como su propio gestor de paquetes llamado ```conda```.  "
   ]
  },
  {
   "cell_type": "markdown",
   "metadata": {},
   "source": [
    "### Instalación del *kernel* de *R* con ```conda```."
   ]
  },
  {
   "cell_type": "code",
   "execution_count": null,
   "metadata": {},
   "outputs": [],
   "source": [
    "!conda install -c r r-irkernel"
   ]
  },
  {
   "cell_type": "markdown",
   "metadata": {},
   "source": [
    "## El servicio de *Google Colaboratory*.\n",
    "\n",
    "*Google* cuenta con un servicio en línea capaz de desplegar *notebooks* basadas en *Jupyter* llamando [*Google Colaboratory*](https://colab.research.google.com).\n",
    "\n",
    "Aún cuando las notebooks de *Google Colaboratory* se despliegan por defecto usando el kernel de *Python*, es posible crear una *notebook* con el kernel de *R* de la siguiente manera:\n",
    "\n",
    " https://colab.research.google.com/notebook#create=true&language=r"
   ]
  },
  {
   "cell_type": "markdown",
   "metadata": {},
   "source": [
    "<p style=\"text-align: center\"><a rel=\"license\" href=\"http://creativecommons.org/licenses/by/4.0/\"><img alt=\"Licencia Creative Commons\" style=\"border-width:0\" src=\"https://i.creativecommons.org/l/by/4.0/80x15.png\" /></a><br />Esta obra está bajo una <a rel=\"license\" href=\"http://creativecommons.org/licenses/by/4.0/\">Licencia Creative Commons Atribución 4.0 Internacional</a>.</p>\n",
    "<p style=\"text-align: center\">&copy; José Luis Chiquete Valdivieso. 2020.</p>"
   ]
  }
 ],
 "metadata": {
  "kernelspec": {
   "display_name": "Python 3",
   "language": "python",
   "name": "python3"
  },
  "language_info": {
   "codemirror_mode": {
    "name": "ipython",
    "version": 3
   },
   "file_extension": ".py",
   "mimetype": "text/x-python",
   "name": "python",
   "nbconvert_exporter": "python",
   "pygments_lexer": "ipython3",
   "version": "3.8.5"
  }
 },
 "nbformat": 4,
 "nbformat_minor": 2
}
