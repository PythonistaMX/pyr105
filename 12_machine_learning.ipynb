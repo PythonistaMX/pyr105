{
 "cells": [
  {
   "cell_type": "markdown",
   "metadata": {},
   "source": [
    "# Machine Learning."
   ]
  },
  {
   "cell_type": "markdown",
   "metadata": {},
   "source": [
    "## Aprendizaje Estadísitico.\n",
    "\n",
    "El aprendizaje estadístico (Statistical Learning (SL) en inglés) es\n",
    "un vasto conjunto de herramientas cuyo objetivo principal es\n",
    "obtener el mayor conocimiento posible de un conjunto de datos.\n",
    "\n",
    "* Dependiendo del tipo de pregunta que deseamos realizar acerca de\n",
    "la naturaleza de los datos será la técnica que se utilizará.\n",
    "* De manera general, las técnicas de aprendizaje en SL se pueden\n",
    " clasificar en dos grandes rubros: Supervisado y No Supervisado\n",
    "* Uno de los principales objetivos del SL es el de predicción."
   ]
  },
  {
   "cell_type": "markdown",
   "metadata": {},
   "source": [
    "## Statistical Learning y Machine Learning.\n",
    "\n",
    "* ML es una rama de la Inteligencia Artificial.\n",
    "*  SL surgió como una rama de la Estadística.\n",
    "* Hay mucho en común entre las dos disciplinas, tanto el objetivo\n",
    "principal (predicción), como la clasificacion de problemas\n",
    "(supervisado vs. no supervisado).\n",
    "    * ML : Se enfoca a problemas de gran escala y/o tiempo reducido y está enfocado a soluciones con Exactitud.\n",
    "    * SL enfatiza en los modelos, su interpretación y la medición de su eficacia y está enfocado a soluciones con un balance entre Exactitud y Precisión.\n",
    "* La division entre ambas disciplinas cada ves es más tenue."
   ]
  },
  {
   "cell_type": "markdown",
   "metadata": {},
   "source": [
    "## Conceptos matemáticos.\n",
    "\n",
    "https://sites.google.com/a/ciencias.unam.mx/statistical_learning/clase"
   ]
  },
  {
   "cell_type": "markdown",
   "metadata": {},
   "source": [
    "## Principales algoritmos.\n",
    "\n",
    "https://en.wikipedia.org/wiki/Outline_of_machine_learning#Machine_learning_algorithms"
   ]
  },
  {
   "cell_type": "markdown",
   "metadata": {},
   "source": [
    "### K Neares Neighbors."
   ]
  },
  {
   "cell_type": "markdown",
   "metadata": {},
   "source": [
    "### K Means Clustering."
   ]
  },
  {
   "cell_type": "markdown",
   "metadata": {},
   "source": [
    "### Naive Bayes Classification. "
   ]
  },
  {
   "cell_type": "markdown",
   "metadata": {},
   "source": [
    "### Métodos de Regresión."
   ]
  },
  {
   "cell_type": "markdown",
   "metadata": {},
   "source": [
    "### Support Vector Machines."
   ]
  },
  {
   "cell_type": "markdown",
   "metadata": {},
   "source": [
    "### Self-organized Maps. "
   ]
  },
  {
   "cell_type": "markdown",
   "metadata": {},
   "source": [
    "### Árboles de Decisión."
   ]
  },
  {
   "cell_type": "markdown",
   "metadata": {},
   "source": [
    "### Redes neuronales."
   ]
  },
  {
   "cell_type": "markdown",
   "metadata": {},
   "source": [
    "<p style=\"text-align: center\"><a rel=\"license\" href=\"http://creativecommons.org/licenses/by/4.0/\"><img alt=\"Licencia Creative Commons\" style=\"border-width:0\" src=\"https://i.creativecommons.org/l/by/4.0/80x15.png\" /></a><br />Esta obra está bajo una <a rel=\"license\" href=\"http://creativecommons.org/licenses/by/4.0/\">Licencia Creative Commons Atribución 4.0 Internacional</a>.</p>\n",
    "<p style=\"text-align: center\">&copy; José Luis Chiquete Valdivieso. 2020.</p>"
   ]
  }
 ],
 "metadata": {
  "kernelspec": {
   "display_name": "R",
   "language": "R",
   "name": "ir"
  },
  "language_info": {
   "codemirror_mode": "r",
   "file_extension": ".r",
   "mimetype": "text/x-r-source",
   "name": "R",
   "pygments_lexer": "r",
   "version": "3.6.3"
  }
 },
 "nbformat": 4,
 "nbformat_minor": 2
}
